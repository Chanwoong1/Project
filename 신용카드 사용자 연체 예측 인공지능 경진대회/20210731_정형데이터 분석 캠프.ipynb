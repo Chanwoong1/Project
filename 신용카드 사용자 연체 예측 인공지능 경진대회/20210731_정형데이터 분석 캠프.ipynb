{
 "cells": [
  {
   "cell_type": "markdown",
   "metadata": {},
   "source": [
    "## 0. Today...\n",
    "\n",
    "1. Metric & Object\n",
    "2. Classification Algorithm (Machine Learning)\n",
    "3. Validation\n",
    "4. Feature Engineering"
   ]
  },
  {
   "cell_type": "code",
   "execution_count": 1,
   "metadata": {},
   "outputs": [],
   "source": [
    "import os\n",
    "import warnings\n",
    "warnings.filterwarnings(\"ignore\")\n",
    "\n",
    "import numpy as np\n",
    "import pandas as pd\n",
    "import matplotlib as mpl \n",
    "import matplotlib.pyplot as plt\n",
    "import seaborn as sns"
   ]
  },
  {
   "cell_type": "code",
   "execution_count": 3,
   "metadata": {},
   "outputs": [
    {
     "name": "stdout",
     "output_type": "stream",
     "text": [
      "./data/train.csv\n",
      "./data/test.csv\n"
     ]
    }
   ],
   "source": [
    "BASE_DIR = './data/'\n",
    "train_path = os.path.join(BASE_DIR, 'train.csv')\n",
    "test_path = os.path.join(BASE_DIR, 'test.csv')\n",
    "sub_path = os.path.join(BASE_DIR, 'sample_submission.csv')\n",
    "\n",
    "print(train_path)\n",
    "print(test_path)"
   ]
  },
  {
   "cell_type": "code",
   "execution_count": 4,
   "metadata": {},
   "outputs": [],
   "source": [
    "train = pd.read_csv(train_path)\n",
    "test = pd.read_csv(test_path)\n",
    "sub = pd.read_csv(sub_path)\n",
    "\n",
    "target = train['credit']\n",
    "train.drop('credit', axis = 1, inplace = True)"
   ]
  },
  {
   "cell_type": "code",
   "execution_count": 9,
   "metadata": {},
   "outputs": [
    {
     "name": "stdout",
     "output_type": "stream",
     "text": [
      "Categorical columns : \n",
      "['gender', 'car', 'reality', 'income_type', 'edu_type', 'family_type', 'house_type', 'occyp_type']\n",
      "\n",
      "Numeric columns : \n",
      "['index', 'child_num', 'income_total', 'DAYS_BIRTH', 'DAYS_EMPLOYED', 'FLAG_MOBIL', 'work_phone', 'phone', 'email', 'family_size', 'begin_month']\n",
      "\n"
     ]
    }
   ],
   "source": [
    "cat_columns = [c for c, t in zip (train.dtypes.index, train.dtypes) if t == 'O']\n",
    "num_columns = [c for c in train.columns if c not in cat_columns]\n",
    "\n",
    "print(f'Categorical columns : \\n{cat_columns}\\n')\n",
    "print(f'Numeric columns : \\n{num_columns}\\n')"
   ]
  },
  {
   "cell_type": "code",
   "execution_count": 10,
   "metadata": {},
   "outputs": [
    {
     "data": {
      "text/html": [
       "<div>\n",
       "<style scoped>\n",
       "    .dataframe tbody tr th:only-of-type {\n",
       "        vertical-align: middle;\n",
       "    }\n",
       "\n",
       "    .dataframe tbody tr th {\n",
       "        vertical-align: top;\n",
       "    }\n",
       "\n",
       "    .dataframe thead th {\n",
       "        text-align: right;\n",
       "    }\n",
       "</style>\n",
       "<table border=\"1\" class=\"dataframe\">\n",
       "  <thead>\n",
       "    <tr style=\"text-align: right;\">\n",
       "      <th></th>\n",
       "      <th>index</th>\n",
       "      <th>gender</th>\n",
       "      <th>car</th>\n",
       "      <th>reality</th>\n",
       "      <th>child_num</th>\n",
       "      <th>income_total</th>\n",
       "      <th>income_type</th>\n",
       "      <th>edu_type</th>\n",
       "      <th>family_type</th>\n",
       "      <th>house_type</th>\n",
       "      <th>DAYS_BIRTH</th>\n",
       "      <th>DAYS_EMPLOYED</th>\n",
       "      <th>FLAG_MOBIL</th>\n",
       "      <th>work_phone</th>\n",
       "      <th>phone</th>\n",
       "      <th>email</th>\n",
       "      <th>occyp_type</th>\n",
       "      <th>family_size</th>\n",
       "      <th>begin_month</th>\n",
       "    </tr>\n",
       "  </thead>\n",
       "  <tbody>\n",
       "    <tr>\n",
       "      <th>0</th>\n",
       "      <td>0</td>\n",
       "      <td>F</td>\n",
       "      <td>N</td>\n",
       "      <td>N</td>\n",
       "      <td>0</td>\n",
       "      <td>202500.0</td>\n",
       "      <td>Commercial associate</td>\n",
       "      <td>Higher education</td>\n",
       "      <td>Married</td>\n",
       "      <td>Municipal apartment</td>\n",
       "      <td>-13899</td>\n",
       "      <td>-4709</td>\n",
       "      <td>1</td>\n",
       "      <td>0</td>\n",
       "      <td>0</td>\n",
       "      <td>0</td>\n",
       "      <td>NaN</td>\n",
       "      <td>2.0</td>\n",
       "      <td>-6.0</td>\n",
       "    </tr>\n",
       "    <tr>\n",
       "      <th>1</th>\n",
       "      <td>1</td>\n",
       "      <td>F</td>\n",
       "      <td>N</td>\n",
       "      <td>Y</td>\n",
       "      <td>1</td>\n",
       "      <td>247500.0</td>\n",
       "      <td>Commercial associate</td>\n",
       "      <td>Secondary / secondary special</td>\n",
       "      <td>Civil marriage</td>\n",
       "      <td>House / apartment</td>\n",
       "      <td>-11380</td>\n",
       "      <td>-1540</td>\n",
       "      <td>1</td>\n",
       "      <td>0</td>\n",
       "      <td>0</td>\n",
       "      <td>1</td>\n",
       "      <td>Laborers</td>\n",
       "      <td>3.0</td>\n",
       "      <td>-5.0</td>\n",
       "    </tr>\n",
       "    <tr>\n",
       "      <th>2</th>\n",
       "      <td>2</td>\n",
       "      <td>M</td>\n",
       "      <td>Y</td>\n",
       "      <td>Y</td>\n",
       "      <td>0</td>\n",
       "      <td>450000.0</td>\n",
       "      <td>Working</td>\n",
       "      <td>Higher education</td>\n",
       "      <td>Married</td>\n",
       "      <td>House / apartment</td>\n",
       "      <td>-19087</td>\n",
       "      <td>-4434</td>\n",
       "      <td>1</td>\n",
       "      <td>0</td>\n",
       "      <td>1</td>\n",
       "      <td>0</td>\n",
       "      <td>Managers</td>\n",
       "      <td>2.0</td>\n",
       "      <td>-22.0</td>\n",
       "    </tr>\n",
       "    <tr>\n",
       "      <th>3</th>\n",
       "      <td>3</td>\n",
       "      <td>F</td>\n",
       "      <td>N</td>\n",
       "      <td>Y</td>\n",
       "      <td>0</td>\n",
       "      <td>202500.0</td>\n",
       "      <td>Commercial associate</td>\n",
       "      <td>Secondary / secondary special</td>\n",
       "      <td>Married</td>\n",
       "      <td>House / apartment</td>\n",
       "      <td>-15088</td>\n",
       "      <td>-2092</td>\n",
       "      <td>1</td>\n",
       "      <td>0</td>\n",
       "      <td>1</td>\n",
       "      <td>0</td>\n",
       "      <td>Sales staff</td>\n",
       "      <td>2.0</td>\n",
       "      <td>-37.0</td>\n",
       "    </tr>\n",
       "    <tr>\n",
       "      <th>4</th>\n",
       "      <td>4</td>\n",
       "      <td>F</td>\n",
       "      <td>Y</td>\n",
       "      <td>Y</td>\n",
       "      <td>0</td>\n",
       "      <td>157500.0</td>\n",
       "      <td>State servant</td>\n",
       "      <td>Higher education</td>\n",
       "      <td>Married</td>\n",
       "      <td>House / apartment</td>\n",
       "      <td>-15037</td>\n",
       "      <td>-2105</td>\n",
       "      <td>1</td>\n",
       "      <td>0</td>\n",
       "      <td>0</td>\n",
       "      <td>0</td>\n",
       "      <td>Managers</td>\n",
       "      <td>2.0</td>\n",
       "      <td>-26.0</td>\n",
       "    </tr>\n",
       "  </tbody>\n",
       "</table>\n",
       "</div>"
      ],
      "text/plain": [
       "   index gender car reality  child_num  income_total           income_type  \\\n",
       "0      0      F   N       N          0      202500.0  Commercial associate   \n",
       "1      1      F   N       Y          1      247500.0  Commercial associate   \n",
       "2      2      M   Y       Y          0      450000.0               Working   \n",
       "3      3      F   N       Y          0      202500.0  Commercial associate   \n",
       "4      4      F   Y       Y          0      157500.0         State servant   \n",
       "\n",
       "                        edu_type     family_type           house_type  \\\n",
       "0               Higher education         Married  Municipal apartment   \n",
       "1  Secondary / secondary special  Civil marriage    House / apartment   \n",
       "2               Higher education         Married    House / apartment   \n",
       "3  Secondary / secondary special         Married    House / apartment   \n",
       "4               Higher education         Married    House / apartment   \n",
       "\n",
       "   DAYS_BIRTH  DAYS_EMPLOYED  FLAG_MOBIL  work_phone  phone  email  \\\n",
       "0      -13899          -4709           1           0      0      0   \n",
       "1      -11380          -1540           1           0      0      1   \n",
       "2      -19087          -4434           1           0      1      0   \n",
       "3      -15088          -2092           1           0      1      0   \n",
       "4      -15037          -2105           1           0      0      0   \n",
       "\n",
       "    occyp_type  family_size  begin_month  \n",
       "0          NaN          2.0         -6.0  \n",
       "1     Laborers          3.0         -5.0  \n",
       "2     Managers          2.0        -22.0  \n",
       "3  Sales staff          2.0        -37.0  \n",
       "4     Managers          2.0        -26.0  "
      ]
     },
     "execution_count": 10,
     "metadata": {},
     "output_type": "execute_result"
    }
   ],
   "source": [
    "train.head()"
   ]
  },
  {
   "cell_type": "markdown",
   "metadata": {},
   "source": [
    "## 1. Metric\n",
    "\n",
    "> https://scikit-learn.org/stable/modules/classes.html#module-sklearn.metrics\n",
    "\n",
    "### 1-1. Metric\n",
    "\n",
    "모든 일에는 평가지표가 있습니다. \n",
    "흔히 업무에서는 KPI(key performance indicator)라고도 부릅니다.\n",
    "\n",
    "머신러닝 대회는 경쟁입니다. 좋은 등수를 차지하기 위해서는 평가지표부터 알아야 합니다.\n",
    "\n",
    "<div class=\"alert alert-block alert-success\">\n",
    "<b>Tips</b> 평가지표의 계산 방식은 꼭 필요하지만, 이에 따른 특성을 구체적으로 깊이 이해할 필요는 없습니다.\n",
    "    다만 일부 대회는 평가지표를 계산할 때, 여러 테크닉을 사용할 수 있으므로 대회마다 토론(discussion)을 참고하시길 바랍니다.\n",
    "</div>\n",
    "\n",
    "\n",
    "일반적으로 대회나 특정 task에서 사용하는 지표는 다음과 같습니다. \n",
    "\n",
    "- Classification\n",
    "    - accuracy\n",
    "    - F1 score\n",
    "        - mean-F1\n",
    "        - macro-F1\n",
    "        - micro-F1\n",
    "    - Log Loss (=Cross Entropy)\n",
    "    - AUC\n",
    "\n",
    "- regression\n",
    "    - MAE (mean absolute error)\n",
    "    - RMSE (root mean square error)\n"
   ]
  },
  {
   "cell_type": "markdown",
   "metadata": {},
   "source": [
    "### 1-2. 분류 평가지표\n",
    "\n",
    "분류 대회는 일반적으로 다음과 같이 예측을 제출합니다.\n",
    "\n",
    "- 이진분류(binary classification) : positive일 확률 제출\n",
    "- 다양한 분류 : 각 범주 별 확률 제출\n",
    "\n",
    "그렇기에 이진분류를 예시로 사용하면 결과는 총 4가지로 분류됩니다.\n",
    "\n",
    "\n",
    "- **TP(True Positive)** : 예측 정확, 양성\n",
    "- **TN(True Negative)** : 예측 정확, 음성\n",
    "- **FP(False Positive)** : 예측 부정확, 양성\n",
    "- **FN(False Negative)** : 예측 부정확, 음성\n",
    "\n",
    "![](https://cdn.substack.com/image/fetch/f_auto,q_auto:good,fl_progressive:steep/https%3A%2F%2Fbucketeer-e05bbc84-baa3-437e-9518-adb32be77984.s3.amazonaws.com%2Fpublic%2Fimages%2Fd1478aeb-00ca-4f13-9f8e-fb20767b4583_3508x1773.jpeg)"
   ]
  },
  {
   "cell_type": "code",
   "execution_count": 11,
   "metadata": {},
   "outputs": [
    {
     "name": "stdout",
     "output_type": "stream",
     "text": [
      "[[2 0]\n",
      " [3 1]]\n"
     ]
    }
   ],
   "source": [
    "from sklearn.metrics import confusion_matrix\n",
    "y_true = [1, 0, 1, 1, 0, 1]\n",
    "y_pred = [0, 0, 0, 1, 0, 0]\n",
    "result = confusion_matrix(y_true, y_pred)\n",
    "\n",
    "print(result)"
   ]
  },
  {
   "cell_type": "markdown",
   "metadata": {},
   "source": [
    "class 가 많아지면 heatmap으로 보는 것이 가장 좋다."
   ]
  },
  {
   "cell_type": "code",
   "execution_count": 12,
   "metadata": {},
   "outputs": [
    {
     "data": {
      "image/png": "[encoded data removed]",
      "text/plain": [
       "<Figure size 1440x1200 with 2 Axes>"
      ]
     },
     "metadata": {
      "needs_background": "light"
     },
     "output_type": "display_data"
    }
   ],
   "source": [
    "fig, ax = plt.subplots(1, 1, figsize = (12, 10), dpi = 120)\n",
    "sns.heatmap(result,\n",
    "            annot = True,\n",
    "            square = True,\n",
    "            cmap = 'Blues',\n",
    "            ax = ax)\n",
    "\n",
    "ax.set_ylabel('true', fontweight = 'bold')\n",
    "ax.set_xlabel('pred', fontweight = 'bold')\n",
    "\n",
    "ax.invert_xaxis()\n",
    "ax.invert_yaxis()\n",
    "plt.show()"
   ]
  },
  {
   "cell_type": "markdown",
   "metadata": {},
   "source": [
    "FP와 FN의 이유가 무엇일지 고민하는 시간이 반드시 필요하다.\n",
    "꼭 실제 샘플들을 살펴보고 모델에게 어떤 점이 부족한지 알아야 한다.\n",
    "\n",
    "결론적으로 여기서 얻을 수 있는 첫번째 metric은 **정확도(accuracy)** 이다.\n",
    "\n",
    "\n",
    "$$accuracy = \\frac{TP+TN}{TP+TN+FP+FN}$$\n",
    "\n",
    "`정답 / 전체`로 이해할 수 있다. 하지만 불균형 데이터의 경우는 이 내용이 쉽지 않다. \n",
    "\n",
    "이것을 방지하기 위한 metric은 **F1 Score** 다.\n",
    "\n",
    "$$F_1 = \\frac{2}{\\frac{1}{recall} + \\frac{1}{precision}}$$\n",
    "\n",
    "여기서 recall은 재현율, precision은 정밀도라 한다.\n",
    "\n",
    "$${precision} = \\frac{tp}{tp + fp}$$\n",
    "$${recall} = \\frac{tp}{tp + fn}$$\n",
    "\n",
    "여기서 recall 또는 precision이 더 중요한 경우\n",
    "\n",
    "$${F_\\beta} = \\frac{1}{\\frac{\\beta^2}{recall} + \\frac{1}{precision}}$$\n",
    "\n",
    "\n",
    "<div class=\"alert alert-block alert-warning\">\n",
    "<b>Quiz</b> 정밀도와 재현율을 평가지표인 대회를 만들 수 있을까?\n",
    "</div>\n",
    "\n",
    "정답은 ..."
   ]
  },
  {
   "cell_type": "code",
   "execution_count": 13,
   "metadata": {},
   "outputs": [
    {
     "name": "stdout",
     "output_type": "stream",
     "text": [
      "0.4\n"
     ]
    }
   ],
   "source": [
    "from sklearn.metrics import f1_score\n",
    "y_true = [1, 0, 1, 1, 0, 1]\n",
    "y_pred = [0, 0, 0, 1, 0, 0]\n",
    "result = f1_score(y_true, y_pred)\n",
    "\n",
    "print(result)"
   ]
  },
  {
   "cell_type": "markdown",
   "metadata": {},
   "source": [
    "sklearn을 사용하지 않고 numpy로 `TP, TN, TP, FN`을 계산해봅시다. (15분)"
   ]
  },
  {
   "cell_type": "code",
   "execution_count": 35,
   "metadata": {},
   "outputs": [],
   "source": [
    "y_true = [1, 0, 1, 1, 0, 1, 0, 1, 0, 0]\n",
    "y_pred = [0, 0, 0, 1, 0, 0, 1, 1, 1, 1]"
   ]
  },
  {
   "cell_type": "code",
   "execution_count": 55,
   "metadata": {},
   "outputs": [],
   "source": [
    "tp = len([t for t, p in zip (y_true, y_pred) if (t == 1) & (p == 1)])\n",
    "tn = len([t for t, p in zip (y_true, y_pred) if (t == 0) & (p == 0)])\n",
    "fp = len([t for t, p in zip (y_true, y_pred) if (t == 0) & (p == 1)])\n",
    "fn = len([t for t, p in zip (y_true, y_pred) if (t == 1) & (p == 0)])"
   ]
  },
  {
   "cell_type": "code",
   "execution_count": 56,
   "metadata": {},
   "outputs": [
    {
     "name": "stdout",
     "output_type": "stream",
     "text": [
      "TP : 2, TN : 2, FP : 3, FN : 3\n"
     ]
    }
   ],
   "source": [
    "print('TP : {}, TN : {}, FP : {}, FN : {}'.format(tp, tn, fp, fn))"
   ]
  },
  {
   "cell_type": "code",
   "execution_count": 38,
   "metadata": {},
   "outputs": [
    {
     "name": "stdout",
     "output_type": "stream",
     "text": [
      "[[2, 3], [3, 2]]\n"
     ]
    }
   ],
   "source": [
    "# 풀이 1 : 반복문\n",
    "result = [[0, 0],\n",
    "          [0, 0]]\n",
    "\n",
    "for t, p in zip(y_true, y_pred) :\n",
    "    result[t][p] += 1\n",
    "    \n",
    "print(result)"
   ]
  },
  {
   "cell_type": "code",
   "execution_count": 39,
   "metadata": {},
   "outputs": [
    {
     "name": "stdout",
     "output_type": "stream",
     "text": [
      "[1 0 1 1 0 1 0 1 0 0]\n",
      "[0 0 0 1 0 0 1 1 1 1]\n"
     ]
    }
   ],
   "source": [
    "# 풀이 2 : numpy\n",
    "y_true = np.array(y_true)\n",
    "y_pred = np.array(y_pred)\n",
    "\n",
    "print(y_true)\n",
    "print(y_pred)"
   ]
  },
  {
   "cell_type": "code",
   "execution_count": 43,
   "metadata": {},
   "outputs": [
    {
     "name": "stdout",
     "output_type": "stream",
     "text": [
      "[ True False  True  True False  True False  True False False]\n",
      "[False False False  True False False  True  True  True  True]\n",
      "[False False False  True False False False  True False False]\n",
      "2\n",
      "3\n",
      "3\n",
      "2\n"
     ]
    }
   ],
   "source": [
    "print(y_true == 1)\n",
    "print(y_pred == 1)\n",
    "print((y_true == 1) & (y_pred == 1))\n",
    "\n",
    "print(((y_true == 1) & (y_pred == 1)).sum())\n",
    "print(((y_true == 1) & (y_pred == 0)).sum())\n",
    "print(((y_true == 0) & (y_pred == 1)).sum())\n",
    "print(((y_true == 0) & (y_pred == 0)).sum())"
   ]
  },
  {
   "cell_type": "markdown",
   "metadata": {},
   "source": [
    "`accuracy, recall, precision, F1 score`를 계산해봅시다. (10분)"
   ]
  },
  {
   "cell_type": "code",
   "execution_count": 27,
   "metadata": {},
   "outputs": [],
   "source": [
    "y_true = [1, 0, 1, 1, 0, 1, 0, 1, 0, 0]\n",
    "y_pred = [0, 0, 0, 1, 0, 0, 1, 1, 1, 1]"
   ]
  },
  {
   "cell_type": "code",
   "execution_count": 57,
   "metadata": {},
   "outputs": [],
   "source": [
    "tp = len([t for t, p in zip (y_true, y_pred) if (t == 1) & (p == 1)])\n",
    "tn = len([t for t, p in zip (y_true, y_pred) if (t == 0) & (p == 0)])\n",
    "fp = len([t for t, p in zip (y_true, y_pred) if (t == 0) & (p == 1)])\n",
    "fn = len([t for t, p in zip (y_true, y_pred) if (t == 1) & (p == 0)])"
   ]
  },
  {
   "cell_type": "code",
   "execution_count": 60,
   "metadata": {},
   "outputs": [],
   "source": [
    "acc = (tp + tn) / (tp + tn + fp + fn)\n",
    "recall = tp / (tp + fn)\n",
    "precision = tp / (tp + fp)\n",
    "f1score = 2 / ((1 / recall) + (1 / precision))"
   ]
  },
  {
   "cell_type": "code",
   "execution_count": 61,
   "metadata": {},
   "outputs": [
    {
     "name": "stdout",
     "output_type": "stream",
     "text": [
      "accurary : 0.4, recall : 0.4, precision : 0.4, f1 score : 0.4\n"
     ]
    }
   ],
   "source": [
    "print('accurary : {}, recall : {}, precision : {}, f1 score : {}'.format(acc, recall, precision, f1score))"
   ]
  },
  {
   "cell_type": "markdown",
   "metadata": {},
   "source": [
    "<div class=\"alert alert-block alert-success\">\n",
    "<b>Tips</b> Category가 많아지만 micro, macro, weighted 등 다양한 방법으로 F1 score를 사용하기도 합니다.\n",
    "</div>"
   ]
  },
  {
   "cell_type": "markdown",
   "metadata": {},
   "source": [
    "### 1-3. 대회 지표 Logloss\n",
    "\n",
    "대회에서는 Logloss(Cross Entropy)라는 지표를 사용합니다.\n",
    "\n",
    "수식을 사용하면 다음과 같습니다.\n",
    "\n",
    "$$logloss = -\\frac{1}{N} \\sum_{i=1}^N \\sum_{m=1}^M y_{i,m}logp_{i,m}$$\n",
    "\n",
    "i번째 데이터와 클래스 m일 확률을 사용하여 계산합니다."
   ]
  },
  {
   "cell_type": "code",
   "execution_count": 65,
   "metadata": {},
   "outputs": [
    {
     "name": "stdout",
     "output_type": "stream",
     "text": [
      "0.9202278211161898\n"
     ]
    }
   ],
   "source": [
    "from sklearn.metrics import log_loss\n",
    "# [1, 0] : 0번째가 정답\n",
    "# [0, 1] : 1번째가 정답\n",
    "y_true_onehot = [[0, 1],\n",
    "                 [0, 1],\n",
    "                 [1, 0],\n",
    "                 [1, 0]]\n",
    "\n",
    "# [0이 정답일 확률, 1이 정답일 확률]\n",
    "y_pred = [[.1, .9],\n",
    "          [.9, .1],\n",
    "          [.8, .2],\n",
    "          [.35, .65]]\n",
    "\n",
    "print(log_loss(y_true_onehot, y_pred))"
   ]
  },
  {
   "cell_type": "markdown",
   "metadata": {},
   "source": [
    "`logloss` 직접구현하기 (15분)"
   ]
  },
  {
   "cell_type": "code",
   "execution_count": 95,
   "metadata": {},
   "outputs": [
    {
     "name": "stdout",
     "output_type": "stream",
     "text": [
      "[[0 1]\n",
      " [0 1]\n",
      " [1 0]\n",
      " [1 0]]\n",
      "[[0.1  0.9 ]\n",
      " [0.9  0.1 ]\n",
      " [0.8  0.2 ]\n",
      " [0.35 0.65]]\n"
     ]
    }
   ],
   "source": [
    "# numpy 이용한 풀이\n",
    "y_true_onehot_np = np.array(y_true_onehot)\n",
    "y_pred_np = np.array(y_pred)\n",
    "print(y_true_onehot_np)\n",
    "print(y_pred_np)"
   ]
  },
  {
   "cell_type": "code",
   "execution_count": 110,
   "metadata": {},
   "outputs": [
    {
     "data": {
      "text/plain": [
       "0.9202278211161898"
      ]
     },
     "execution_count": 110,
     "metadata": {},
     "output_type": "execute_result"
    }
   ],
   "source": [
    "-((y_true_onehot_np) * np.log(y_pred_np)).sum() / len(y_true_onehot_np)"
   ]
  },
  {
   "cell_type": "code",
   "execution_count": 106,
   "metadata": {},
   "outputs": [
    {
     "name": "stdout",
     "output_type": "stream",
     "text": [
      "0.9202278211161898\n"
     ]
    }
   ],
   "source": [
    "# 풀이 1 : 반복문\n",
    "N, M = 4, 2\n",
    "logloss = 0\n",
    "\n",
    "for i in range(N) :\n",
    "    for m in range(M) :\n",
    "        logloss += y_true_onehot[i][m] * np.log(y_pred[i][m])\n",
    "    \n",
    "print(-logloss/N)"
   ]
  },
  {
   "cell_type": "markdown",
   "metadata": {},
   "source": [
    "### 1-4. 그 외 회귀 지표\n",
    "\n",
    "- MAE (Mean Absolute Error)\n",
    "- RMSE (Root Mean Square Error)\n",
    "\n",
    "MAE는 각 값의 차의 절대값을 합하여 평균낸 것입니다."
   ]
  },
  {
   "cell_type": "code",
   "execution_count": 111,
   "metadata": {},
   "outputs": [
    {
     "name": "stdout",
     "output_type": "stream",
     "text": [
      "0.5\n"
     ]
    }
   ],
   "source": [
    "from sklearn.metrics import mean_absolute_error\n",
    "y_true = [3, -0.5, 2, 7]\n",
    "y_pred = [2.5, 0.0, 2, 8]\n",
    "result = mean_absolute_error(y_true, y_pred)\n",
    "\n",
    "print(result)"
   ]
  },
  {
   "cell_type": "markdown",
   "metadata": {},
   "source": [
    "직접 MAE 계산해보기 (10분)"
   ]
  },
  {
   "cell_type": "code",
   "execution_count": 112,
   "metadata": {},
   "outputs": [],
   "source": [
    "y_true = [3, -0.5, 2, 7]\n",
    "y_pred = [2.5, 0.0, 2, 8]"
   ]
  },
  {
   "cell_type": "code",
   "execution_count": 118,
   "metadata": {},
   "outputs": [
    {
     "name": "stdout",
     "output_type": "stream",
     "text": [
      "MSE : 0.5\n"
     ]
    }
   ],
   "source": [
    "y_true = np.array(y_true)\n",
    "y_pred = np.array(y_pred)\n",
    "\n",
    "mse = abs(y_true - y_pred).mean()\n",
    "print('MSE :', mse)"
   ]
  },
  {
   "cell_type": "markdown",
   "metadata": {},
   "source": [
    "RMSE는 각 값의 차를 제곱하여 합한 후에 root를 취한 값입니다."
   ]
  },
  {
   "cell_type": "code",
   "execution_count": 116,
   "metadata": {},
   "outputs": [
    {
     "data": {
      "text/plain": [
       "0.375"
      ]
     },
     "execution_count": 116,
     "metadata": {},
     "output_type": "execute_result"
    }
   ],
   "source": [
    "from sklearn.metrics import mean_squared_error\n",
    "y_true = [3, -0.5, 2, 7]\n",
    "y_pred = [2.5, 0.0, 2, 8]\n",
    "mean_squared_error(y_true, y_pred)"
   ]
  },
  {
   "cell_type": "markdown",
   "metadata": {},
   "source": [
    "직접 RMSE 계산해보기 (10분)"
   ]
  },
  {
   "cell_type": "code",
   "execution_count": 129,
   "metadata": {},
   "outputs": [],
   "source": [
    "y_true = [3, -0.5, 2, 7]\n",
    "y_pred = [2.5, 0.0, 2, 8]"
   ]
  },
  {
   "cell_type": "code",
   "execution_count": 138,
   "metadata": {},
   "outputs": [
    {
     "name": "stdout",
     "output_type": "stream",
     "text": [
      "RMSE : 0.6123724356957945\n"
     ]
    }
   ],
   "source": [
    "y_true = np.array(y_true)\n",
    "y_pred = np.array(y_pred)\n",
    "\n",
    "rmse = (((y_true - y_pred)** 2).mean()) ** (1/2)\n",
    "print('RMSE :', rmse)"
   ]
  },
  {
   "cell_type": "markdown",
   "metadata": {},
   "source": [
    "## 2. Classification Algorithm\n",
    "\n",
    "### 2-1. 다양한 ML 분류 알고리즘\n",
    "\n",
    "경진대회에서는 비교적 적게 쓰기이지만 꼭 알아야 하는 알고리즘입니다.\n",
    "\n",
    "- [K Nearest Neighbors](https://scikit-learn.org/stable/modules/generated/sklearn.neighbors.KNeighborsClassifier.html#sklearn.neighbors.KNeighborsClassifier)\n",
    "- Linear Regression\n",
    "- Logistic Regression\n",
    "- [Support Vector Machine](https://scikit-learn.org/stable/modules/generated/sklearn.svm.SVC.html#sklearn.svm.SVC)\n",
    "- [Decision Tree](https://scikit-learn.org/stable/modules/generated/sklearn.tree.DecisionTreeClassifier.html#sklearn.tree.DecisionTreeClassifier)\n",
    "- [Random Forest](https://scikit-learn.org/stable/modules/generated/sklearn.ensemble.RandomForestClassifier.html)\n",
    "\n",
    "기본 알고리즘을 알아야 하는 이유는 여러가지 입니다.\n",
    "\n",
    "- 현업에서는 프로토타입을 만들 때 사용할 수 있다.\n",
    "- 알고리즘이 직관적인 결과를 제공하여 설명할 수 있다.\n",
    "- 정제된 데이터에서는 기본 알고리즘도 좋은 효과를 낼 수 있다.\n",
    "- Baseline을 만들 때, 쉽게 사용할 수 있다.\n",
    "- 복잡한 알고리즘의 토대가 된다.\n",
    "\n",
    "**실제 경진대회에서 사용하는 알고리즘**\n",
    "\n",
    "정형데이터 대회에서는 다음 알고리즘이 기본적으로 사용됩니다.\n",
    "\n",
    "3일차에 진행할 예정이며 이미 배우신 분들은 미리 사용하셔도 좋습니다.\n",
    "\n",
    "- XGBoost\n",
    "- LGBM\n",
    "- Catboost\n",
    "- TabNet\n",
    "- DNN based Model\n",
    "\n",
    "비정형대회에서는 해당 task에 맞는 방법론들이 사용됩니다."
   ]
  },
  {
   "cell_type": "markdown",
   "metadata": {},
   "source": [
    "### 2-2. 알고리즘을 사용하기에 앞서...\n",
    "\n",
    "해당 기본 알고리즘을 호출해봅시다."
   ]
  },
  {
   "cell_type": "code",
   "execution_count": 139,
   "metadata": {},
   "outputs": [],
   "source": [
    "from sklearn.neighbors import KNeighborsClassifier\n",
    "from sklearn.svm import SVC\n",
    "from sklearn.tree import DecisionTreeClassifier\n",
    "from sklearn.ensemble import RandomForestClassifier"
   ]
  },
  {
   "cell_type": "code",
   "execution_count": 140,
   "metadata": {},
   "outputs": [
    {
     "name": "stdout",
     "output_type": "stream",
     "text": [
      "[1 1 2 2]\n"
     ]
    }
   ],
   "source": [
    "clf = KNeighborsClassifier(n_neighbors=3)\n",
    "X = np.array([[-1, -1], [-2, -1], [1, 1], [2, 1]])\n",
    "y = np.array([1, 1, 2, 2])\n",
    "clf.fit(X,y)\n",
    "print(clf.predict(X))"
   ]
  },
  {
   "cell_type": "code",
   "execution_count": 141,
   "metadata": {},
   "outputs": [
    {
     "name": "stdout",
     "output_type": "stream",
     "text": [
      "[[0.66666667 0.33333333]\n",
      " [0.66666667 0.33333333]\n",
      " [0.33333333 0.66666667]\n",
      " [0.33333333 0.66666667]]\n"
     ]
    }
   ],
   "source": [
    "print(clf.predict_proba(X))"
   ]
  },
  {
   "cell_type": "code",
   "execution_count": 144,
   "metadata": {},
   "outputs": [
    {
     "name": "stdout",
     "output_type": "stream",
     "text": [
      "1.0\n"
     ]
    }
   ],
   "source": [
    "print(clf.score(X,y))"
   ]
  },
  {
   "cell_type": "code",
   "execution_count": 142,
   "metadata": {},
   "outputs": [
    {
     "name": "stdout",
     "output_type": "stream",
     "text": [
      "[1 2]\n"
     ]
    }
   ],
   "source": [
    "print(clf.classes_)"
   ]
  },
  {
   "cell_type": "markdown",
   "metadata": {},
   "source": [
    "이렇게 간단하게 전처리를 합쳐서 파이프라인을 만들 수도있습니다."
   ]
  },
  {
   "cell_type": "code",
   "execution_count": 145,
   "metadata": {},
   "outputs": [
    {
     "data": {
      "text/plain": [
       "Pipeline(steps=[('standardscaler', StandardScaler()),\n",
       "                ('svc', SVC(gamma='auto', probability=True))])"
      ]
     },
     "execution_count": 145,
     "metadata": {},
     "output_type": "execute_result"
    }
   ],
   "source": [
    "from sklearn.pipeline import make_pipeline\n",
    "from sklearn.preprocessing import StandardScaler\n",
    "\n",
    "\n",
    "X = np.array([[-1, -1], [-2, -1], [1, 1], [2, 1]])\n",
    "y = np.array([1, 1, 2, 2])\n",
    "clf = make_pipeline(StandardScaler(), \n",
    "                    SVC(gamma='auto', probability=True))\n",
    "clf.fit(X, y)"
   ]
  },
  {
   "cell_type": "code",
   "execution_count": 146,
   "metadata": {},
   "outputs": [
    {
     "data": {
      "text/plain": [
       "1.0"
      ]
     },
     "execution_count": 146,
     "metadata": {},
     "output_type": "execute_result"
    }
   ],
   "source": [
    "clf.score(X,y)"
   ]
  },
  {
   "cell_type": "markdown",
   "metadata": {},
   "source": [
    "### 2-3. RandomForest로 결과만들기\n",
    "\n",
    "- 범주형 변수는 모두 one-hot encoding으로 바꾸고\n",
    "- 수치형 변수는 그대로 유지\n",
    "- occyp_type의 경우 fillna를 사용하여 'NULL'로 변경\n",
    "- RandomForest 모델을 사용하여 제출 1회하기"
   ]
  },
  {
   "cell_type": "code",
   "execution_count": 167,
   "metadata": {},
   "outputs": [],
   "source": [
    "train = pd.read_csv(train_path)\n",
    "test = pd.read_csv(test_path)\n",
    "sub = pd.read_csv(sub_path)\n",
    "\n",
    "target = train['credit']\n",
    "train.drop('credit', axis = 1, inplace = True)"
   ]
  },
  {
   "cell_type": "code",
   "execution_count": 151,
   "metadata": {},
   "outputs": [],
   "source": [
    "train['occyp_type'].fillna('NULL', inplace = True)\n",
    "test['occyp_type'].fillna('NULL', inplace = True)"
   ]
  },
  {
   "cell_type": "code",
   "execution_count": 155,
   "metadata": {},
   "outputs": [],
   "source": [
    "# pd.get_dummies(train['gender'])\n",
    "train = pd.get_dummies(train)\n",
    "test = pd.get_dummies(test)"
   ]
  },
  {
   "cell_type": "code",
   "execution_count": 156,
   "metadata": {},
   "outputs": [
    {
     "data": {
      "text/plain": [
       "Pipeline(steps=[('standardscaler', StandardScaler()),\n",
       "                ('randomforestclassifier', RandomForestClassifier())])"
      ]
     },
     "execution_count": 156,
     "metadata": {},
     "output_type": "execute_result"
    }
   ],
   "source": [
    "model_rf = make_pipeline( StandardScaler(), RandomForestClassifier() )\n",
    "model_rf.fit(train, target)"
   ]
  },
  {
   "cell_type": "code",
   "execution_count": 158,
   "metadata": {},
   "outputs": [],
   "source": [
    "target_pred = model_rf.predict_proba(test)"
   ]
  },
  {
   "cell_type": "code",
   "execution_count": 159,
   "metadata": {},
   "outputs": [
    {
     "data": {
      "text/html": [
       "<div>\n",
       "<style scoped>\n",
       "    .dataframe tbody tr th:only-of-type {\n",
       "        vertical-align: middle;\n",
       "    }\n",
       "\n",
       "    .dataframe tbody tr th {\n",
       "        vertical-align: top;\n",
       "    }\n",
       "\n",
       "    .dataframe thead th {\n",
       "        text-align: right;\n",
       "    }\n",
       "</style>\n",
       "<table border=\"1\" class=\"dataframe\">\n",
       "  <thead>\n",
       "    <tr style=\"text-align: right;\">\n",
       "      <th></th>\n",
       "      <th>index</th>\n",
       "      <th>0</th>\n",
       "      <th>1</th>\n",
       "      <th>2</th>\n",
       "    </tr>\n",
       "  </thead>\n",
       "  <tbody>\n",
       "    <tr>\n",
       "      <th>0</th>\n",
       "      <td>26457</td>\n",
       "      <td>0</td>\n",
       "      <td>0</td>\n",
       "      <td>0</td>\n",
       "    </tr>\n",
       "    <tr>\n",
       "      <th>1</th>\n",
       "      <td>26458</td>\n",
       "      <td>0</td>\n",
       "      <td>0</td>\n",
       "      <td>0</td>\n",
       "    </tr>\n",
       "    <tr>\n",
       "      <th>2</th>\n",
       "      <td>26459</td>\n",
       "      <td>0</td>\n",
       "      <td>0</td>\n",
       "      <td>0</td>\n",
       "    </tr>\n",
       "    <tr>\n",
       "      <th>3</th>\n",
       "      <td>26460</td>\n",
       "      <td>0</td>\n",
       "      <td>0</td>\n",
       "      <td>0</td>\n",
       "    </tr>\n",
       "    <tr>\n",
       "      <th>4</th>\n",
       "      <td>26461</td>\n",
       "      <td>0</td>\n",
       "      <td>0</td>\n",
       "      <td>0</td>\n",
       "    </tr>\n",
       "    <tr>\n",
       "      <th>...</th>\n",
       "      <td>...</td>\n",
       "      <td>...</td>\n",
       "      <td>...</td>\n",
       "      <td>...</td>\n",
       "    </tr>\n",
       "    <tr>\n",
       "      <th>9995</th>\n",
       "      <td>36452</td>\n",
       "      <td>0</td>\n",
       "      <td>0</td>\n",
       "      <td>0</td>\n",
       "    </tr>\n",
       "    <tr>\n",
       "      <th>9996</th>\n",
       "      <td>36453</td>\n",
       "      <td>0</td>\n",
       "      <td>0</td>\n",
       "      <td>0</td>\n",
       "    </tr>\n",
       "    <tr>\n",
       "      <th>9997</th>\n",
       "      <td>36454</td>\n",
       "      <td>0</td>\n",
       "      <td>0</td>\n",
       "      <td>0</td>\n",
       "    </tr>\n",
       "    <tr>\n",
       "      <th>9998</th>\n",
       "      <td>36455</td>\n",
       "      <td>0</td>\n",
       "      <td>0</td>\n",
       "      <td>0</td>\n",
       "    </tr>\n",
       "    <tr>\n",
       "      <th>9999</th>\n",
       "      <td>36456</td>\n",
       "      <td>0</td>\n",
       "      <td>0</td>\n",
       "      <td>0</td>\n",
       "    </tr>\n",
       "  </tbody>\n",
       "</table>\n",
       "<p>10000 rows × 4 columns</p>\n",
       "</div>"
      ],
      "text/plain": [
       "      index  0  1  2\n",
       "0     26457  0  0  0\n",
       "1     26458  0  0  0\n",
       "2     26459  0  0  0\n",
       "3     26460  0  0  0\n",
       "4     26461  0  0  0\n",
       "...     ... .. .. ..\n",
       "9995  36452  0  0  0\n",
       "9996  36453  0  0  0\n",
       "9997  36454  0  0  0\n",
       "9998  36455  0  0  0\n",
       "9999  36456  0  0  0\n",
       "\n",
       "[10000 rows x 4 columns]"
      ]
     },
     "execution_count": 159,
     "metadata": {},
     "output_type": "execute_result"
    }
   ],
   "source": [
    "sub"
   ]
  },
  {
   "cell_type": "code",
   "execution_count": 165,
   "metadata": {},
   "outputs": [
    {
     "data": {
      "text/html": [
       "<div>\n",
       "<style scoped>\n",
       "    .dataframe tbody tr th:only-of-type {\n",
       "        vertical-align: middle;\n",
       "    }\n",
       "\n",
       "    .dataframe tbody tr th {\n",
       "        vertical-align: top;\n",
       "    }\n",
       "\n",
       "    .dataframe thead th {\n",
       "        text-align: right;\n",
       "    }\n",
       "</style>\n",
       "<table border=\"1\" class=\"dataframe\">\n",
       "  <thead>\n",
       "    <tr style=\"text-align: right;\">\n",
       "      <th></th>\n",
       "      <th>index</th>\n",
       "      <th>0</th>\n",
       "      <th>1</th>\n",
       "      <th>2</th>\n",
       "    </tr>\n",
       "  </thead>\n",
       "  <tbody>\n",
       "    <tr>\n",
       "      <th>0</th>\n",
       "      <td>26457</td>\n",
       "      <td>0.09</td>\n",
       "      <td>0.17</td>\n",
       "      <td>0.74</td>\n",
       "    </tr>\n",
       "    <tr>\n",
       "      <th>1</th>\n",
       "      <td>26458</td>\n",
       "      <td>0.45</td>\n",
       "      <td>0.16</td>\n",
       "      <td>0.39</td>\n",
       "    </tr>\n",
       "    <tr>\n",
       "      <th>2</th>\n",
       "      <td>26459</td>\n",
       "      <td>0.07</td>\n",
       "      <td>0.25</td>\n",
       "      <td>0.68</td>\n",
       "    </tr>\n",
       "    <tr>\n",
       "      <th>3</th>\n",
       "      <td>26460</td>\n",
       "      <td>0.08</td>\n",
       "      <td>0.23</td>\n",
       "      <td>0.69</td>\n",
       "    </tr>\n",
       "    <tr>\n",
       "      <th>4</th>\n",
       "      <td>26461</td>\n",
       "      <td>0.10</td>\n",
       "      <td>0.30</td>\n",
       "      <td>0.60</td>\n",
       "    </tr>\n",
       "    <tr>\n",
       "      <th>...</th>\n",
       "      <td>...</td>\n",
       "      <td>...</td>\n",
       "      <td>...</td>\n",
       "      <td>...</td>\n",
       "    </tr>\n",
       "    <tr>\n",
       "      <th>9995</th>\n",
       "      <td>36452</td>\n",
       "      <td>0.09</td>\n",
       "      <td>0.50</td>\n",
       "      <td>0.41</td>\n",
       "    </tr>\n",
       "    <tr>\n",
       "      <th>9996</th>\n",
       "      <td>36453</td>\n",
       "      <td>0.15</td>\n",
       "      <td>0.29</td>\n",
       "      <td>0.56</td>\n",
       "    </tr>\n",
       "    <tr>\n",
       "      <th>9997</th>\n",
       "      <td>36454</td>\n",
       "      <td>0.01</td>\n",
       "      <td>0.15</td>\n",
       "      <td>0.84</td>\n",
       "    </tr>\n",
       "    <tr>\n",
       "      <th>9998</th>\n",
       "      <td>36455</td>\n",
       "      <td>0.17</td>\n",
       "      <td>0.51</td>\n",
       "      <td>0.32</td>\n",
       "    </tr>\n",
       "    <tr>\n",
       "      <th>9999</th>\n",
       "      <td>36456</td>\n",
       "      <td>0.06</td>\n",
       "      <td>0.37</td>\n",
       "      <td>0.57</td>\n",
       "    </tr>\n",
       "  </tbody>\n",
       "</table>\n",
       "<p>10000 rows × 4 columns</p>\n",
       "</div>"
      ],
      "text/plain": [
       "      index     0     1     2\n",
       "0     26457  0.09  0.17  0.74\n",
       "1     26458  0.45  0.16  0.39\n",
       "2     26459  0.07  0.25  0.68\n",
       "3     26460  0.08  0.23  0.69\n",
       "4     26461  0.10  0.30  0.60\n",
       "...     ...   ...   ...   ...\n",
       "9995  36452  0.09  0.50  0.41\n",
       "9996  36453  0.15  0.29  0.56\n",
       "9997  36454  0.01  0.15  0.84\n",
       "9998  36455  0.17  0.51  0.32\n",
       "9999  36456  0.06  0.37  0.57\n",
       "\n",
       "[10000 rows x 4 columns]"
      ]
     },
     "execution_count": 165,
     "metadata": {},
     "output_type": "execute_result"
    }
   ],
   "source": [
    "sub.iloc[:, 1:] = target_pred\n",
    "sub"
   ]
  },
  {
   "cell_type": "code",
   "execution_count": 166,
   "metadata": {},
   "outputs": [],
   "source": [
    "sub.to_csv('20210731_model_rf.csv', index = False)"
   ]
  },
  {
   "cell_type": "markdown",
   "metadata": {},
   "source": [
    "### 다른 방법"
   ]
  },
  {
   "cell_type": "code",
   "execution_count": 169,
   "metadata": {},
   "outputs": [
    {
     "name": "stdout",
     "output_type": "stream",
     "text": [
      "(26457, 56)\n"
     ]
    }
   ],
   "source": [
    "train_sample = train.copy()\n",
    "ohe_cats = []\n",
    "for cat_col in cat_columns :\n",
    "    ohe_cats.append(pd.get_dummies(train[cat_col], prefix = cat_col, prefix_sep = '-'))\n",
    "    \n",
    "train_sample = train_sample.join(ohe_cats)\n",
    "train_sample.drop(cat_columns, axis = 1, inplace = True)\n",
    "\n",
    "print(train_sample.shape)"
   ]
  },
  {
   "cell_type": "code",
   "execution_count": 171,
   "metadata": {},
   "outputs": [
    {
     "data": {
      "text/plain": [
       "1.0"
      ]
     },
     "execution_count": 171,
     "metadata": {},
     "output_type": "execute_result"
    }
   ],
   "source": [
    "rf = RandomForestClassifier()\n",
    "rf.fit(train_sample, target)\n",
    "\n",
    "rf.score(train_sample, target)"
   ]
  },
  {
   "cell_type": "code",
   "execution_count": 172,
   "metadata": {},
   "outputs": [
    {
     "name": "stdout",
     "output_type": "stream",
     "text": [
      "(10000, 56)\n"
     ]
    }
   ],
   "source": [
    "test_sample = test.copy()\n",
    "ohe_cats = []\n",
    "for cat_col in cat_columns :\n",
    "    ohe_cats.append(pd.get_dummies(test[cat_col], prefix = cat_col, prefix_sep = '-'))\n",
    "    \n",
    "test_sample = test_sample.join(ohe_cats)\n",
    "test_sample.drop(cat_columns, axis = 1, inplace = True)\n",
    "\n",
    "print(test_sample.shape)"
   ]
  },
  {
   "cell_type": "code",
   "execution_count": 174,
   "metadata": {},
   "outputs": [],
   "source": [
    "result = rf.predict_proba(test_sample)"
   ]
  },
  {
   "cell_type": "code",
   "execution_count": 175,
   "metadata": {},
   "outputs": [
    {
     "data": {
      "text/plain": [
       "(10000, 3)"
      ]
     },
     "execution_count": 175,
     "metadata": {},
     "output_type": "execute_result"
    }
   ],
   "source": [
    "result.shape"
   ]
  },
  {
   "cell_type": "code",
   "execution_count": 176,
   "metadata": {},
   "outputs": [
    {
     "data": {
      "text/html": [
       "<div>\n",
       "<style scoped>\n",
       "    .dataframe tbody tr th:only-of-type {\n",
       "        vertical-align: middle;\n",
       "    }\n",
       "\n",
       "    .dataframe tbody tr th {\n",
       "        vertical-align: top;\n",
       "    }\n",
       "\n",
       "    .dataframe thead th {\n",
       "        text-align: right;\n",
       "    }\n",
       "</style>\n",
       "<table border=\"1\" class=\"dataframe\">\n",
       "  <thead>\n",
       "    <tr style=\"text-align: right;\">\n",
       "      <th></th>\n",
       "      <th>index</th>\n",
       "      <th>0</th>\n",
       "      <th>1</th>\n",
       "      <th>2</th>\n",
       "    </tr>\n",
       "  </thead>\n",
       "  <tbody>\n",
       "    <tr>\n",
       "      <th>0</th>\n",
       "      <td>26457</td>\n",
       "      <td>0.12</td>\n",
       "      <td>0.17</td>\n",
       "      <td>0.71</td>\n",
       "    </tr>\n",
       "    <tr>\n",
       "      <th>1</th>\n",
       "      <td>26458</td>\n",
       "      <td>0.34</td>\n",
       "      <td>0.19</td>\n",
       "      <td>0.47</td>\n",
       "    </tr>\n",
       "    <tr>\n",
       "      <th>2</th>\n",
       "      <td>26459</td>\n",
       "      <td>0.08</td>\n",
       "      <td>0.34</td>\n",
       "      <td>0.58</td>\n",
       "    </tr>\n",
       "    <tr>\n",
       "      <th>3</th>\n",
       "      <td>26460</td>\n",
       "      <td>0.10</td>\n",
       "      <td>0.21</td>\n",
       "      <td>0.69</td>\n",
       "    </tr>\n",
       "    <tr>\n",
       "      <th>4</th>\n",
       "      <td>26461</td>\n",
       "      <td>0.14</td>\n",
       "      <td>0.22</td>\n",
       "      <td>0.64</td>\n",
       "    </tr>\n",
       "    <tr>\n",
       "      <th>...</th>\n",
       "      <td>...</td>\n",
       "      <td>...</td>\n",
       "      <td>...</td>\n",
       "      <td>...</td>\n",
       "    </tr>\n",
       "    <tr>\n",
       "      <th>9995</th>\n",
       "      <td>36452</td>\n",
       "      <td>0.04</td>\n",
       "      <td>0.51</td>\n",
       "      <td>0.45</td>\n",
       "    </tr>\n",
       "    <tr>\n",
       "      <th>9996</th>\n",
       "      <td>36453</td>\n",
       "      <td>0.19</td>\n",
       "      <td>0.28</td>\n",
       "      <td>0.53</td>\n",
       "    </tr>\n",
       "    <tr>\n",
       "      <th>9997</th>\n",
       "      <td>36454</td>\n",
       "      <td>0.06</td>\n",
       "      <td>0.10</td>\n",
       "      <td>0.84</td>\n",
       "    </tr>\n",
       "    <tr>\n",
       "      <th>9998</th>\n",
       "      <td>36455</td>\n",
       "      <td>0.18</td>\n",
       "      <td>0.42</td>\n",
       "      <td>0.40</td>\n",
       "    </tr>\n",
       "    <tr>\n",
       "      <th>9999</th>\n",
       "      <td>36456</td>\n",
       "      <td>0.13</td>\n",
       "      <td>0.29</td>\n",
       "      <td>0.58</td>\n",
       "    </tr>\n",
       "  </tbody>\n",
       "</table>\n",
       "<p>10000 rows × 4 columns</p>\n",
       "</div>"
      ],
      "text/plain": [
       "      index     0     1     2\n",
       "0     26457  0.12  0.17  0.71\n",
       "1     26458  0.34  0.19  0.47\n",
       "2     26459  0.08  0.34  0.58\n",
       "3     26460  0.10  0.21  0.69\n",
       "4     26461  0.14  0.22  0.64\n",
       "...     ...   ...   ...   ...\n",
       "9995  36452  0.04  0.51  0.45\n",
       "9996  36453  0.19  0.28  0.53\n",
       "9997  36454  0.06  0.10  0.84\n",
       "9998  36455  0.18  0.42  0.40\n",
       "9999  36456  0.13  0.29  0.58\n",
       "\n",
       "[10000 rows x 4 columns]"
      ]
     },
     "execution_count": 176,
     "metadata": {},
     "output_type": "execute_result"
    }
   ],
   "source": [
    "sub.iloc[:, 1:] = result\n",
    "sub"
   ]
  },
  {
   "cell_type": "code",
   "execution_count": null,
   "metadata": {},
   "outputs": [],
   "source": [
    "index\n",
    "sub.to_csv('20210731_rf.csv', index = False)"
   ]
  },
  {
   "cell_type": "markdown",
   "metadata": {},
   "source": [
    "## 3. Validation\n",
    "\n",
    "### 3-0. Overfitting & Underfitting\n",
    "\n",
    "ML에서 발생할 수 있는 문제점의 대표적인 문제는 이것입니다.\n",
    "\n",
    "**Overfitting을 방지할 수 있는 방법**\n",
    "\n",
    "1. 데이터 관점에서 더 많은 데이터를 확보하면 된다. 더 다양한 유효한 특성을 공부할 것.\n",
    "    - 비정형 데이터에서는 data augmentation 등을 진행\n",
    "2. 모델의 복잡도를 낮춰준다.\n",
    "    - 신경망이라면 모델의 깊이를 낮춰줄 것\n",
    "    - 결정트리 기반이라면 depth를 줄일 것 + 가지치기\n",
    "3. 정규화를 사용한다.\n",
    "    - Ridg, Lasso 등 정규화 사용하는 모델로 변경해볼 것\n",
    "4. 앙상블 모델을 사용한다.\n",
    "    - 여러 모델의 결과를 평균\n",
    "    \n",
    "**Underfitting을 방지할 수 있는 방법**\n",
    "\n",
    "1. 새로운 특성 추가한다.\n",
    "2. 모델의 복잡도 증가시킨다.\n",
    "3. 정규화 계수를 줄인다.\n",
    "\n",
    "---\n",
    "\n",
    "이런 Overfitting과 Underfitting을 확인하기 위해서는 Leaderboard와 본인의 결과가 잘 비교되야 한다.\n",
    "\n",
    "그렇기에 검증은 필수적이다.\n",
    "\n",
    "### 3-1. 검증 (Validataion)\n",
    "\n",
    "- 모델을 만들면서 가장 중요한 것은 모델이 좋은지 나쁜지 평가해야 한다.\n",
    "- 이때 이미 학습에 이용한 데이터로 평가하려 해도 모델은 그 정답을 알고 있는 상황!!\n",
    "- 미지의 데이터에 대한 예측 능력을 평가할 수가 없다.\n",
    "- 학습데이터 중 일부를 사용하여 미지의 데이터로 남겨두고 이를 검증용으로 사용한다.\n",
    "- 모니터링 용도로 사용할 수 있다.\n",
    "\n",
    "큰 분류는 2가지이다.\n",
    "\n",
    "1. 일부 데이터를 검증용으로 나누는 홀드아웃 방법\n",
    "2. 전체 데이터를 효과적으로 사용하는 교차 검증 방법\n",
    "\n",
    "그리고 교차 검증 방법은 다음과 같은 순서로 이뤄진다.\n",
    "\n",
    "1. 학습 데이터를 여러 개로 분할한다. (이를 fold라고 부름)\n",
    "2. 그 중 하나를 검증 데이터, 나머지를 학습데이터로 삼아 학습 및 평가를 실시하고 검증 데이터에서 점수를 구한다.\n",
    "3. 분할한 횟수만큼 검증 데이터를 바꿔가며 2의 내용을 반복한다.\n",
    "4. 검증 데이터의 평균 점수로 모델의 좋고 나쁨을 평가한다.\n",
    "\n",
    "\n",
    "![](https://scikit-learn.org/stable/_images/grid_search_cross_validation.png)\n",
    "\n",
    "- [시각화로 보는 검증](https://scikit-learn.org/stable/auto_examples/model_selection/plot_cv_indices.html#sphx-glr-auto-examples-model-selection-plot-cv-indices-py)"
   ]
  },
  {
   "cell_type": "markdown",
   "metadata": {},
   "source": [
    "### 3-2. Holdout Set (Train Test Split)\n",
    "\n",
    "개인적으로 빠르게 해보며 성능을 확인할 수 있다는 장점이 있다.\n",
    "\n",
    "일반적으로 사용하는 비율은 ...\n",
    "\n",
    "- 7:3\n",
    "- 8:2\n",
    "- 9:1\n",
    "\n",
    "등이 있습니다."
   ]
  },
  {
   "cell_type": "code",
   "execution_count": 180,
   "metadata": {},
   "outputs": [
    {
     "data": {
      "text/plain": [
       "[array([0., 1., 2.])]"
      ]
     },
     "execution_count": 180,
     "metadata": {},
     "output_type": "execute_result"
    }
   ],
   "source": [
    "from sklearn.preprocessing import OneHotEncoder\n",
    "ohe = OneHotEncoder(sparse=False)\n",
    "target_ohe = ohe.fit_transform(target.values.reshape(-1, 1))\n",
    "ohe.categories_"
   ]
  },
  {
   "cell_type": "code",
   "execution_count": 182,
   "metadata": {},
   "outputs": [
    {
     "name": "stdout",
     "output_type": "stream",
     "text": [
      "0.7396023460291071\n",
      "0.7981069368781908\n"
     ]
    }
   ],
   "source": [
    "from sklearn.model_selection import train_test_split\n",
    "\n",
    "y = target.values\n",
    "X = train_sample\n",
    "\n",
    "X_train, X_val, y_train, y_val = train_test_split(X, y, test_size=0.2, random_state=42)\n",
    "\n",
    "rf = RandomForestClassifier(n_estimators = 1000, max_depth = 10)\n",
    "rf.fit(X_train[num_columns], y_train)\n",
    "\n",
    "pred = rf.predict_proba(X_train[num_columns])\n",
    "print(log_loss(ohe.transform(y_train.reshape(-1, 1)), pred))\n",
    "\n",
    "pred = rf.predict_proba(X_val[num_columns])\n",
    "print(log_loss(ohe.transform(y_val.reshape(-1, 1)), pred))"
   ]
  },
  {
   "cell_type": "markdown",
   "metadata": {},
   "source": [
    "### 3-3. K-Fold Cross Validation"
   ]
  },
  {
   "cell_type": "code",
   "execution_count": 188,
   "metadata": {},
   "outputs": [
    {
     "name": "stdout",
     "output_type": "stream",
     "text": [
      "0 step\n",
      "1 step\n",
      "2 step\n",
      "3 step\n",
      "4 step\n",
      "[0.1710090280401747, 0.1710102195811274, 0.17096185626885613, 0.1701571415737788, 0.1700568572324018]\n",
      "0.17063902053926777\n",
      "[0.8142973548690209, 0.7695379514503516, 0.7939241318822163, 0.7834320598086741, 0.816011268005942]\n",
      "0.7954405532032409\n"
     ]
    }
   ],
   "source": [
    "from sklearn.model_selection import KFold\n",
    "\n",
    "scores_train = []\n",
    "scores_val = []\n",
    "\n",
    "kf = KFold(n_splits=5, shuffle=True, random_state=71)\n",
    "\n",
    "for ith, (tr_idx, va_idx) in enumerate(kf.split(X)):\n",
    "    print(f'{ith} step')\n",
    "    X_train, X_val = train_sample.iloc[tr_idx], train_sample.iloc[va_idx]\n",
    "    y_train, y_val = y[tr_idx], y[va_idx]\n",
    "    rf = RandomForestClassifier()\n",
    "    rf.fit(X_train, y_train)\n",
    "    pred = rf.predict_proba(X_train)\n",
    "    score_train = log_loss(ohe.transform(y_train.reshape(-1, 1)), pred)\n",
    "    \n",
    "    pred = rf.predict_proba(X_val)\n",
    "    score_val = log_loss(ohe.transform(y_val.reshape(-1, 1)), pred)\n",
    "    \n",
    "    scores_train.append(score_train)\n",
    "    scores_val.append(score_val)\n",
    "\n",
    "\n",
    "print(scores_train)\n",
    "print(np.mean(scores_train))\n",
    "\n",
    "\n",
    "print(scores_val)\n",
    "print(np.mean(scores_val))"
   ]
  },
  {
   "cell_type": "markdown",
   "metadata": {},
   "source": [
    "### 3-4. Stratified K-Fold Cross Validation"
   ]
  },
  {
   "cell_type": "code",
   "execution_count": 192,
   "metadata": {},
   "outputs": [
    {
     "name": "stdout",
     "output_type": "stream",
     "text": [
      "[0.821754702013131, 0.7980739151529322, 0.7924472130493857, 0.804293307814256, 0.7900379016368394]\n",
      "0.8013214079333089\n"
     ]
    }
   ],
   "source": [
    "from sklearn.model_selection import StratifiedKFold\n",
    "\n",
    "scores = []\n",
    "skf = StratifiedKFold(n_splits = 5, shuffle = True, random_state = 71)\n",
    "\n",
    "for tr_idx, va_idx in skf.split(X, y) :\n",
    "    X_train, X_val = train_sample.iloc[tr_idx], train_sample.iloc[va_idx]\n",
    "    y_train, y_val = y[tr_idx], y[va_idx]\n",
    "    rf = RandomForestClassifier()\n",
    "    rf.fit(X_train, y_train)\n",
    "    pred = rf.predict_proba(X_val)\n",
    "    score = log_loss(ohe.transform(y_val.reshape(-1, 1)), pred)\n",
    "    \n",
    "    scores.append(score)\n",
    "\n",
    "print(scores)\n",
    "print(np.mean(scores))"
   ]
  },
  {
   "cell_type": "markdown",
   "metadata": {},
   "source": [
    "대회 제출을 위해서는 다음과 같이 만들어볼 수 있습니다."
   ]
  },
  {
   "cell_type": "code",
   "execution_count": 193,
   "metadata": {},
   "outputs": [
    {
     "name": "stdout",
     "output_type": "stream",
     "text": [
      "[0.7846434334627587, 0.8025629050465416, 0.7711324397549691, 0.8053619493659654, 0.7706986081384265]\n",
      "0.7868798671537323\n"
     ]
    }
   ],
   "source": [
    "from sklearn.model_selection import StratifiedKFold\n",
    "\n",
    "\n",
    "scores = [] \n",
    "results = []\n",
    "skf = StratifiedKFold(n_splits=5, shuffle=True, random_state=71)\n",
    "\n",
    "for tr_idx, va_idx in skf.split(X, y):\n",
    "    X_train, X_val = train_sample.iloc[tr_idx], train_sample.iloc[va_idx]\n",
    "    y_train, y_val = y[tr_idx], y[va_idx]\n",
    "    rf = RandomForestClassifier()\n",
    "    rf.fit(X_train, y_train)\n",
    "    pred = rf.predict_proba(X_val)\n",
    "    score = log_loss(ohe.transform(y_val.reshape(-1, 1)), pred)\n",
    "    scores.append(score)\n",
    "    \n",
    "    results.append(rf.predict_proba(test_sample))\n",
    "\n",
    "print(scores)\n",
    "print(np.mean(scores))"
   ]
  },
  {
   "cell_type": "code",
   "execution_count": 194,
   "metadata": {},
   "outputs": [],
   "source": [
    "result = np.array(results).mean(axis=0)\n",
    "\n",
    "sub['0'] = result[:, 0]\n",
    "sub['1'] = result[:, 1]\n",
    "sub['2'] = result[:, 2]\n",
    "\n",
    "sub.to_csv('cb5.csv', index=False)"
   ]
  },
  {
   "cell_type": "markdown",
   "metadata": {},
   "source": [
    "### 3-5. LOOCV\n",
    "\n",
    "Leave One Out Cross Validation은 Leave-p-Out Cross Validation의 일종입니다.\n",
    "\n",
    "검증 데이터가 1개씩 사용하는 방법으로 데이터가 적을 때, 효과적인 방법입니다. \n",
    "\n",
    "p개씩 하는 LPOCV의 일종이기도 합니다.\n",
    "\n",
    "시간이 오래걸리므로 추천하지는 않습니다."
   ]
  },
  {
   "cell_type": "code",
   "execution_count": 196,
   "metadata": {},
   "outputs": [],
   "source": [
    "from sklearn.model_selection import LeaveOneOut"
   ]
  },
  {
   "cell_type": "markdown",
   "metadata": {},
   "source": [
    "## 4. Feature Engineering\n",
    "\n",
    "### 4-1. 다양한 테크닉들\n",
    "\n",
    "모델보다 중요한 것은 중요한 feature를 찾는 것.\n",
    "결국엔 언제나 입력을 잘 만들어주는 것이 중요하다.\n",
    "\n",
    "- Feature Interaction (aka 사칙연산)\n",
    "- Dimension Reduction\n",
    "- Groupby Feature (statistics feature)\n",
    "- Frequency Encoding\n",
    "- Target Encoding\n",
    "- Natural Language Embedding\n",
    "- Split String\n",
    "- feature from missing value \n",
    "- Clipping"
   ]
  },
  {
   "cell_type": "markdown",
   "metadata": {},
   "source": [
    "### 4-2. Feature Interaction\n",
    "\n",
    "feature간의 다양한 연산을 통해 새로운 feature를 만들 수 있습니다.\n",
    "\n",
    "- 덧셈\n",
    "- 뺄셈\n",
    "- 곱셈\n",
    "- 나눗셈\n",
    "\n",
    "왜 이 연산들을 통해 새로운 feature를 만들면 좋은 feature를 만들 수 있을까요?"
   ]
  },
  {
   "cell_type": "markdown",
   "metadata": {},
   "source": [
    "다음과 같은 변수들을 만들어봅시다. (후에 제출용으로 만들 때는 test data에도 만들어야 합니다.) (15분)\n",
    "\n",
    "1. 고용되기 전까지 일수(나이)\n",
    "2. 나이\n",
    "3. 소득 / 가족수"
   ]
  },
  {
   "cell_type": "code",
   "execution_count": null,
   "metadata": {},
   "outputs": [],
   "source": []
  },
  {
   "cell_type": "code",
   "execution_count": 198,
   "metadata": {},
   "outputs": [
    {
     "data": {
      "text/html": [
       "<div>\n",
       "<style scoped>\n",
       "    .dataframe tbody tr th:only-of-type {\n",
       "        vertical-align: middle;\n",
       "    }\n",
       "\n",
       "    .dataframe tbody tr th {\n",
       "        vertical-align: top;\n",
       "    }\n",
       "\n",
       "    .dataframe thead th {\n",
       "        text-align: right;\n",
       "    }\n",
       "</style>\n",
       "<table border=\"1\" class=\"dataframe\">\n",
       "  <thead>\n",
       "    <tr style=\"text-align: right;\">\n",
       "      <th></th>\n",
       "      <th>index</th>\n",
       "      <th>gender</th>\n",
       "      <th>car</th>\n",
       "      <th>reality</th>\n",
       "      <th>child_num</th>\n",
       "      <th>income_total</th>\n",
       "      <th>income_type</th>\n",
       "      <th>edu_type</th>\n",
       "      <th>family_type</th>\n",
       "      <th>house_type</th>\n",
       "      <th>DAYS_BIRTH</th>\n",
       "      <th>DAYS_EMPLOYED</th>\n",
       "      <th>FLAG_MOBIL</th>\n",
       "      <th>work_phone</th>\n",
       "      <th>phone</th>\n",
       "      <th>email</th>\n",
       "      <th>occyp_type</th>\n",
       "      <th>family_size</th>\n",
       "      <th>begin_month</th>\n",
       "    </tr>\n",
       "  </thead>\n",
       "  <tbody>\n",
       "    <tr>\n",
       "      <th>0</th>\n",
       "      <td>0</td>\n",
       "      <td>F</td>\n",
       "      <td>N</td>\n",
       "      <td>N</td>\n",
       "      <td>0</td>\n",
       "      <td>202500.0</td>\n",
       "      <td>Commercial associate</td>\n",
       "      <td>Higher education</td>\n",
       "      <td>Married</td>\n",
       "      <td>Municipal apartment</td>\n",
       "      <td>-13899</td>\n",
       "      <td>-4709</td>\n",
       "      <td>1</td>\n",
       "      <td>0</td>\n",
       "      <td>0</td>\n",
       "      <td>0</td>\n",
       "      <td>NaN</td>\n",
       "      <td>2.0</td>\n",
       "      <td>-6.0</td>\n",
       "    </tr>\n",
       "    <tr>\n",
       "      <th>1</th>\n",
       "      <td>1</td>\n",
       "      <td>F</td>\n",
       "      <td>N</td>\n",
       "      <td>Y</td>\n",
       "      <td>1</td>\n",
       "      <td>247500.0</td>\n",
       "      <td>Commercial associate</td>\n",
       "      <td>Secondary / secondary special</td>\n",
       "      <td>Civil marriage</td>\n",
       "      <td>House / apartment</td>\n",
       "      <td>-11380</td>\n",
       "      <td>-1540</td>\n",
       "      <td>1</td>\n",
       "      <td>0</td>\n",
       "      <td>0</td>\n",
       "      <td>1</td>\n",
       "      <td>Laborers</td>\n",
       "      <td>3.0</td>\n",
       "      <td>-5.0</td>\n",
       "    </tr>\n",
       "    <tr>\n",
       "      <th>2</th>\n",
       "      <td>2</td>\n",
       "      <td>M</td>\n",
       "      <td>Y</td>\n",
       "      <td>Y</td>\n",
       "      <td>0</td>\n",
       "      <td>450000.0</td>\n",
       "      <td>Working</td>\n",
       "      <td>Higher education</td>\n",
       "      <td>Married</td>\n",
       "      <td>House / apartment</td>\n",
       "      <td>-19087</td>\n",
       "      <td>-4434</td>\n",
       "      <td>1</td>\n",
       "      <td>0</td>\n",
       "      <td>1</td>\n",
       "      <td>0</td>\n",
       "      <td>Managers</td>\n",
       "      <td>2.0</td>\n",
       "      <td>-22.0</td>\n",
       "    </tr>\n",
       "    <tr>\n",
       "      <th>3</th>\n",
       "      <td>3</td>\n",
       "      <td>F</td>\n",
       "      <td>N</td>\n",
       "      <td>Y</td>\n",
       "      <td>0</td>\n",
       "      <td>202500.0</td>\n",
       "      <td>Commercial associate</td>\n",
       "      <td>Secondary / secondary special</td>\n",
       "      <td>Married</td>\n",
       "      <td>House / apartment</td>\n",
       "      <td>-15088</td>\n",
       "      <td>-2092</td>\n",
       "      <td>1</td>\n",
       "      <td>0</td>\n",
       "      <td>1</td>\n",
       "      <td>0</td>\n",
       "      <td>Sales staff</td>\n",
       "      <td>2.0</td>\n",
       "      <td>-37.0</td>\n",
       "    </tr>\n",
       "    <tr>\n",
       "      <th>4</th>\n",
       "      <td>4</td>\n",
       "      <td>F</td>\n",
       "      <td>Y</td>\n",
       "      <td>Y</td>\n",
       "      <td>0</td>\n",
       "      <td>157500.0</td>\n",
       "      <td>State servant</td>\n",
       "      <td>Higher education</td>\n",
       "      <td>Married</td>\n",
       "      <td>House / apartment</td>\n",
       "      <td>-15037</td>\n",
       "      <td>-2105</td>\n",
       "      <td>1</td>\n",
       "      <td>0</td>\n",
       "      <td>0</td>\n",
       "      <td>0</td>\n",
       "      <td>Managers</td>\n",
       "      <td>2.0</td>\n",
       "      <td>-26.0</td>\n",
       "    </tr>\n",
       "  </tbody>\n",
       "</table>\n",
       "</div>"
      ],
      "text/plain": [
       "   index gender car reality  child_num  income_total           income_type  \\\n",
       "0      0      F   N       N          0      202500.0  Commercial associate   \n",
       "1      1      F   N       Y          1      247500.0  Commercial associate   \n",
       "2      2      M   Y       Y          0      450000.0               Working   \n",
       "3      3      F   N       Y          0      202500.0  Commercial associate   \n",
       "4      4      F   Y       Y          0      157500.0         State servant   \n",
       "\n",
       "                        edu_type     family_type           house_type  \\\n",
       "0               Higher education         Married  Municipal apartment   \n",
       "1  Secondary / secondary special  Civil marriage    House / apartment   \n",
       "2               Higher education         Married    House / apartment   \n",
       "3  Secondary / secondary special         Married    House / apartment   \n",
       "4               Higher education         Married    House / apartment   \n",
       "\n",
       "   DAYS_BIRTH  DAYS_EMPLOYED  FLAG_MOBIL  work_phone  phone  email  \\\n",
       "0      -13899          -4709           1           0      0      0   \n",
       "1      -11380          -1540           1           0      0      1   \n",
       "2      -19087          -4434           1           0      1      0   \n",
       "3      -15088          -2092           1           0      1      0   \n",
       "4      -15037          -2105           1           0      0      0   \n",
       "\n",
       "    occyp_type  family_size  begin_month  \n",
       "0          NaN          2.0         -6.0  \n",
       "1     Laborers          3.0         -5.0  \n",
       "2     Managers          2.0        -22.0  \n",
       "3  Sales staff          2.0        -37.0  \n",
       "4     Managers          2.0        -26.0  "
      ]
     },
     "execution_count": 198,
     "metadata": {},
     "output_type": "execute_result"
    }
   ],
   "source": [
    "train.head()"
   ]
  },
  {
   "cell_type": "code",
   "execution_count": 203,
   "metadata": {},
   "outputs": [
    {
     "data": {
      "text/html": [
       "<div>\n",
       "<style scoped>\n",
       "    .dataframe tbody tr th:only-of-type {\n",
       "        vertical-align: middle;\n",
       "    }\n",
       "\n",
       "    .dataframe tbody tr th {\n",
       "        vertical-align: top;\n",
       "    }\n",
       "\n",
       "    .dataframe thead th {\n",
       "        text-align: right;\n",
       "    }\n",
       "</style>\n",
       "<table border=\"1\" class=\"dataframe\">\n",
       "  <thead>\n",
       "    <tr style=\"text-align: right;\">\n",
       "      <th></th>\n",
       "      <th>index</th>\n",
       "      <th>gender</th>\n",
       "      <th>car</th>\n",
       "      <th>reality</th>\n",
       "      <th>child_num</th>\n",
       "      <th>income_total</th>\n",
       "      <th>income_type</th>\n",
       "      <th>edu_type</th>\n",
       "      <th>family_type</th>\n",
       "      <th>house_type</th>\n",
       "      <th>...</th>\n",
       "      <th>FLAG_MOBIL</th>\n",
       "      <th>work_phone</th>\n",
       "      <th>phone</th>\n",
       "      <th>email</th>\n",
       "      <th>occyp_type</th>\n",
       "      <th>family_size</th>\n",
       "      <th>begin_month</th>\n",
       "      <th>age</th>\n",
       "      <th>before_EMP</th>\n",
       "      <th>income_fam</th>\n",
       "    </tr>\n",
       "  </thead>\n",
       "  <tbody>\n",
       "    <tr>\n",
       "      <th>0</th>\n",
       "      <td>0</td>\n",
       "      <td>F</td>\n",
       "      <td>N</td>\n",
       "      <td>N</td>\n",
       "      <td>0</td>\n",
       "      <td>202500.0</td>\n",
       "      <td>Commercial associate</td>\n",
       "      <td>Higher education</td>\n",
       "      <td>Married</td>\n",
       "      <td>Municipal apartment</td>\n",
       "      <td>...</td>\n",
       "      <td>1</td>\n",
       "      <td>0</td>\n",
       "      <td>0</td>\n",
       "      <td>0</td>\n",
       "      <td>NaN</td>\n",
       "      <td>2.0</td>\n",
       "      <td>-6.0</td>\n",
       "      <td>38.079452</td>\n",
       "      <td>9190</td>\n",
       "      <td>101250.0</td>\n",
       "    </tr>\n",
       "    <tr>\n",
       "      <th>1</th>\n",
       "      <td>1</td>\n",
       "      <td>F</td>\n",
       "      <td>N</td>\n",
       "      <td>Y</td>\n",
       "      <td>1</td>\n",
       "      <td>247500.0</td>\n",
       "      <td>Commercial associate</td>\n",
       "      <td>Secondary / secondary special</td>\n",
       "      <td>Civil marriage</td>\n",
       "      <td>House / apartment</td>\n",
       "      <td>...</td>\n",
       "      <td>1</td>\n",
       "      <td>0</td>\n",
       "      <td>0</td>\n",
       "      <td>1</td>\n",
       "      <td>Laborers</td>\n",
       "      <td>3.0</td>\n",
       "      <td>-5.0</td>\n",
       "      <td>31.178082</td>\n",
       "      <td>9840</td>\n",
       "      <td>82500.0</td>\n",
       "    </tr>\n",
       "    <tr>\n",
       "      <th>2</th>\n",
       "      <td>2</td>\n",
       "      <td>M</td>\n",
       "      <td>Y</td>\n",
       "      <td>Y</td>\n",
       "      <td>0</td>\n",
       "      <td>450000.0</td>\n",
       "      <td>Working</td>\n",
       "      <td>Higher education</td>\n",
       "      <td>Married</td>\n",
       "      <td>House / apartment</td>\n",
       "      <td>...</td>\n",
       "      <td>1</td>\n",
       "      <td>0</td>\n",
       "      <td>1</td>\n",
       "      <td>0</td>\n",
       "      <td>Managers</td>\n",
       "      <td>2.0</td>\n",
       "      <td>-22.0</td>\n",
       "      <td>52.293151</td>\n",
       "      <td>14653</td>\n",
       "      <td>225000.0</td>\n",
       "    </tr>\n",
       "    <tr>\n",
       "      <th>3</th>\n",
       "      <td>3</td>\n",
       "      <td>F</td>\n",
       "      <td>N</td>\n",
       "      <td>Y</td>\n",
       "      <td>0</td>\n",
       "      <td>202500.0</td>\n",
       "      <td>Commercial associate</td>\n",
       "      <td>Secondary / secondary special</td>\n",
       "      <td>Married</td>\n",
       "      <td>House / apartment</td>\n",
       "      <td>...</td>\n",
       "      <td>1</td>\n",
       "      <td>0</td>\n",
       "      <td>1</td>\n",
       "      <td>0</td>\n",
       "      <td>Sales staff</td>\n",
       "      <td>2.0</td>\n",
       "      <td>-37.0</td>\n",
       "      <td>41.336986</td>\n",
       "      <td>12996</td>\n",
       "      <td>101250.0</td>\n",
       "    </tr>\n",
       "    <tr>\n",
       "      <th>4</th>\n",
       "      <td>4</td>\n",
       "      <td>F</td>\n",
       "      <td>Y</td>\n",
       "      <td>Y</td>\n",
       "      <td>0</td>\n",
       "      <td>157500.0</td>\n",
       "      <td>State servant</td>\n",
       "      <td>Higher education</td>\n",
       "      <td>Married</td>\n",
       "      <td>House / apartment</td>\n",
       "      <td>...</td>\n",
       "      <td>1</td>\n",
       "      <td>0</td>\n",
       "      <td>0</td>\n",
       "      <td>0</td>\n",
       "      <td>Managers</td>\n",
       "      <td>2.0</td>\n",
       "      <td>-26.0</td>\n",
       "      <td>41.197260</td>\n",
       "      <td>12932</td>\n",
       "      <td>78750.0</td>\n",
       "    </tr>\n",
       "  </tbody>\n",
       "</table>\n",
       "<p>5 rows × 22 columns</p>\n",
       "</div>"
      ],
      "text/plain": [
       "   index gender car reality  child_num  income_total           income_type  \\\n",
       "0      0      F   N       N          0      202500.0  Commercial associate   \n",
       "1      1      F   N       Y          1      247500.0  Commercial associate   \n",
       "2      2      M   Y       Y          0      450000.0               Working   \n",
       "3      3      F   N       Y          0      202500.0  Commercial associate   \n",
       "4      4      F   Y       Y          0      157500.0         State servant   \n",
       "\n",
       "                        edu_type     family_type           house_type  ...  \\\n",
       "0               Higher education         Married  Municipal apartment  ...   \n",
       "1  Secondary / secondary special  Civil marriage    House / apartment  ...   \n",
       "2               Higher education         Married    House / apartment  ...   \n",
       "3  Secondary / secondary special         Married    House / apartment  ...   \n",
       "4               Higher education         Married    House / apartment  ...   \n",
       "\n",
       "   FLAG_MOBIL  work_phone  phone  email   occyp_type  family_size begin_month  \\\n",
       "0           1           0      0      0          NaN          2.0        -6.0   \n",
       "1           1           0      0      1     Laborers          3.0        -5.0   \n",
       "2           1           0      1      0     Managers          2.0       -22.0   \n",
       "3           1           0      1      0  Sales staff          2.0       -37.0   \n",
       "4           1           0      0      0     Managers          2.0       -26.0   \n",
       "\n",
       "         age  before_EMP  income_fam  \n",
       "0  38.079452        9190    101250.0  \n",
       "1  31.178082        9840     82500.0  \n",
       "2  52.293151       14653    225000.0  \n",
       "3  41.336986       12996    101250.0  \n",
       "4  41.197260       12932     78750.0  \n",
       "\n",
       "[5 rows x 22 columns]"
      ]
     },
     "execution_count": 203,
     "metadata": {},
     "output_type": "execute_result"
    }
   ],
   "source": [
    "train['before_EMP'] = train['DAYS_EMPLOYED'] - train['DAYS_BIRTH']\n",
    "test['before_EMP'] = test['DAYS_EMPLOYED'] - test['DAYS_BIRTH']\n",
    "\n",
    "train['age'] = -train['DAYS_BIRTH'] / 365\n",
    "test['age'] = -test['DAYS_BIRTH'] / 365\n",
    "\n",
    "train['income_fam'] = train['income_total'] / train['family_size']\n",
    "test['income_fam'] = test['income_total'] / test['family_size']\n",
    "\n",
    "train.head()"
   ]
  },
  {
   "cell_type": "markdown",
   "metadata": {},
   "source": [
    "### 4-3. Dimension Reduction & Clustering\n",
    "\n",
    "Dimension Reduction은 차원을 줄이는 방법으로 다양한 방법이 존재합니다.\n",
    "\n",
    "차원을 줄이는 이유는 다양합니다.\n",
    "\n",
    "1. feature가 너무 많을 때, 효과적인 feature를 찾기 위해 (고차원->저차원)\n",
    "2. noise 제거 및 성능 향상\n",
    "2. 시각화를 통해 고차원 데이터 분포\n",
    "\n",
    "Dimension Reduction은 꾸준하게 연구되고 있으며 현재 가장 많이 사용하는 방법은 다음과 같습니다.\n",
    "\n",
    "- PCA\n",
    "\n",
    "주성분 분석이라는 방법입니다.\n",
    "\n",
    "- T-SNE / UMAP\n",
    "\n",
    "구체적인 방법을 설명하기는 비교적 어렵습니다. \n",
    "\n",
    "멀리있는 데이터는 멀리보네고, 가까이 있는 데이터는 가깝게 유지하는 방법을 사용하여 데이터의 분포를 저차원에서 줄입니다.\n",
    "\n",
    "\n",
    "#### Further Reading\n",
    "\n",
    "- [T-SNE 이론적 설명](https://lovit.github.io/nlp/representation/2018/09/28/tsne/)\n",
    "- [How to use t-sne Effectively](https://distill.pub/2016/misread-tsne/)"
   ]
  },
  {
   "cell_type": "code",
   "execution_count": 204,
   "metadata": {},
   "outputs": [],
   "source": [
    "from sklearn.decomposition import PCA\n",
    "from sklearn.manifold import TSNE\n",
    "from umap import UMAP\n",
    "\n",
    "pca = PCA(n_components=2)\n",
    "tsne = TSNE(n_components=2,random_state=0)\n",
    "umap = UMAP(random_state=0)"
   ]
  },
  {
   "cell_type": "code",
   "execution_count": 205,
   "metadata": {},
   "outputs": [],
   "source": [
    "train_sample_dr = umap.fit_transform(train_sample, target)"
   ]
  },
  {
   "cell_type": "markdown",
   "metadata": {},
   "source": [
    "각각 pca, tsne, umap은 `scaler`나 `classifier`와 마찬가지로 `fit`과 `transform` 기능을 가지고 있습니다.\n",
    "\n",
    "train data의 numerical columns에 대해 pca의 결과, tsne의 결과, umap의 결과를 다른 파일에 저장하시오. (15분)"
   ]
  },
  {
   "cell_type": "markdown",
   "metadata": {},
   "source": [
    "### 4-4. Groupby Feature (Statistics)\n",
    "\n",
    "앞서 말한 방법의 심화입니다. Groupby를 사용한 다양한 통계값을 사용하여 새로운 feature를 만들어줄 수 있습니다."
   ]
  },
  {
   "cell_type": "code",
   "execution_count": 207,
   "metadata": {},
   "outputs": [
    {
     "data": {
      "text/plain": [
       "gender\n",
       "F    0.388314\n",
       "M    0.510160\n",
       "Name: child_num, dtype: float64"
      ]
     },
     "execution_count": 207,
     "metadata": {},
     "output_type": "execute_result"
    }
   ],
   "source": [
    "train.groupby(['gender'])['child_num'].mean()"
   ]
  },
  {
   "cell_type": "code",
   "execution_count": 208,
   "metadata": {},
   "outputs": [
    {
     "data": {
      "text/plain": [
       "0        0.388314\n",
       "1        0.388314\n",
       "2        0.510160\n",
       "3        0.388314\n",
       "4        0.388314\n",
       "           ...   \n",
       "26452    0.388314\n",
       "26453    0.388314\n",
       "26454    0.388314\n",
       "26455    0.510160\n",
       "26456    0.388314\n",
       "Name: child_num, Length: 26457, dtype: float64"
      ]
     },
     "execution_count": 208,
     "metadata": {},
     "output_type": "execute_result"
    }
   ],
   "source": [
    "train.groupby(['gender'])['child_num'].transform(np.mean)"
   ]
  },
  {
   "cell_type": "markdown",
   "metadata": {},
   "source": [
    "### 4-5. Frequency Encoding\n",
    "\n",
    "프리퀀시 인코딩은 각 레벨의 출현 횟수의 혹슨 출현 비노도로 범주형 변수를 대체하는 방법입니다.\n",
    "\n",
    "각 레벨의 출현빈도가 target과 관련성이 있을 때 유효합니다. 즉, 균등하다면 의미가 없습니다.\n",
    "\n",
    "다음과 같이 진행할 수 있습니다.\n",
    "\n",
    "``` py\n",
    "for c in cat_columns:\n",
    "    freq = train[c].value_counts()\n",
    "    train[c] = train[c].map(freq)\n",
    "    test[c] = test[c].map(freq)\n",
    "```\n",
    "\n",
    "해당 과정을 train data와 test data에 모두 적용해보시오 (10분)"
   ]
  },
  {
   "cell_type": "code",
   "execution_count": 210,
   "metadata": {},
   "outputs": [
    {
     "data": {
      "text/plain": [
       "F    17697\n",
       "M     8760\n",
       "Name: gender, dtype: int64"
      ]
     },
     "execution_count": 210,
     "metadata": {},
     "output_type": "execute_result"
    }
   ],
   "source": [
    "train['gender'].value_counts()"
   ]
  },
  {
   "cell_type": "markdown",
   "metadata": {},
   "source": [
    "### 4-6. Target Encoding\n",
    "\n",
    "목적변수를 이용하여 범주형 변수를 수치형 변수로 변환하는 방법입니다.\n",
    "\n",
    "범주형 변수의 각 클래스별로 target의 평균값으로 치환하여 사용합니다.\n",
    "\n",
    "- target의 정보가 노출되기 때문에 KFold를 사용\n",
    "- noise를 더하여 누출을 방지\n",
    "- 불균형 방지를 위해 데이터 평균 및 가중치 추가\n",
    "\n",
    "고려할 부분이 상당히 많음."
   ]
  },
  {
   "cell_type": "code",
   "execution_count": 213,
   "metadata": {},
   "outputs": [],
   "source": [
    "train = pd.read_csv(train_path)"
   ]
  },
  {
   "cell_type": "code",
   "execution_count": 214,
   "metadata": {},
   "outputs": [
    {
     "data": {
      "text/plain": [
       "gender  car  reality\n",
       "F       N    N          1.543035\n",
       "             Y          1.506998\n",
       "        Y    N          1.492833\n",
       "             Y          1.534573\n",
       "M       N    N          1.506093\n",
       "             Y          1.503229\n",
       "        Y    N          1.542125\n",
       "             Y          1.525104\n",
       "Name: credit, dtype: float64"
      ]
     },
     "execution_count": 214,
     "metadata": {},
     "output_type": "execute_result"
    }
   ],
   "source": [
    "train.groupby(['gender', 'car', 'reality'])['credit'].mean()"
   ]
  },
  {
   "cell_type": "code",
   "execution_count": 212,
   "metadata": {},
   "outputs": [
    {
     "data": {
      "text/plain": [
       "TargetEncoder(cols=['gender'])"
      ]
     },
     "execution_count": 212,
     "metadata": {},
     "output_type": "execute_result"
    }
   ],
   "source": [
    "from category_encoders.target_encoder import TargetEncoder\n",
    "\n",
    "te = TargetEncoder()\n",
    "te.fit(train['gender'], target)"
   ]
  },
  {
   "cell_type": "code",
   "execution_count": 217,
   "metadata": {},
   "outputs": [
    {
     "data": {
      "text/html": [
       "<div>\n",
       "<style scoped>\n",
       "    .dataframe tbody tr th:only-of-type {\n",
       "        vertical-align: middle;\n",
       "    }\n",
       "\n",
       "    .dataframe tbody tr th {\n",
       "        vertical-align: top;\n",
       "    }\n",
       "\n",
       "    .dataframe thead th {\n",
       "        text-align: right;\n",
       "    }\n",
       "</style>\n",
       "<table border=\"1\" class=\"dataframe\">\n",
       "  <thead>\n",
       "    <tr style=\"text-align: right;\">\n",
       "      <th></th>\n",
       "      <th>gender</th>\n",
       "    </tr>\n",
       "  </thead>\n",
       "  <tbody>\n",
       "    <tr>\n",
       "      <th>0</th>\n",
       "      <td>1.518788</td>\n",
       "    </tr>\n",
       "    <tr>\n",
       "      <th>1</th>\n",
       "      <td>1.518788</td>\n",
       "    </tr>\n",
       "    <tr>\n",
       "      <th>2</th>\n",
       "      <td>1.521119</td>\n",
       "    </tr>\n",
       "    <tr>\n",
       "      <th>3</th>\n",
       "      <td>1.518788</td>\n",
       "    </tr>\n",
       "    <tr>\n",
       "      <th>4</th>\n",
       "      <td>1.518788</td>\n",
       "    </tr>\n",
       "    <tr>\n",
       "      <th>...</th>\n",
       "      <td>...</td>\n",
       "    </tr>\n",
       "    <tr>\n",
       "      <th>26452</th>\n",
       "      <td>1.518788</td>\n",
       "    </tr>\n",
       "    <tr>\n",
       "      <th>26453</th>\n",
       "      <td>1.518788</td>\n",
       "    </tr>\n",
       "    <tr>\n",
       "      <th>26454</th>\n",
       "      <td>1.518788</td>\n",
       "    </tr>\n",
       "    <tr>\n",
       "      <th>26455</th>\n",
       "      <td>1.521119</td>\n",
       "    </tr>\n",
       "    <tr>\n",
       "      <th>26456</th>\n",
       "      <td>1.518788</td>\n",
       "    </tr>\n",
       "  </tbody>\n",
       "</table>\n",
       "<p>26457 rows × 1 columns</p>\n",
       "</div>"
      ],
      "text/plain": [
       "         gender\n",
       "0      1.518788\n",
       "1      1.518788\n",
       "2      1.521119\n",
       "3      1.518788\n",
       "4      1.518788\n",
       "...         ...\n",
       "26452  1.518788\n",
       "26453  1.518788\n",
       "26454  1.518788\n",
       "26455  1.521119\n",
       "26456  1.518788\n",
       "\n",
       "[26457 rows x 1 columns]"
      ]
     },
     "execution_count": 217,
     "metadata": {},
     "output_type": "execute_result"
    }
   ],
   "source": [
    "te.transform(train['gender'])"
   ]
  },
  {
   "cell_type": "markdown",
   "metadata": {},
   "source": [
    "<div class=\"alert alert-block alert-warning\">\n",
    "<b>Quiz</b> 해당 target은 0, 1, 2이기에 평균이 의미가 없을 수 있다. 어떻게 하면 좋은 Feature를 만들 수 있을까?\n",
    "</div>\n"
   ]
  },
  {
   "cell_type": "markdown",
   "metadata": {},
   "source": [
    "### 4-7. Split String Feature \n",
    "\n",
    "일부 hash값으로 구성된 string의 경우, string을 쪼개어 숫자부/문자부 등으로 구분하여 사용할 수 있습니다.\n",
    "\n",
    "<div class=\"alert alert-block alert-success\">\n",
    "<b>Tips</b> 2021-07-31의 경우, 2021과 07을 사용할 수 있다.\n",
    "</div>\n"
   ]
  },
  {
   "cell_type": "code",
   "execution_count": 218,
   "metadata": {},
   "outputs": [
    {
     "data": {
      "text/html": [
       "<div>\n",
       "<style scoped>\n",
       "    .dataframe tbody tr th:only-of-type {\n",
       "        vertical-align: middle;\n",
       "    }\n",
       "\n",
       "    .dataframe tbody tr th {\n",
       "        vertical-align: top;\n",
       "    }\n",
       "\n",
       "    .dataframe thead th {\n",
       "        text-align: right;\n",
       "    }\n",
       "</style>\n",
       "<table border=\"1\" class=\"dataframe\">\n",
       "  <thead>\n",
       "    <tr style=\"text-align: right;\">\n",
       "      <th></th>\n",
       "      <th>index</th>\n",
       "      <th>gender</th>\n",
       "      <th>car</th>\n",
       "      <th>reality</th>\n",
       "      <th>child_num</th>\n",
       "      <th>income_total</th>\n",
       "      <th>income_type</th>\n",
       "      <th>edu_type</th>\n",
       "      <th>family_type</th>\n",
       "      <th>house_type</th>\n",
       "      <th>DAYS_BIRTH</th>\n",
       "      <th>DAYS_EMPLOYED</th>\n",
       "      <th>FLAG_MOBIL</th>\n",
       "      <th>work_phone</th>\n",
       "      <th>phone</th>\n",
       "      <th>email</th>\n",
       "      <th>occyp_type</th>\n",
       "      <th>family_size</th>\n",
       "      <th>begin_month</th>\n",
       "      <th>credit</th>\n",
       "    </tr>\n",
       "  </thead>\n",
       "  <tbody>\n",
       "    <tr>\n",
       "      <th>0</th>\n",
       "      <td>0</td>\n",
       "      <td>F</td>\n",
       "      <td>N</td>\n",
       "      <td>N</td>\n",
       "      <td>0</td>\n",
       "      <td>202500.0</td>\n",
       "      <td>Commercial associate</td>\n",
       "      <td>Higher education</td>\n",
       "      <td>Married</td>\n",
       "      <td>Municipal apartment</td>\n",
       "      <td>-13899</td>\n",
       "      <td>-4709</td>\n",
       "      <td>1</td>\n",
       "      <td>0</td>\n",
       "      <td>0</td>\n",
       "      <td>0</td>\n",
       "      <td>NaN</td>\n",
       "      <td>2.0</td>\n",
       "      <td>-6.0</td>\n",
       "      <td>1.0</td>\n",
       "    </tr>\n",
       "    <tr>\n",
       "      <th>1</th>\n",
       "      <td>1</td>\n",
       "      <td>F</td>\n",
       "      <td>N</td>\n",
       "      <td>Y</td>\n",
       "      <td>1</td>\n",
       "      <td>247500.0</td>\n",
       "      <td>Commercial associate</td>\n",
       "      <td>Secondary / secondary special</td>\n",
       "      <td>Civil marriage</td>\n",
       "      <td>House / apartment</td>\n",
       "      <td>-11380</td>\n",
       "      <td>-1540</td>\n",
       "      <td>1</td>\n",
       "      <td>0</td>\n",
       "      <td>0</td>\n",
       "      <td>1</td>\n",
       "      <td>Laborers</td>\n",
       "      <td>3.0</td>\n",
       "      <td>-5.0</td>\n",
       "      <td>1.0</td>\n",
       "    </tr>\n",
       "    <tr>\n",
       "      <th>2</th>\n",
       "      <td>2</td>\n",
       "      <td>M</td>\n",
       "      <td>Y</td>\n",
       "      <td>Y</td>\n",
       "      <td>0</td>\n",
       "      <td>450000.0</td>\n",
       "      <td>Working</td>\n",
       "      <td>Higher education</td>\n",
       "      <td>Married</td>\n",
       "      <td>House / apartment</td>\n",
       "      <td>-19087</td>\n",
       "      <td>-4434</td>\n",
       "      <td>1</td>\n",
       "      <td>0</td>\n",
       "      <td>1</td>\n",
       "      <td>0</td>\n",
       "      <td>Managers</td>\n",
       "      <td>2.0</td>\n",
       "      <td>-22.0</td>\n",
       "      <td>2.0</td>\n",
       "    </tr>\n",
       "    <tr>\n",
       "      <th>3</th>\n",
       "      <td>3</td>\n",
       "      <td>F</td>\n",
       "      <td>N</td>\n",
       "      <td>Y</td>\n",
       "      <td>0</td>\n",
       "      <td>202500.0</td>\n",
       "      <td>Commercial associate</td>\n",
       "      <td>Secondary / secondary special</td>\n",
       "      <td>Married</td>\n",
       "      <td>House / apartment</td>\n",
       "      <td>-15088</td>\n",
       "      <td>-2092</td>\n",
       "      <td>1</td>\n",
       "      <td>0</td>\n",
       "      <td>1</td>\n",
       "      <td>0</td>\n",
       "      <td>Sales staff</td>\n",
       "      <td>2.0</td>\n",
       "      <td>-37.0</td>\n",
       "      <td>0.0</td>\n",
       "    </tr>\n",
       "    <tr>\n",
       "      <th>4</th>\n",
       "      <td>4</td>\n",
       "      <td>F</td>\n",
       "      <td>Y</td>\n",
       "      <td>Y</td>\n",
       "      <td>0</td>\n",
       "      <td>157500.0</td>\n",
       "      <td>State servant</td>\n",
       "      <td>Higher education</td>\n",
       "      <td>Married</td>\n",
       "      <td>House / apartment</td>\n",
       "      <td>-15037</td>\n",
       "      <td>-2105</td>\n",
       "      <td>1</td>\n",
       "      <td>0</td>\n",
       "      <td>0</td>\n",
       "      <td>0</td>\n",
       "      <td>Managers</td>\n",
       "      <td>2.0</td>\n",
       "      <td>-26.0</td>\n",
       "      <td>2.0</td>\n",
       "    </tr>\n",
       "  </tbody>\n",
       "</table>\n",
       "</div>"
      ],
      "text/plain": [
       "   index gender car reality  child_num  income_total           income_type  \\\n",
       "0      0      F   N       N          0      202500.0  Commercial associate   \n",
       "1      1      F   N       Y          1      247500.0  Commercial associate   \n",
       "2      2      M   Y       Y          0      450000.0               Working   \n",
       "3      3      F   N       Y          0      202500.0  Commercial associate   \n",
       "4      4      F   Y       Y          0      157500.0         State servant   \n",
       "\n",
       "                        edu_type     family_type           house_type  \\\n",
       "0               Higher education         Married  Municipal apartment   \n",
       "1  Secondary / secondary special  Civil marriage    House / apartment   \n",
       "2               Higher education         Married    House / apartment   \n",
       "3  Secondary / secondary special         Married    House / apartment   \n",
       "4               Higher education         Married    House / apartment   \n",
       "\n",
       "   DAYS_BIRTH  DAYS_EMPLOYED  FLAG_MOBIL  work_phone  phone  email  \\\n",
       "0      -13899          -4709           1           0      0      0   \n",
       "1      -11380          -1540           1           0      0      1   \n",
       "2      -19087          -4434           1           0      1      0   \n",
       "3      -15088          -2092           1           0      1      0   \n",
       "4      -15037          -2105           1           0      0      0   \n",
       "\n",
       "    occyp_type  family_size  begin_month  credit  \n",
       "0          NaN          2.0         -6.0     1.0  \n",
       "1     Laborers          3.0         -5.0     1.0  \n",
       "2     Managers          2.0        -22.0     2.0  \n",
       "3  Sales staff          2.0        -37.0     0.0  \n",
       "4     Managers          2.0        -26.0     2.0  "
      ]
     },
     "execution_count": 218,
     "metadata": {},
     "output_type": "execute_result"
    }
   ],
   "source": [
    "train.head()"
   ]
  },
  {
   "cell_type": "code",
   "execution_count": 220,
   "metadata": {},
   "outputs": [
    {
     "data": {
      "text/html": [
       "<div>\n",
       "<style scoped>\n",
       "    .dataframe tbody tr th:only-of-type {\n",
       "        vertical-align: middle;\n",
       "    }\n",
       "\n",
       "    .dataframe tbody tr th {\n",
       "        vertical-align: top;\n",
       "    }\n",
       "\n",
       "    .dataframe thead th {\n",
       "        text-align: right;\n",
       "    }\n",
       "</style>\n",
       "<table border=\"1\" class=\"dataframe\">\n",
       "  <thead>\n",
       "    <tr style=\"text-align: right;\">\n",
       "      <th></th>\n",
       "      <th>index</th>\n",
       "      <th>gender</th>\n",
       "      <th>car</th>\n",
       "      <th>reality</th>\n",
       "      <th>child_num</th>\n",
       "      <th>income_total</th>\n",
       "      <th>income_type</th>\n",
       "      <th>edu_type</th>\n",
       "      <th>family_type</th>\n",
       "      <th>house_type</th>\n",
       "      <th>...</th>\n",
       "      <th>DAYS_EMPLOYED</th>\n",
       "      <th>FLAG_MOBIL</th>\n",
       "      <th>work_phone</th>\n",
       "      <th>phone</th>\n",
       "      <th>email</th>\n",
       "      <th>occyp_type</th>\n",
       "      <th>family_size</th>\n",
       "      <th>begin_month</th>\n",
       "      <th>credit</th>\n",
       "      <th>family_type_first</th>\n",
       "    </tr>\n",
       "  </thead>\n",
       "  <tbody>\n",
       "    <tr>\n",
       "      <th>0</th>\n",
       "      <td>0</td>\n",
       "      <td>F</td>\n",
       "      <td>N</td>\n",
       "      <td>N</td>\n",
       "      <td>0</td>\n",
       "      <td>202500.0</td>\n",
       "      <td>Commercial associate</td>\n",
       "      <td>Higher education</td>\n",
       "      <td>Married</td>\n",
       "      <td>Municipal apartment</td>\n",
       "      <td>...</td>\n",
       "      <td>-4709</td>\n",
       "      <td>1</td>\n",
       "      <td>0</td>\n",
       "      <td>0</td>\n",
       "      <td>0</td>\n",
       "      <td>NaN</td>\n",
       "      <td>2.0</td>\n",
       "      <td>-6.0</td>\n",
       "      <td>1.0</td>\n",
       "      <td>M</td>\n",
       "    </tr>\n",
       "    <tr>\n",
       "      <th>1</th>\n",
       "      <td>1</td>\n",
       "      <td>F</td>\n",
       "      <td>N</td>\n",
       "      <td>Y</td>\n",
       "      <td>1</td>\n",
       "      <td>247500.0</td>\n",
       "      <td>Commercial associate</td>\n",
       "      <td>Secondary / secondary special</td>\n",
       "      <td>Civil marriage</td>\n",
       "      <td>House / apartment</td>\n",
       "      <td>...</td>\n",
       "      <td>-1540</td>\n",
       "      <td>1</td>\n",
       "      <td>0</td>\n",
       "      <td>0</td>\n",
       "      <td>1</td>\n",
       "      <td>Laborers</td>\n",
       "      <td>3.0</td>\n",
       "      <td>-5.0</td>\n",
       "      <td>1.0</td>\n",
       "      <td>C</td>\n",
       "    </tr>\n",
       "    <tr>\n",
       "      <th>2</th>\n",
       "      <td>2</td>\n",
       "      <td>M</td>\n",
       "      <td>Y</td>\n",
       "      <td>Y</td>\n",
       "      <td>0</td>\n",
       "      <td>450000.0</td>\n",
       "      <td>Working</td>\n",
       "      <td>Higher education</td>\n",
       "      <td>Married</td>\n",
       "      <td>House / apartment</td>\n",
       "      <td>...</td>\n",
       "      <td>-4434</td>\n",
       "      <td>1</td>\n",
       "      <td>0</td>\n",
       "      <td>1</td>\n",
       "      <td>0</td>\n",
       "      <td>Managers</td>\n",
       "      <td>2.0</td>\n",
       "      <td>-22.0</td>\n",
       "      <td>2.0</td>\n",
       "      <td>M</td>\n",
       "    </tr>\n",
       "    <tr>\n",
       "      <th>3</th>\n",
       "      <td>3</td>\n",
       "      <td>F</td>\n",
       "      <td>N</td>\n",
       "      <td>Y</td>\n",
       "      <td>0</td>\n",
       "      <td>202500.0</td>\n",
       "      <td>Commercial associate</td>\n",
       "      <td>Secondary / secondary special</td>\n",
       "      <td>Married</td>\n",
       "      <td>House / apartment</td>\n",
       "      <td>...</td>\n",
       "      <td>-2092</td>\n",
       "      <td>1</td>\n",
       "      <td>0</td>\n",
       "      <td>1</td>\n",
       "      <td>0</td>\n",
       "      <td>Sales staff</td>\n",
       "      <td>2.0</td>\n",
       "      <td>-37.0</td>\n",
       "      <td>0.0</td>\n",
       "      <td>M</td>\n",
       "    </tr>\n",
       "    <tr>\n",
       "      <th>4</th>\n",
       "      <td>4</td>\n",
       "      <td>F</td>\n",
       "      <td>Y</td>\n",
       "      <td>Y</td>\n",
       "      <td>0</td>\n",
       "      <td>157500.0</td>\n",
       "      <td>State servant</td>\n",
       "      <td>Higher education</td>\n",
       "      <td>Married</td>\n",
       "      <td>House / apartment</td>\n",
       "      <td>...</td>\n",
       "      <td>-2105</td>\n",
       "      <td>1</td>\n",
       "      <td>0</td>\n",
       "      <td>0</td>\n",
       "      <td>0</td>\n",
       "      <td>Managers</td>\n",
       "      <td>2.0</td>\n",
       "      <td>-26.0</td>\n",
       "      <td>2.0</td>\n",
       "      <td>M</td>\n",
       "    </tr>\n",
       "    <tr>\n",
       "      <th>...</th>\n",
       "      <td>...</td>\n",
       "      <td>...</td>\n",
       "      <td>...</td>\n",
       "      <td>...</td>\n",
       "      <td>...</td>\n",
       "      <td>...</td>\n",
       "      <td>...</td>\n",
       "      <td>...</td>\n",
       "      <td>...</td>\n",
       "      <td>...</td>\n",
       "      <td>...</td>\n",
       "      <td>...</td>\n",
       "      <td>...</td>\n",
       "      <td>...</td>\n",
       "      <td>...</td>\n",
       "      <td>...</td>\n",
       "      <td>...</td>\n",
       "      <td>...</td>\n",
       "      <td>...</td>\n",
       "      <td>...</td>\n",
       "      <td>...</td>\n",
       "    </tr>\n",
       "    <tr>\n",
       "      <th>26452</th>\n",
       "      <td>26452</td>\n",
       "      <td>F</td>\n",
       "      <td>N</td>\n",
       "      <td>N</td>\n",
       "      <td>2</td>\n",
       "      <td>225000.0</td>\n",
       "      <td>State servant</td>\n",
       "      <td>Secondary / secondary special</td>\n",
       "      <td>Married</td>\n",
       "      <td>House / apartment</td>\n",
       "      <td>...</td>\n",
       "      <td>-1984</td>\n",
       "      <td>1</td>\n",
       "      <td>0</td>\n",
       "      <td>0</td>\n",
       "      <td>0</td>\n",
       "      <td>Core staff</td>\n",
       "      <td>4.0</td>\n",
       "      <td>-2.0</td>\n",
       "      <td>1.0</td>\n",
       "      <td>M</td>\n",
       "    </tr>\n",
       "    <tr>\n",
       "      <th>26453</th>\n",
       "      <td>26453</td>\n",
       "      <td>F</td>\n",
       "      <td>N</td>\n",
       "      <td>Y</td>\n",
       "      <td>1</td>\n",
       "      <td>180000.0</td>\n",
       "      <td>Working</td>\n",
       "      <td>Higher education</td>\n",
       "      <td>Separated</td>\n",
       "      <td>House / apartment</td>\n",
       "      <td>...</td>\n",
       "      <td>-2475</td>\n",
       "      <td>1</td>\n",
       "      <td>0</td>\n",
       "      <td>0</td>\n",
       "      <td>0</td>\n",
       "      <td>NaN</td>\n",
       "      <td>2.0</td>\n",
       "      <td>-47.0</td>\n",
       "      <td>2.0</td>\n",
       "      <td>S</td>\n",
       "    </tr>\n",
       "    <tr>\n",
       "      <th>26454</th>\n",
       "      <td>26454</td>\n",
       "      <td>F</td>\n",
       "      <td>Y</td>\n",
       "      <td>N</td>\n",
       "      <td>0</td>\n",
       "      <td>292500.0</td>\n",
       "      <td>Working</td>\n",
       "      <td>Secondary / secondary special</td>\n",
       "      <td>Civil marriage</td>\n",
       "      <td>With parents</td>\n",
       "      <td>...</td>\n",
       "      <td>-2015</td>\n",
       "      <td>1</td>\n",
       "      <td>0</td>\n",
       "      <td>0</td>\n",
       "      <td>0</td>\n",
       "      <td>Core staff</td>\n",
       "      <td>2.0</td>\n",
       "      <td>-25.0</td>\n",
       "      <td>2.0</td>\n",
       "      <td>C</td>\n",
       "    </tr>\n",
       "    <tr>\n",
       "      <th>26455</th>\n",
       "      <td>26455</td>\n",
       "      <td>M</td>\n",
       "      <td>N</td>\n",
       "      <td>Y</td>\n",
       "      <td>0</td>\n",
       "      <td>171000.0</td>\n",
       "      <td>Working</td>\n",
       "      <td>Incomplete higher</td>\n",
       "      <td>Single / not married</td>\n",
       "      <td>House / apartment</td>\n",
       "      <td>...</td>\n",
       "      <td>-107</td>\n",
       "      <td>1</td>\n",
       "      <td>0</td>\n",
       "      <td>0</td>\n",
       "      <td>0</td>\n",
       "      <td>Laborers</td>\n",
       "      <td>1.0</td>\n",
       "      <td>-59.0</td>\n",
       "      <td>2.0</td>\n",
       "      <td>S</td>\n",
       "    </tr>\n",
       "    <tr>\n",
       "      <th>26456</th>\n",
       "      <td>26456</td>\n",
       "      <td>F</td>\n",
       "      <td>N</td>\n",
       "      <td>N</td>\n",
       "      <td>0</td>\n",
       "      <td>81000.0</td>\n",
       "      <td>Working</td>\n",
       "      <td>Secondary / secondary special</td>\n",
       "      <td>Civil marriage</td>\n",
       "      <td>House / apartment</td>\n",
       "      <td>...</td>\n",
       "      <td>-1013</td>\n",
       "      <td>1</td>\n",
       "      <td>0</td>\n",
       "      <td>0</td>\n",
       "      <td>0</td>\n",
       "      <td>Security staff</td>\n",
       "      <td>2.0</td>\n",
       "      <td>-9.0</td>\n",
       "      <td>2.0</td>\n",
       "      <td>C</td>\n",
       "    </tr>\n",
       "  </tbody>\n",
       "</table>\n",
       "<p>26457 rows × 21 columns</p>\n",
       "</div>"
      ],
      "text/plain": [
       "       index gender car reality  child_num  income_total  \\\n",
       "0          0      F   N       N          0      202500.0   \n",
       "1          1      F   N       Y          1      247500.0   \n",
       "2          2      M   Y       Y          0      450000.0   \n",
       "3          3      F   N       Y          0      202500.0   \n",
       "4          4      F   Y       Y          0      157500.0   \n",
       "...      ...    ...  ..     ...        ...           ...   \n",
       "26452  26452      F   N       N          2      225000.0   \n",
       "26453  26453      F   N       Y          1      180000.0   \n",
       "26454  26454      F   Y       N          0      292500.0   \n",
       "26455  26455      M   N       Y          0      171000.0   \n",
       "26456  26456      F   N       N          0       81000.0   \n",
       "\n",
       "                income_type                       edu_type  \\\n",
       "0      Commercial associate               Higher education   \n",
       "1      Commercial associate  Secondary / secondary special   \n",
       "2                   Working               Higher education   \n",
       "3      Commercial associate  Secondary / secondary special   \n",
       "4             State servant               Higher education   \n",
       "...                     ...                            ...   \n",
       "26452         State servant  Secondary / secondary special   \n",
       "26453               Working               Higher education   \n",
       "26454               Working  Secondary / secondary special   \n",
       "26455               Working              Incomplete higher   \n",
       "26456               Working  Secondary / secondary special   \n",
       "\n",
       "                family_type           house_type  ...  DAYS_EMPLOYED  \\\n",
       "0                   Married  Municipal apartment  ...          -4709   \n",
       "1            Civil marriage    House / apartment  ...          -1540   \n",
       "2                   Married    House / apartment  ...          -4434   \n",
       "3                   Married    House / apartment  ...          -2092   \n",
       "4                   Married    House / apartment  ...          -2105   \n",
       "...                     ...                  ...  ...            ...   \n",
       "26452               Married    House / apartment  ...          -1984   \n",
       "26453             Separated    House / apartment  ...          -2475   \n",
       "26454        Civil marriage         With parents  ...          -2015   \n",
       "26455  Single / not married    House / apartment  ...           -107   \n",
       "26456        Civil marriage    House / apartment  ...          -1013   \n",
       "\n",
       "       FLAG_MOBIL  work_phone  phone  email      occyp_type family_size  \\\n",
       "0               1           0      0      0             NaN         2.0   \n",
       "1               1           0      0      1        Laborers         3.0   \n",
       "2               1           0      1      0        Managers         2.0   \n",
       "3               1           0      1      0     Sales staff         2.0   \n",
       "4               1           0      0      0        Managers         2.0   \n",
       "...           ...         ...    ...    ...             ...         ...   \n",
       "26452           1           0      0      0      Core staff         4.0   \n",
       "26453           1           0      0      0             NaN         2.0   \n",
       "26454           1           0      0      0      Core staff         2.0   \n",
       "26455           1           0      0      0        Laborers         1.0   \n",
       "26456           1           0      0      0  Security staff         2.0   \n",
       "\n",
       "       begin_month  credit  family_type_first  \n",
       "0             -6.0     1.0                  M  \n",
       "1             -5.0     1.0                  C  \n",
       "2            -22.0     2.0                  M  \n",
       "3            -37.0     0.0                  M  \n",
       "4            -26.0     2.0                  M  \n",
       "...            ...     ...                ...  \n",
       "26452         -2.0     1.0                  M  \n",
       "26453        -47.0     2.0                  S  \n",
       "26454        -25.0     2.0                  C  \n",
       "26455        -59.0     2.0                  S  \n",
       "26456         -9.0     2.0                  C  \n",
       "\n",
       "[26457 rows x 21 columns]"
      ]
     },
     "execution_count": 220,
     "metadata": {},
     "output_type": "execute_result"
    }
   ],
   "source": [
    "train['family_type_first'] = train['family_type'].apply(lambda x : x[0])\n",
    "train"
   ]
  },
  {
   "cell_type": "markdown",
   "metadata": {},
   "source": [
    "### 4-8. Natural Language Embedding\n",
    "\n",
    "자연어가 포함되어 있는 경우에 이를 vector로 표현하는 것도 하나의 방식입니다.\n",
    "\n",
    "- Word2Vec\n",
    "- TF-IDF \n",
    "- FastText\n",
    "- Bert\n",
    "\n",
    "등의 자연어 처리 방법론이 있습니다.\n",
    "일반적으로 `설명` feature가 있어 해당 설명을 모델에 넣기위해 사용합니다.\n",
    "\n",
    "\n",
    "[한국-서울+도쿄](https://word2vec.kr/search/?query=%ED%95%9C%EA%B5%AD-%EC%84%9C%EC%9A%B8%2B%EB%8F%84%EC%BF%84) 처럼 연산을 할 수 있다.\n",
    "\n",
    "좀 더 좋은 퀄리티의 [구글 자료](http://projector.tensorflow.org/)을 살펴봅시다.\n",
    "\n",
    "#### Further Reading\n",
    "\n",
    "- https://wikidocs.net/book/2155"
   ]
  },
  {
   "cell_type": "markdown",
   "metadata": {},
   "source": [
    "### 4-9. Feature from Missing Value\n",
    "\n",
    "결측치가 있다면 결측치가 있음을 1로, 결측치가 없음은 0으로 추가할 수도 있습니다. \n",
    "\n",
    "Occyp의 빈부분을 결측치가 있는 경우 1, 없는 경우 0으로 만들어보시오. (10분)"
   ]
  },
  {
   "cell_type": "code",
   "execution_count": 222,
   "metadata": {},
   "outputs": [
    {
     "data": {
      "text/plain": [
       "Laborers                 4512\n",
       "Core staff               2646\n",
       "Sales staff              2539\n",
       "Managers                 2167\n",
       "Drivers                  1575\n",
       "High skill tech staff    1040\n",
       "Accountants               902\n",
       "Medicine staff            864\n",
       "Cooking staff             457\n",
       "Security staff            424\n",
       "Cleaning staff            403\n",
       "Private service staff     243\n",
       "Low-skill Laborers        127\n",
       "Waiters/barmen staff      124\n",
       "Secretaries                97\n",
       "Realty agents              63\n",
       "HR staff                   62\n",
       "IT staff                   41\n",
       "Name: occyp_type, dtype: int64"
      ]
     },
     "execution_count": 222,
     "metadata": {},
     "output_type": "execute_result"
    }
   ],
   "source": [
    "train['occyp_type'].value_counts()"
   ]
  },
  {
   "cell_type": "code",
   "execution_count": null,
   "metadata": {},
   "outputs": [],
   "source": [
    "train['occyp_type_null'] = train['occyp_type'].apply(lambda x : 0)"
   ]
  },
  {
   "cell_type": "markdown",
   "metadata": {},
   "source": [
    "### 4-10. Clipping\n",
    "\n",
    "Scaling이 완료되었거나 범위가 극단적인 경우는 양끝을 잘라줄 수도 있습니다.\n",
    "\n",
    "가족 수에 관련된 feature를 본인의 기준에 따라 N명 이상인 경우는 N명으로 바꾸시오. 그리고 스케일링하시오. (15분)"
   ]
  },
  {
   "cell_type": "markdown",
   "metadata": {},
   "source": [
    "## Further Reading\n",
    "\n",
    "- category encoding : https://www.kaggle.com/c/cat-in-the-dat/overview"
   ]
  },
  {
   "cell_type": "markdown",
   "metadata": {},
   "source": [
    "## 5. 오늘의 목표 (30분)\n",
    "\n",
    "1. 범주형 변수 인코딩\n",
    "2. 수치형 변수와 범주형 변수를 통한 변수 생성\n",
    "3. Stratified KFold + 본인이 ML에서 선택하고 싶은 모델로 모델 생성\n",
    "4. 모델의 결과를 평균 내고 제출"
   ]
  },
  {
   "cell_type": "code",
   "execution_count": null,
   "metadata": {},
   "outputs": [],
   "source": []
  }
 ],
 "metadata": {
  "kernelspec": {
   "display_name": "Python 3",
   "language": "python",
   "name": "python3"
  },
  "language_info": {
   "codemirror_mode": {
    "name": "ipython",
    "version": 3
   },
   "file_extension": ".py",
   "mimetype": "text/x-python",
   "name": "python",
   "nbconvert_exporter": "python",
   "pygments_lexer": "ipython3",
   "version": "3.8.5"
  }
 },
 "nbformat": 4,
 "nbformat_minor": 4
}
