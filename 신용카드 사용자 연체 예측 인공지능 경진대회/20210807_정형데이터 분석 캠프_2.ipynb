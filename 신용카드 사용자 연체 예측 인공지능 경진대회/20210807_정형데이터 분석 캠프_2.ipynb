{
 "cells": [
  {
   "cell_type": "markdown",
   "metadata": {},
   "source": [
    "### Context\n",
    "\n",
    "#### Experiment Tools\n",
    "- WanDB"
   ]
  },
  {
   "cell_type": "code",
   "execution_count": 1,
   "metadata": {},
   "outputs": [],
   "source": [
    "sweep_config = {\n",
    "  \"name\" : \"mdc_sweep\",\n",
    "  \"method\" : \"bayes\",\n",
    "  \"parameters\" : {\n",
    "    \"max_depth\" : {\n",
    "      \"distribution\": \"int_uniform\",\n",
    "      \"min\":2,\n",
    "      \"max\":15\n",
    "    },\n",
    "    \"subsample\" :{\n",
    "      \"distribution\": \"uniform\",\n",
    "      \"min\": 0.5,\n",
    "      \"max\": 1.0\n",
    "    },\n",
    "    \"colsample_bytree\":{\n",
    "      \"distribution\": \"uniform\",\n",
    "      \"min\": 0.5,\n",
    "      \"max\": 1.0\n",
    "    }\n",
    "  },\n",
    "  \"metric\":{\n",
    "      \"name\": \"cv_loss\",\n",
    "      \"goal\": \"minimize\"\n",
    "  }\n",
    "}\n"
   ]
  },
  {
   "cell_type": "code",
   "execution_count": 3,
   "metadata": {},
   "outputs": [
    {
     "name": "stderr",
     "output_type": "stream",
     "text": [
      "wandb: You can find your API key in your browser here: https://wandb.ai/authorize\n"
     ]
    },
    {
     "name": "stdout",
     "output_type": "stream",
     "text": [
      "wandb: Paste an API key from your profile and hit enter: ········\n"
     ]
    },
    {
     "name": "stderr",
     "output_type": "stream",
     "text": [
      "wandb: Appending key for api.wandb.ai to your netrc file: C:\\Users\\medici/.netrc\n"
     ]
    },
    {
     "data": {
      "text/html": [
       "\n",
       "                Tracking run with wandb version 0.11.2<br/>\n",
       "                Syncing run <strong style=\"color:#cdcd00\">polished-snow-1</strong> to <a href=\"https://wandb.ai\" target=\"_blank\">Weights & Biases</a> <a href=\"https://docs.wandb.com/integrations/jupyter.html\" target=\"_blank\">(Documentation)</a>.<br/>\n",
       "                Project page: <a href=\"https://wandb.ai/chanwoong/uncategorized\" target=\"_blank\">https://wandb.ai/chanwoong/uncategorized</a><br/>\n",
       "                Run page: <a href=\"https://wandb.ai/chanwoong/uncategorized/runs/brb4n4rw\" target=\"_blank\">https://wandb.ai/chanwoong/uncategorized/runs/brb4n4rw</a><br/>\n",
       "                Run data is saved locally in <code>C:\\Users\\medici\\Desktop\\Python\\DACON\\신용카드 사용자 연체 예측 인공지능 경진대회\\wandb\\run-20210807_162359-brb4n4rw</code><br/><br/>\n",
       "            "
      ],
      "text/plain": [
       "<IPython.core.display.HTML object>"
      ]
     },
     "metadata": {},
     "output_type": "display_data"
    },
    {
     "name": "stderr",
     "output_type": "stream",
     "text": [
      "wandb: WARNING Calling wandb.login() after wandb.init() has no effect.\n"
     ]
    },
    {
     "name": "stdout",
     "output_type": "stream",
     "text": [
      "Create sweep with ID: 9hyhq5rj\n",
      "Sweep URL: https://wandb.ai/chanwoong/medici%20wandb%20test/sweeps/9hyhq5rj\n"
     ]
    }
   ],
   "source": [
    "import os\n",
    "from os.path import join\n",
    "\n",
    "import multiprocessing\n",
    "import warnings\n",
    "warnings.filterwarnings('ignore')\n",
    "\n",
    "import numpy as np\n",
    "import pandas as pd\n",
    "\n",
    "import wandb\n",
    "\n",
    "wandb.init()\n",
    "sweep_id = wandb.sweep(sweep_config, \n",
    "                       project=\"medici wandb test\")\n",
    "\n",
    "n_cpus = multiprocessing.cpu_count()"
   ]
  },
  {
   "cell_type": "code",
   "execution_count": 4,
   "metadata": {},
   "outputs": [],
   "source": [
    "BASE_DIR = './data' \n",
    "\n",
    "train_path = os.path.join(BASE_DIR, 'train.csv')\n",
    "test_path = os.path.join(BASE_DIR, 'test.csv')\n",
    "submission_path = os.path.join(BASE_DIR, 'sample_submission.csv')\n",
    "\n",
    "data = pd.read_csv(train_path)\n",
    "test = pd.read_csv(test_path)\n",
    "\n",
    "label = data['credit']"
   ]
  },
  {
   "cell_type": "code",
   "execution_count": 5,
   "metadata": {},
   "outputs": [],
   "source": [
    "# 불필요한 컬럼 제거\n",
    "data.drop(columns=['index', 'credit'], inplace=True)\n",
    "test.drop(columns=['index'],         inplace=True)"
   ]
  },
  {
   "cell_type": "code",
   "execution_count": 6,
   "metadata": {},
   "outputs": [
    {
     "name": "stdout",
     "output_type": "stream",
     "text": [
      "Categorical Columns: \n",
      "['gender', 'car', 'reality', 'income_type', 'edu_type', 'family_type', 'house_type', 'occyp_type']\n",
      "\n",
      "Numeric Columns: \n",
      "['child_num', 'income_total', 'DAYS_BIRTH', 'DAYS_EMPLOYED', 'FLAG_MOBIL', 'work_phone', 'phone', 'email', 'family_size', 'begin_month']\n"
     ]
    }
   ],
   "source": [
    "cat_columns = [c for c, t in zip(data.dtypes.index, data.dtypes) if t == 'O'] \n",
    "num_columns = [c for c    in data.columns if c not in cat_columns]\n",
    "\n",
    "print('Categorical Columns: \\n{}\\n'.format(cat_columns))\n",
    "print('Numeric Columns: \\n{}'.format(num_columns))"
   ]
  },
  {
   "cell_type": "markdown",
   "metadata": {},
   "source": [
    "#### 라벨 데이터 인코딩"
   ]
  },
  {
   "cell_type": "code",
   "execution_count": 7,
   "metadata": {},
   "outputs": [],
   "source": [
    "label = label.astype(int)"
   ]
  },
  {
   "cell_type": "markdown",
   "metadata": {
    "id": "lnoCcS0eEDph"
   },
   "source": [
    "#### 전처리 프로세스 함수로 작성"
   ]
  },
  {
   "cell_type": "code",
   "execution_count": 8,
   "metadata": {},
   "outputs": [],
   "source": [
    "from sklearn.impute import SimpleImputer\n",
    "from sklearn.preprocessing import StandardScaler, OneHotEncoder\n",
    "\n",
    "def preprocess(x_train, x_valid, x_test):\n",
    "    tmp_x_train = x_train.copy()\n",
    "    tmp_x_valid = x_valid.copy()\n",
    "    tmp_x_test  = x_test.copy()\n",
    "    \n",
    "    tmp_x_train.reset_index(drop=True, inplace=True)\n",
    "    tmp_x_valid.reset_index(drop=True, inplace=True)\n",
    "    \n",
    "    # 결측치 처리\n",
    "    imputer = SimpleImputer(strategy='most_frequent')\n",
    "    tmp_x_train[cat_columns] = imputer.fit_transform(tmp_x_train[cat_columns])\n",
    "    tmp_x_valid[cat_columns] = imputer.transform(tmp_x_valid[cat_columns])\n",
    "    tmp_x_test[cat_columns]  = imputer.transform(tmp_x_test[cat_columns])\n",
    "    \n",
    "    # 스케일링\n",
    "    scaler = StandardScaler()\n",
    "    tmp_x_train[num_columns] = scaler.fit_transform(tmp_x_train[num_columns])\n",
    "    tmp_x_valid[num_columns] = scaler.transform(tmp_x_valid[num_columns])\n",
    "    tmp_x_test[num_columns]  = scaler.transform(tmp_x_test[num_columns])\n",
    "\n",
    "    # 인코딩\n",
    "    ohe = OneHotEncoder(sparse=False)\n",
    "    ohe.fit(tmp_x_train[cat_columns])\n",
    "    \n",
    "    tmp_x_train_cat = pd.DataFrame(ohe.transform(tmp_x_train[cat_columns]))\n",
    "    tmp_x_valid_cat = pd.DataFrame(ohe.transform(tmp_x_valid[cat_columns]))\n",
    "    tmp_x_test_cat  = pd.DataFrame(ohe.transform(tmp_x_test[cat_columns]))\n",
    "    \n",
    "    tmp_x_train.drop(columns=cat_columns, inplace=True)\n",
    "    tmp_x_valid.drop(columns=cat_columns, inplace=True)\n",
    "    tmp_x_test.drop(columns=cat_columns, inplace=True)\n",
    "    \n",
    "    tmp_x_train = pd.concat([tmp_x_train, tmp_x_train_cat], axis=1)\n",
    "    tmp_x_valid = pd.concat([tmp_x_valid, tmp_x_valid_cat], axis=1)\n",
    "    tmp_x_test  = pd.concat([tmp_x_test, tmp_x_test_cat], axis=1)\n",
    "    \n",
    "    return tmp_x_train, tmp_x_valid, tmp_x_test"
   ]
  },
  {
   "cell_type": "markdown",
   "metadata": {
    "id": "d0YXWbF8EDpk"
   },
   "source": [
    "### Ensemble"
   ]
  },
  {
   "cell_type": "code",
   "execution_count": 9,
   "metadata": {
    "scrolled": false
   },
   "outputs": [
    {
     "name": "stderr",
     "output_type": "stream",
     "text": [
      "wandb: WARNING Calling wandb.login() after wandb.init() has no effect.\n",
      "wandb: Agent Starting Run: k04hggzp with config:\n",
      "wandb: \tcolsample_bytree: 0.7905667116083781\n",
      "wandb: \tmax_depth: 7\n",
      "wandb: \tsubsample: 0.9980462160605172\n"
     ]
    },
    {
     "data": {
      "text/html": [
       "\n",
       "                Tracking run with wandb version 0.11.2<br/>\n",
       "                Syncing run <strong style=\"color:#cdcd00\">earthy-sweep-1</strong> to <a href=\"https://wandb.ai\" target=\"_blank\">Weights & Biases</a> <a href=\"https://docs.wandb.com/integrations/jupyter.html\" target=\"_blank\">(Documentation)</a>.<br/>\n",
       "                Project page: <a href=\"https://wandb.ai/chanwoong/medici%20wandb%20test\" target=\"_blank\">https://wandb.ai/chanwoong/medici%20wandb%20test</a><br/>\n",
       "                Sweep page: <a href=\"https://wandb.ai/chanwoong/medici%20wandb%20test/sweeps/9hyhq5rj\" target=\"_blank\">https://wandb.ai/chanwoong/medici%20wandb%20test/sweeps/9hyhq5rj</a><br/>\n",
       "Run page: <a href=\"https://wandb.ai/chanwoong/medici%20wandb%20test/runs/k04hggzp\" target=\"_blank\">https://wandb.ai/chanwoong/medici%20wandb%20test/runs/k04hggzp</a><br/>\n",
       "                Run data is saved locally in <code>C:\\Users\\medici\\Desktop\\Python\\DACON\\신용카드 사용자 연체 예측 인공지능 경진대회\\wandb\\run-20210807_162454-k04hggzp</code><br/><br/>\n",
       "            "
      ],
      "text/plain": [
       "<IPython.core.display.HTML object>"
      ]
     },
     "metadata": {},
     "output_type": "display_data"
    },
    {
     "name": "stdout",
     "output_type": "stream",
     "text": [
      "[0]\tvalidation_0-mlogloss:0.97212\tvalidation_1-mlogloss:0.97695\n",
      "[100]\tvalidation_0-mlogloss:0.50743\tvalidation_1-mlogloss:0.72907\n",
      "[200]\tvalidation_0-mlogloss:0.37660\tvalidation_1-mlogloss:0.72269\n",
      "[274]\tvalidation_0-mlogloss:0.31588\tvalidation_1-mlogloss:0.73665\n",
      "0 Fold, train logloss : 0.40004, validation logloss : 0.7213\n",
      "[0]\tvalidation_0-mlogloss:0.97104\tvalidation_1-mlogloss:0.97829\n",
      "[100]\tvalidation_0-mlogloss:0.50158\tvalidation_1-mlogloss:0.73756\n",
      "[200]\tvalidation_0-mlogloss:0.36749\tvalidation_1-mlogloss:0.73987\n",
      "[222]\tvalidation_0-mlogloss:0.34652\tvalidation_1-mlogloss:0.74247\n",
      "1 Fold, train logloss : 0.46644, validation logloss : 0.7339\n",
      "[0]\tvalidation_0-mlogloss:0.99904\tvalidation_1-mlogloss:1.00361\n",
      "[100]\tvalidation_0-mlogloss:0.50782\tvalidation_1-mlogloss:0.73889\n",
      "[200]\tvalidation_0-mlogloss:0.38069\tvalidation_1-mlogloss:0.74159\n",
      "[221]\tvalidation_0-mlogloss:0.35857\tvalidation_1-mlogloss:0.74604\n",
      "2 Fold, train logloss : 0.46894, validation logloss : 0.7353\n",
      "[0]\tvalidation_0-mlogloss:0.99918\tvalidation_1-mlogloss:1.00400\n",
      "[100]\tvalidation_0-mlogloss:0.50081\tvalidation_1-mlogloss:0.73130\n",
      "[200]\tvalidation_0-mlogloss:0.37830\tvalidation_1-mlogloss:0.73271\n",
      "[249]\tvalidation_0-mlogloss:0.33978\tvalidation_1-mlogloss:0.74054\n",
      "3 Fold, train logloss : 0.43214, validation logloss : 0.7286\n",
      "[0]\tvalidation_0-mlogloss:0.99951\tvalidation_1-mlogloss:1.00451\n",
      "[100]\tvalidation_0-mlogloss:0.50345\tvalidation_1-mlogloss:0.73428\n",
      "[200]\tvalidation_0-mlogloss:0.37610\tvalidation_1-mlogloss:0.74124\n",
      "[225]\tvalidation_0-mlogloss:0.35139\tvalidation_1-mlogloss:0.74384\n",
      "4 Fold, train logloss : 0.46004, validation logloss : 0.7338\n"
     ]
    },
    {
     "data": {
      "text/html": [
       "<br/>Waiting for W&B process to finish, PID 16812<br/>Program ended successfully."
      ],
      "text/plain": [
       "<IPython.core.display.HTML object>"
      ]
     },
     "metadata": {},
     "output_type": "display_data"
    },
    {
     "data": {
      "application/vnd.jupyter.widget-view+json": {
       "model_id": "",
       "version_major": 2,
       "version_minor": 0
      },
      "text/plain": [
       "VBox(children=(Label(value=' 0.00MB of 0.00MB uploaded (0.00MB deduped)\\r'), FloatProgress(value=1.0, max=1.0)…"
      ]
     },
     "metadata": {},
     "output_type": "display_data"
    },
    {
     "data": {
      "text/html": [
       "Find user logs for this run at: <code>C:\\Users\\medici\\Desktop\\Python\\DACON\\신용카드 사용자 연체 예측 인공지능 경진대회\\wandb\\run-20210807_162454-k04hggzp\\logs\\debug.log</code>"
      ],
      "text/plain": [
       "<IPython.core.display.HTML object>"
      ]
     },
     "metadata": {},
     "output_type": "display_data"
    },
    {
     "data": {
      "text/html": [
       "Find internal logs for this run at: <code>C:\\Users\\medici\\Desktop\\Python\\DACON\\신용카드 사용자 연체 예측 인공지능 경진대회\\wandb\\run-20210807_162454-k04hggzp\\logs\\debug-internal.log</code>"
      ],
      "text/plain": [
       "<IPython.core.display.HTML object>"
      ]
     },
     "metadata": {},
     "output_type": "display_data"
    },
    {
     "data": {
      "text/html": [
       "<h3>Run summary:</h3><br/><style>\n",
       "    table.wandb td:nth-child(1) { padding: 0 10px; text-align: right }\n",
       "    </style><table class=\"wandb\">\n",
       "<tr><td>cv_loss</td><td>0.73058</td></tr><tr><td>_runtime</td><td>52</td></tr><tr><td>_timestamp</td><td>1628321146</td></tr><tr><td>_step</td><td>0</td></tr></table>"
      ],
      "text/plain": [
       "<IPython.core.display.HTML object>"
      ]
     },
     "metadata": {},
     "output_type": "display_data"
    },
    {
     "data": {
      "text/html": [
       "<h3>Run history:</h3><br/><style>\n",
       "    table.wandb td:nth-child(1) { padding: 0 10px; text-align: right }\n",
       "    </style><table class=\"wandb\">\n",
       "<tr><td>cv_loss</td><td>▁</td></tr><tr><td>_runtime</td><td>▁</td></tr><tr><td>_timestamp</td><td>▁</td></tr><tr><td>_step</td><td>▁</td></tr></table><br/>"
      ],
      "text/plain": [
       "<IPython.core.display.HTML object>"
      ]
     },
     "metadata": {},
     "output_type": "display_data"
    },
    {
     "data": {
      "text/html": [
       "Synced 6 W&B file(s), 0 media file(s), 0 artifact file(s) and 0 other file(s)"
      ],
      "text/plain": [
       "<IPython.core.display.HTML object>"
      ]
     },
     "metadata": {},
     "output_type": "display_data"
    },
    {
     "data": {
      "text/html": [
       "\n",
       "                    <br/>Synced <strong style=\"color:#cdcd00\">earthy-sweep-1</strong>: <a href=\"https://wandb.ai/chanwoong/medici%20wandb%20test/runs/k04hggzp\" target=\"_blank\">https://wandb.ai/chanwoong/medici%20wandb%20test/runs/k04hggzp</a><br/>\n",
       "                "
      ],
      "text/plain": [
       "<IPython.core.display.HTML object>"
      ]
     },
     "metadata": {},
     "output_type": "display_data"
    },
    {
     "name": "stderr",
     "output_type": "stream",
     "text": [
      "wandb: Agent Starting Run: 7c7hct7j with config:\n",
      "wandb: \tcolsample_bytree: 0.7879712600398464\n",
      "wandb: \tmax_depth: 6\n",
      "wandb: \tsubsample: 0.8861332993279486\n",
      "wandb: Currently logged in as: chanwoong (use `wandb login --relogin` to force relogin)\n"
     ]
    },
    {
     "data": {
      "text/html": [
       "\n",
       "                Tracking run with wandb version 0.11.2<br/>\n",
       "                Syncing run <strong style=\"color:#cdcd00\">cosmic-sweep-2</strong> to <a href=\"https://wandb.ai\" target=\"_blank\">Weights & Biases</a> <a href=\"https://docs.wandb.com/integrations/jupyter.html\" target=\"_blank\">(Documentation)</a>.<br/>\n",
       "                Project page: <a href=\"https://wandb.ai/chanwoong/medici%20wandb%20test\" target=\"_blank\">https://wandb.ai/chanwoong/medici%20wandb%20test</a><br/>\n",
       "                Sweep page: <a href=\"https://wandb.ai/chanwoong/medici%20wandb%20test/sweeps/9hyhq5rj\" target=\"_blank\">https://wandb.ai/chanwoong/medici%20wandb%20test/sweeps/9hyhq5rj</a><br/>\n",
       "Run page: <a href=\"https://wandb.ai/chanwoong/medici%20wandb%20test/runs/7c7hct7j\" target=\"_blank\">https://wandb.ai/chanwoong/medici%20wandb%20test/runs/7c7hct7j</a><br/>\n",
       "                Run data is saved locally in <code>C:\\Users\\medici\\Desktop\\Python\\DACON\\신용카드 사용자 연체 예측 인공지능 경진대회\\wandb\\run-20210807_162555-7c7hct7j</code><br/><br/>\n",
       "            "
      ],
      "text/plain": [
       "<IPython.core.display.HTML object>"
      ]
     },
     "metadata": {},
     "output_type": "display_data"
    },
    {
     "name": "stdout",
     "output_type": "stream",
     "text": [
      "[0]\tvalidation_0-mlogloss:0.97468\tvalidation_1-mlogloss:0.97688\n",
      "[100]\tvalidation_0-mlogloss:0.55388\tvalidation_1-mlogloss:0.72879\n",
      "[200]\tvalidation_0-mlogloss:0.43780\tvalidation_1-mlogloss:0.71815\n",
      "[300]\tvalidation_0-mlogloss:0.35618\tvalidation_1-mlogloss:0.72764\n",
      "0 Fold, train logloss : 0.43674, validation logloss : 0.7177\n",
      "[0]\tvalidation_0-mlogloss:0.97376\tvalidation_1-mlogloss:0.97940\n",
      "[100]\tvalidation_0-mlogloss:0.55424\tvalidation_1-mlogloss:0.74607\n",
      "[200]\tvalidation_0-mlogloss:0.43079\tvalidation_1-mlogloss:0.74180\n",
      "[300]\tvalidation_0-mlogloss:0.34797\tvalidation_1-mlogloss:0.75651\n",
      "[304]\tvalidation_0-mlogloss:0.34520\tvalidation_1-mlogloss:0.75665\n",
      "1 Fold, train logloss : 0.42544, validation logloss : 0.7415\n",
      "[0]\tvalidation_0-mlogloss:1.00160\tvalidation_1-mlogloss:1.00597\n",
      "[100]\tvalidation_0-mlogloss:0.55427\tvalidation_1-mlogloss:0.74272\n",
      "[200]\tvalidation_0-mlogloss:0.43338\tvalidation_1-mlogloss:0.73969\n",
      "[250]\tvalidation_0-mlogloss:0.38973\tvalidation_1-mlogloss:0.74626\n",
      "2 Fold, train logloss : 0.48374, validation logloss : 0.7366\n",
      "[0]\tvalidation_0-mlogloss:1.00188\tvalidation_1-mlogloss:1.00564\n",
      "[100]\tvalidation_0-mlogloss:0.55587\tvalidation_1-mlogloss:0.73330\n",
      "[200]\tvalidation_0-mlogloss:0.43283\tvalidation_1-mlogloss:0.73007\n",
      "[300]\tvalidation_0-mlogloss:0.35457\tvalidation_1-mlogloss:0.73899\n",
      "[329]\tvalidation_0-mlogloss:0.33511\tvalidation_1-mlogloss:0.74339\n",
      "3 Fold, train logloss : 0.40524, validation logloss : 0.7290\n",
      "[0]\tvalidation_0-mlogloss:1.00273\tvalidation_1-mlogloss:1.00567\n",
      "[100]\tvalidation_0-mlogloss:0.55714\tvalidation_1-mlogloss:0.73871\n",
      "[200]\tvalidation_0-mlogloss:0.43606\tvalidation_1-mlogloss:0.73274\n",
      "[245]\tvalidation_0-mlogloss:0.39492\tvalidation_1-mlogloss:0.73953\n",
      "4 Fold, train logloss : 0.49284, validation logloss : 0.7326\n"
     ]
    },
    {
     "data": {
      "text/html": [
       "<br/>Waiting for W&B process to finish, PID 24984<br/>Program ended successfully."
      ],
      "text/plain": [
       "<IPython.core.display.HTML object>"
      ]
     },
     "metadata": {},
     "output_type": "display_data"
    },
    {
     "data": {
      "application/vnd.jupyter.widget-view+json": {
       "model_id": "",
       "version_major": 2,
       "version_minor": 0
      },
      "text/plain": [
       "VBox(children=(Label(value=' 0.00MB of 0.00MB uploaded (0.00MB deduped)\\r'), FloatProgress(value=1.0, max=1.0)…"
      ]
     },
     "metadata": {},
     "output_type": "display_data"
    },
    {
     "data": {
      "text/html": [
       "Find user logs for this run at: <code>C:\\Users\\medici\\Desktop\\Python\\DACON\\신용카드 사용자 연체 예측 인공지능 경진대회\\wandb\\run-20210807_162555-7c7hct7j\\logs\\debug.log</code>"
      ],
      "text/plain": [
       "<IPython.core.display.HTML object>"
      ]
     },
     "metadata": {},
     "output_type": "display_data"
    },
    {
     "data": {
      "text/html": [
       "Find internal logs for this run at: <code>C:\\Users\\medici\\Desktop\\Python\\DACON\\신용카드 사용자 연체 예측 인공지능 경진대회\\wandb\\run-20210807_162555-7c7hct7j\\logs\\debug-internal.log</code>"
      ],
      "text/plain": [
       "<IPython.core.display.HTML object>"
      ]
     },
     "metadata": {},
     "output_type": "display_data"
    },
    {
     "data": {
      "text/html": [
       "<h3>Run summary:</h3><br/><style>\n",
       "    table.wandb td:nth-child(1) { padding: 0 10px; text-align: right }\n",
       "    </style><table class=\"wandb\">\n",
       "<tr><td>cv_loss</td><td>0.73146</td></tr><tr><td>_runtime</td><td>54</td></tr><tr><td>_timestamp</td><td>1628321209</td></tr><tr><td>_step</td><td>0</td></tr></table>"
      ],
      "text/plain": [
       "<IPython.core.display.HTML object>"
      ]
     },
     "metadata": {},
     "output_type": "display_data"
    },
    {
     "data": {
      "text/html": [
       "<h3>Run history:</h3><br/><style>\n",
       "    table.wandb td:nth-child(1) { padding: 0 10px; text-align: right }\n",
       "    </style><table class=\"wandb\">\n",
       "<tr><td>cv_loss</td><td>▁</td></tr><tr><td>_runtime</td><td>▁</td></tr><tr><td>_timestamp</td><td>▁</td></tr><tr><td>_step</td><td>▁</td></tr></table><br/>"
      ],
      "text/plain": [
       "<IPython.core.display.HTML object>"
      ]
     },
     "metadata": {},
     "output_type": "display_data"
    },
    {
     "data": {
      "text/html": [
       "Synced 6 W&B file(s), 0 media file(s), 0 artifact file(s) and 0 other file(s)"
      ],
      "text/plain": [
       "<IPython.core.display.HTML object>"
      ]
     },
     "metadata": {},
     "output_type": "display_data"
    },
    {
     "data": {
      "text/html": [
       "\n",
       "                    <br/>Synced <strong style=\"color:#cdcd00\">cosmic-sweep-2</strong>: <a href=\"https://wandb.ai/chanwoong/medici%20wandb%20test/runs/7c7hct7j\" target=\"_blank\">https://wandb.ai/chanwoong/medici%20wandb%20test/runs/7c7hct7j</a><br/>\n",
       "                "
      ],
      "text/plain": [
       "<IPython.core.display.HTML object>"
      ]
     },
     "metadata": {},
     "output_type": "display_data"
    },
    {
     "name": "stderr",
     "output_type": "stream",
     "text": [
      "wandb: Agent Starting Run: g3evbf7q with config:\n",
      "wandb: \tcolsample_bytree: 0.9229554981220864\n",
      "wandb: \tmax_depth: 8\n",
      "wandb: \tsubsample: 0.6410399369689497\n"
     ]
    },
    {
     "data": {
      "text/html": [
       "\n",
       "                Tracking run with wandb version 0.11.2<br/>\n",
       "                Syncing run <strong style=\"color:#cdcd00\">vocal-sweep-3</strong> to <a href=\"https://wandb.ai\" target=\"_blank\">Weights & Biases</a> <a href=\"https://docs.wandb.com/integrations/jupyter.html\" target=\"_blank\">(Documentation)</a>.<br/>\n",
       "                Project page: <a href=\"https://wandb.ai/chanwoong/medici%20wandb%20test\" target=\"_blank\">https://wandb.ai/chanwoong/medici%20wandb%20test</a><br/>\n",
       "                Sweep page: <a href=\"https://wandb.ai/chanwoong/medici%20wandb%20test/sweeps/9hyhq5rj\" target=\"_blank\">https://wandb.ai/chanwoong/medici%20wandb%20test/sweeps/9hyhq5rj</a><br/>\n",
       "Run page: <a href=\"https://wandb.ai/chanwoong/medici%20wandb%20test/runs/g3evbf7q\" target=\"_blank\">https://wandb.ai/chanwoong/medici%20wandb%20test/runs/g3evbf7q</a><br/>\n",
       "                Run data is saved locally in <code>C:\\Users\\medici\\Desktop\\Python\\DACON\\신용카드 사용자 연체 예측 인공지능 경진대회\\wandb\\run-20210807_162659-g3evbf7q</code><br/><br/>\n",
       "            "
      ],
      "text/plain": [
       "<IPython.core.display.HTML object>"
      ]
     },
     "metadata": {},
     "output_type": "display_data"
    },
    {
     "name": "stdout",
     "output_type": "stream",
     "text": [
      "[0]\tvalidation_0-mlogloss:0.96959\tvalidation_1-mlogloss:0.97586\n",
      "[100]\tvalidation_0-mlogloss:0.38526\tvalidation_1-mlogloss:0.73154\n",
      "[168]\tvalidation_0-mlogloss:0.26995\tvalidation_1-mlogloss:0.76700\n",
      "0 Fold, train logloss : 0.46434, validation logloss : 0.7245\n",
      "[0]\tvalidation_0-mlogloss:0.96994\tvalidation_1-mlogloss:0.97910\n",
      "[100]\tvalidation_0-mlogloss:0.37578\tvalidation_1-mlogloss:0.75351\n",
      "[168]\tvalidation_0-mlogloss:0.26767\tvalidation_1-mlogloss:0.79165\n",
      "1 Fold, train logloss : 0.45544, validation logloss : 0.7485\n",
      "[0]\tvalidation_0-mlogloss:0.99786\tvalidation_1-mlogloss:1.00452\n",
      "[100]\tvalidation_0-mlogloss:0.37273\tvalidation_1-mlogloss:0.75511\n",
      "[163]\tvalidation_0-mlogloss:0.26580\tvalidation_1-mlogloss:0.79552\n",
      "2 Fold, train logloss : 0.47144, validation logloss : 0.7442\n",
      "[0]\tvalidation_0-mlogloss:0.99674\tvalidation_1-mlogloss:1.00308\n",
      "[100]\tvalidation_0-mlogloss:0.38197\tvalidation_1-mlogloss:0.73712\n",
      "[170]\tvalidation_0-mlogloss:0.26511\tvalidation_1-mlogloss:0.77782\n",
      "3 Fold, train logloss : 0.44984, validation logloss : 0.7323\n",
      "[0]\tvalidation_0-mlogloss:0.99721\tvalidation_1-mlogloss:1.00391\n",
      "[100]\tvalidation_0-mlogloss:0.37542\tvalidation_1-mlogloss:0.74396\n",
      "[169]\tvalidation_0-mlogloss:0.26045\tvalidation_1-mlogloss:0.78467\n",
      "4 Fold, train logloss : 0.45464, validation logloss : 0.7349\n"
     ]
    },
    {
     "data": {
      "text/html": [
       "<br/>Waiting for W&B process to finish, PID 14412<br/>Program ended successfully."
      ],
      "text/plain": [
       "<IPython.core.display.HTML object>"
      ]
     },
     "metadata": {},
     "output_type": "display_data"
    },
    {
     "data": {
      "application/vnd.jupyter.widget-view+json": {
       "model_id": "",
       "version_major": 2,
       "version_minor": 0
      },
      "text/plain": [
       "VBox(children=(Label(value=' 0.00MB of 0.00MB uploaded (0.00MB deduped)\\r'), FloatProgress(value=1.0, max=1.0)…"
      ]
     },
     "metadata": {},
     "output_type": "display_data"
    },
    {
     "data": {
      "text/html": [
       "Find user logs for this run at: <code>C:\\Users\\medici\\Desktop\\Python\\DACON\\신용카드 사용자 연체 예측 인공지능 경진대회\\wandb\\run-20210807_162659-g3evbf7q\\logs\\debug.log</code>"
      ],
      "text/plain": [
       "<IPython.core.display.HTML object>"
      ]
     },
     "metadata": {},
     "output_type": "display_data"
    },
    {
     "data": {
      "text/html": [
       "Find internal logs for this run at: <code>C:\\Users\\medici\\Desktop\\Python\\DACON\\신용카드 사용자 연체 예측 인공지능 경진대회\\wandb\\run-20210807_162659-g3evbf7q\\logs\\debug-internal.log</code>"
      ],
      "text/plain": [
       "<IPython.core.display.HTML object>"
      ]
     },
     "metadata": {},
     "output_type": "display_data"
    },
    {
     "data": {
      "text/html": [
       "<h3>Run summary:</h3><br/><style>\n",
       "    table.wandb td:nth-child(1) { padding: 0 10px; text-align: right }\n",
       "    </style><table class=\"wandb\">\n",
       "<tr><td>cv_loss</td><td>0.73689</td></tr><tr><td>_runtime</td><td>51</td></tr><tr><td>_timestamp</td><td>1628321270</td></tr><tr><td>_step</td><td>0</td></tr></table>"
      ],
      "text/plain": [
       "<IPython.core.display.HTML object>"
      ]
     },
     "metadata": {},
     "output_type": "display_data"
    },
    {
     "data": {
      "text/html": [
       "<h3>Run history:</h3><br/><style>\n",
       "    table.wandb td:nth-child(1) { padding: 0 10px; text-align: right }\n",
       "    </style><table class=\"wandb\">\n",
       "<tr><td>cv_loss</td><td>▁</td></tr><tr><td>_runtime</td><td>▁</td></tr><tr><td>_timestamp</td><td>▁</td></tr><tr><td>_step</td><td>▁</td></tr></table><br/>"
      ],
      "text/plain": [
       "<IPython.core.display.HTML object>"
      ]
     },
     "metadata": {},
     "output_type": "display_data"
    },
    {
     "data": {
      "text/html": [
       "Synced 6 W&B file(s), 0 media file(s), 0 artifact file(s) and 0 other file(s)"
      ],
      "text/plain": [
       "<IPython.core.display.HTML object>"
      ]
     },
     "metadata": {},
     "output_type": "display_data"
    },
    {
     "data": {
      "text/html": [
       "\n",
       "                    <br/>Synced <strong style=\"color:#cdcd00\">vocal-sweep-3</strong>: <a href=\"https://wandb.ai/chanwoong/medici%20wandb%20test/runs/g3evbf7q\" target=\"_blank\">https://wandb.ai/chanwoong/medici%20wandb%20test/runs/g3evbf7q</a><br/>\n",
       "                "
      ],
      "text/plain": [
       "<IPython.core.display.HTML object>"
      ]
     },
     "metadata": {},
     "output_type": "display_data"
    },
    {
     "name": "stderr",
     "output_type": "stream",
     "text": [
      "wandb: Agent Starting Run: j8q3mlh1 with config:\n",
      "wandb: \tcolsample_bytree: 0.6383242015013462\n",
      "wandb: \tmax_depth: 7\n",
      "wandb: \tsubsample: 0.9866775129350097\n"
     ]
    },
    {
     "data": {
      "text/html": [
       "\n",
       "                Tracking run with wandb version 0.11.2<br/>\n",
       "                Syncing run <strong style=\"color:#cdcd00\">eager-sweep-4</strong> to <a href=\"https://wandb.ai\" target=\"_blank\">Weights & Biases</a> <a href=\"https://docs.wandb.com/integrations/jupyter.html\" target=\"_blank\">(Documentation)</a>.<br/>\n",
       "                Project page: <a href=\"https://wandb.ai/chanwoong/medici%20wandb%20test\" target=\"_blank\">https://wandb.ai/chanwoong/medici%20wandb%20test</a><br/>\n",
       "                Sweep page: <a href=\"https://wandb.ai/chanwoong/medici%20wandb%20test/sweeps/9hyhq5rj\" target=\"_blank\">https://wandb.ai/chanwoong/medici%20wandb%20test/sweeps/9hyhq5rj</a><br/>\n",
       "Run page: <a href=\"https://wandb.ai/chanwoong/medici%20wandb%20test/runs/j8q3mlh1\" target=\"_blank\">https://wandb.ai/chanwoong/medici%20wandb%20test/runs/j8q3mlh1</a><br/>\n",
       "                Run data is saved locally in <code>C:\\Users\\medici\\Desktop\\Python\\DACON\\신용카드 사용자 연체 예측 인공지능 경진대회\\wandb\\run-20210807_162826-j8q3mlh1</code><br/><br/>\n",
       "            "
      ],
      "text/plain": [
       "<IPython.core.display.HTML object>"
      ]
     },
     "metadata": {},
     "output_type": "display_data"
    },
    {
     "name": "stdout",
     "output_type": "stream",
     "text": [
      "[0]\tvalidation_0-mlogloss:0.97310\tvalidation_1-mlogloss:0.97730\n",
      "[100]\tvalidation_0-mlogloss:0.51512\tvalidation_1-mlogloss:0.72076\n",
      "[200]\tvalidation_0-mlogloss:0.38612\tvalidation_1-mlogloss:0.72102\n",
      "[226]\tvalidation_0-mlogloss:0.35750\tvalidation_1-mlogloss:0.72517\n",
      "0 Fold, train logloss : 0.47564, validation logloss : 0.7166\n",
      "[0]\tvalidation_0-mlogloss:0.97177\tvalidation_1-mlogloss:0.97860\n",
      "[100]\tvalidation_0-mlogloss:0.51277\tvalidation_1-mlogloss:0.73633\n",
      "[200]\tvalidation_0-mlogloss:0.38614\tvalidation_1-mlogloss:0.73430\n",
      "[255]\tvalidation_0-mlogloss:0.33748\tvalidation_1-mlogloss:0.74248\n",
      "1 Fold, train logloss : 0.43644, validation logloss : 0.7306\n",
      "[0]\tvalidation_0-mlogloss:1.00046\tvalidation_1-mlogloss:1.00595\n",
      "[100]\tvalidation_0-mlogloss:0.50699\tvalidation_1-mlogloss:0.73064\n",
      "[200]\tvalidation_0-mlogloss:0.38308\tvalidation_1-mlogloss:0.73040\n",
      "[235]\tvalidation_0-mlogloss:0.35079\tvalidation_1-mlogloss:0.73653\n",
      "2 Fold, train logloss : 0.45164, validation logloss : 0.7254\n",
      "[0]\tvalidation_0-mlogloss:0.99998\tvalidation_1-mlogloss:1.00533\n",
      "[100]\tvalidation_0-mlogloss:0.51653\tvalidation_1-mlogloss:0.72926\n",
      "[200]\tvalidation_0-mlogloss:0.38922\tvalidation_1-mlogloss:0.72557\n",
      "[253]\tvalidation_0-mlogloss:0.34358\tvalidation_1-mlogloss:0.73412\n",
      "3 Fold, train logloss : 0.43824, validation logloss : 0.7233\n",
      "[0]\tvalidation_0-mlogloss:1.00024\tvalidation_1-mlogloss:1.00411\n",
      "[100]\tvalidation_0-mlogloss:0.51950\tvalidation_1-mlogloss:0.72941\n",
      "[200]\tvalidation_0-mlogloss:0.39116\tvalidation_1-mlogloss:0.72988\n",
      "[240]\tvalidation_0-mlogloss:0.35206\tvalidation_1-mlogloss:0.73722\n",
      "4 Fold, train logloss : 0.45664, validation logloss : 0.7252\n"
     ]
    },
    {
     "data": {
      "text/html": [
       "<br/>Waiting for W&B process to finish, PID 13144<br/>Program ended successfully."
      ],
      "text/plain": [
       "<IPython.core.display.HTML object>"
      ]
     },
     "metadata": {},
     "output_type": "display_data"
    },
    {
     "data": {
      "application/vnd.jupyter.widget-view+json": {
       "model_id": "",
       "version_major": 2,
       "version_minor": 0
      },
      "text/plain": [
       "VBox(children=(Label(value=' 0.00MB of 0.00MB uploaded (0.00MB deduped)\\r'), FloatProgress(value=1.0, max=1.0)…"
      ]
     },
     "metadata": {},
     "output_type": "display_data"
    },
    {
     "data": {
      "text/html": [
       "Find user logs for this run at: <code>C:\\Users\\medici\\Desktop\\Python\\DACON\\신용카드 사용자 연체 예측 인공지능 경진대회\\wandb\\run-20210807_162826-j8q3mlh1\\logs\\debug.log</code>"
      ],
      "text/plain": [
       "<IPython.core.display.HTML object>"
      ]
     },
     "metadata": {},
     "output_type": "display_data"
    },
    {
     "data": {
      "text/html": [
       "Find internal logs for this run at: <code>C:\\Users\\medici\\Desktop\\Python\\DACON\\신용카드 사용자 연체 예측 인공지능 경진대회\\wandb\\run-20210807_162826-j8q3mlh1\\logs\\debug-internal.log</code>"
      ],
      "text/plain": [
       "<IPython.core.display.HTML object>"
      ]
     },
     "metadata": {},
     "output_type": "display_data"
    },
    {
     "data": {
      "text/html": [
       "<h3>Run summary:</h3><br/><style>\n",
       "    table.wandb td:nth-child(1) { padding: 0 10px; text-align: right }\n",
       "    </style><table class=\"wandb\">\n",
       "<tr><td>cv_loss</td><td>0.72421</td></tr><tr><td>_runtime</td><td>49</td></tr><tr><td>_timestamp</td><td>1628321355</td></tr><tr><td>_step</td><td>0</td></tr></table>"
      ],
      "text/plain": [
       "<IPython.core.display.HTML object>"
      ]
     },
     "metadata": {},
     "output_type": "display_data"
    },
    {
     "data": {
      "text/html": [
       "<h3>Run history:</h3><br/><style>\n",
       "    table.wandb td:nth-child(1) { padding: 0 10px; text-align: right }\n",
       "    </style><table class=\"wandb\">\n",
       "<tr><td>cv_loss</td><td>▁</td></tr><tr><td>_runtime</td><td>▁</td></tr><tr><td>_timestamp</td><td>▁</td></tr><tr><td>_step</td><td>▁</td></tr></table><br/>"
      ],
      "text/plain": [
       "<IPython.core.display.HTML object>"
      ]
     },
     "metadata": {},
     "output_type": "display_data"
    },
    {
     "data": {
      "text/html": [
       "Synced 6 W&B file(s), 0 media file(s), 0 artifact file(s) and 0 other file(s)"
      ],
      "text/plain": [
       "<IPython.core.display.HTML object>"
      ]
     },
     "metadata": {},
     "output_type": "display_data"
    },
    {
     "data": {
      "text/html": [
       "\n",
       "                    <br/>Synced <strong style=\"color:#cdcd00\">eager-sweep-4</strong>: <a href=\"https://wandb.ai/chanwoong/medici%20wandb%20test/runs/j8q3mlh1\" target=\"_blank\">https://wandb.ai/chanwoong/medici%20wandb%20test/runs/j8q3mlh1</a><br/>\n",
       "                "
      ],
      "text/plain": [
       "<IPython.core.display.HTML object>"
      ]
     },
     "metadata": {},
     "output_type": "display_data"
    },
    {
     "name": "stderr",
     "output_type": "stream",
     "text": [
      "wandb: Agent Starting Run: oxnd0n5e with config:\n",
      "wandb: \tcolsample_bytree: 0.5725564757511616\n",
      "wandb: \tmax_depth: 7\n",
      "wandb: \tsubsample: 0.9689280453272853\n"
     ]
    },
    {
     "data": {
      "text/html": [
       "\n",
       "                Tracking run with wandb version 0.11.2<br/>\n",
       "                Syncing run <strong style=\"color:#cdcd00\">vague-sweep-5</strong> to <a href=\"https://wandb.ai\" target=\"_blank\">Weights & Biases</a> <a href=\"https://docs.wandb.com/integrations/jupyter.html\" target=\"_blank\">(Documentation)</a>.<br/>\n",
       "                Project page: <a href=\"https://wandb.ai/chanwoong/medici%20wandb%20test\" target=\"_blank\">https://wandb.ai/chanwoong/medici%20wandb%20test</a><br/>\n",
       "                Sweep page: <a href=\"https://wandb.ai/chanwoong/medici%20wandb%20test/sweeps/9hyhq5rj\" target=\"_blank\">https://wandb.ai/chanwoong/medici%20wandb%20test/sweeps/9hyhq5rj</a><br/>\n",
       "Run page: <a href=\"https://wandb.ai/chanwoong/medici%20wandb%20test/runs/oxnd0n5e\" target=\"_blank\">https://wandb.ai/chanwoong/medici%20wandb%20test/runs/oxnd0n5e</a><br/>\n",
       "                Run data is saved locally in <code>C:\\Users\\medici\\Desktop\\Python\\DACON\\신용카드 사용자 연체 예측 인공지능 경진대회\\wandb\\run-20210807_162924-oxnd0n5e</code><br/><br/>\n",
       "            "
      ],
      "text/plain": [
       "<IPython.core.display.HTML object>"
      ]
     },
     "metadata": {},
     "output_type": "display_data"
    },
    {
     "name": "stdout",
     "output_type": "stream",
     "text": [
      "[0]\tvalidation_0-mlogloss:0.97361\tvalidation_1-mlogloss:0.97653\n",
      "[100]\tvalidation_0-mlogloss:0.52229\tvalidation_1-mlogloss:0.72092\n",
      "[200]\tvalidation_0-mlogloss:0.39180\tvalidation_1-mlogloss:0.71667\n",
      "[246]\tvalidation_0-mlogloss:0.35181\tvalidation_1-mlogloss:0.71867\n",
      "0 Fold, train logloss : 0.45584, validation logloss : 0.7141\n",
      "[0]\tvalidation_0-mlogloss:0.97208\tvalidation_1-mlogloss:0.97876\n",
      "[100]\tvalidation_0-mlogloss:0.51413\tvalidation_1-mlogloss:0.73508\n",
      "[200]\tvalidation_0-mlogloss:0.38482\tvalidation_1-mlogloss:0.72969\n",
      "[263]\tvalidation_0-mlogloss:0.33190\tvalidation_1-mlogloss:0.74245\n",
      "1 Fold, train logloss : 0.42354, validation logloss : 0.7271\n",
      "[0]\tvalidation_0-mlogloss:1.00037\tvalidation_1-mlogloss:1.00541\n",
      "[100]\tvalidation_0-mlogloss:0.51586\tvalidation_1-mlogloss:0.73227\n",
      "[200]\tvalidation_0-mlogloss:0.39055\tvalidation_1-mlogloss:0.73565\n",
      "[212]\tvalidation_0-mlogloss:0.37837\tvalidation_1-mlogloss:0.73759\n",
      "2 Fold, train logloss : 0.49234, validation logloss : 0.7314\n",
      "[0]\tvalidation_0-mlogloss:0.99983\tvalidation_1-mlogloss:1.00549\n",
      "[100]\tvalidation_0-mlogloss:0.51321\tvalidation_1-mlogloss:0.72754\n",
      "[200]\tvalidation_0-mlogloss:0.38720\tvalidation_1-mlogloss:0.72518\n",
      "[242]\tvalidation_0-mlogloss:0.35135\tvalidation_1-mlogloss:0.73101\n",
      "3 Fold, train logloss : 0.45074, validation logloss : 0.7231\n",
      "[0]\tvalidation_0-mlogloss:1.00164\tvalidation_1-mlogloss:1.00556\n",
      "[100]\tvalidation_0-mlogloss:0.52258\tvalidation_1-mlogloss:0.73047\n",
      "[200]\tvalidation_0-mlogloss:0.39426\tvalidation_1-mlogloss:0.73381\n",
      "[239]\tvalidation_0-mlogloss:0.35638\tvalidation_1-mlogloss:0.73761\n",
      "4 Fold, train logloss : 0.45874, validation logloss : 0.7296\n"
     ]
    },
    {
     "data": {
      "text/html": [
       "<br/>Waiting for W&B process to finish, PID 5460<br/>Program ended successfully."
      ],
      "text/plain": [
       "<IPython.core.display.HTML object>"
      ]
     },
     "metadata": {},
     "output_type": "display_data"
    },
    {
     "data": {
      "application/vnd.jupyter.widget-view+json": {
       "model_id": "",
       "version_major": 2,
       "version_minor": 0
      },
      "text/plain": [
       "VBox(children=(Label(value=' 0.00MB of 0.00MB uploaded (0.00MB deduped)\\r'), FloatProgress(value=1.0, max=1.0)…"
      ]
     },
     "metadata": {},
     "output_type": "display_data"
    },
    {
     "data": {
      "text/html": [
       "Find user logs for this run at: <code>C:\\Users\\medici\\Desktop\\Python\\DACON\\신용카드 사용자 연체 예측 인공지능 경진대회\\wandb\\run-20210807_162924-oxnd0n5e\\logs\\debug.log</code>"
      ],
      "text/plain": [
       "<IPython.core.display.HTML object>"
      ]
     },
     "metadata": {},
     "output_type": "display_data"
    },
    {
     "data": {
      "text/html": [
       "Find internal logs for this run at: <code>C:\\Users\\medici\\Desktop\\Python\\DACON\\신용카드 사용자 연체 예측 인공지능 경진대회\\wandb\\run-20210807_162924-oxnd0n5e\\logs\\debug-internal.log</code>"
      ],
      "text/plain": [
       "<IPython.core.display.HTML object>"
      ]
     },
     "metadata": {},
     "output_type": "display_data"
    },
    {
     "data": {
      "text/html": [
       "<h3>Run summary:</h3><br/><style>\n",
       "    table.wandb td:nth-child(1) { padding: 0 10px; text-align: right }\n",
       "    </style><table class=\"wandb\">\n",
       "<tr><td>cv_loss</td><td>0.72504</td></tr><tr><td>_runtime</td><td>47</td></tr><tr><td>_timestamp</td><td>1628321411</td></tr><tr><td>_step</td><td>0</td></tr></table>"
      ],
      "text/plain": [
       "<IPython.core.display.HTML object>"
      ]
     },
     "metadata": {},
     "output_type": "display_data"
    },
    {
     "data": {
      "text/html": [
       "<h3>Run history:</h3><br/><style>\n",
       "    table.wandb td:nth-child(1) { padding: 0 10px; text-align: right }\n",
       "    </style><table class=\"wandb\">\n",
       "<tr><td>cv_loss</td><td>▁</td></tr><tr><td>_runtime</td><td>▁</td></tr><tr><td>_timestamp</td><td>▁</td></tr><tr><td>_step</td><td>▁</td></tr></table><br/>"
      ],
      "text/plain": [
       "<IPython.core.display.HTML object>"
      ]
     },
     "metadata": {},
     "output_type": "display_data"
    },
    {
     "data": {
      "text/html": [
       "Synced 6 W&B file(s), 0 media file(s), 0 artifact file(s) and 0 other file(s)"
      ],
      "text/plain": [
       "<IPython.core.display.HTML object>"
      ]
     },
     "metadata": {},
     "output_type": "display_data"
    },
    {
     "data": {
      "text/html": [
       "\n",
       "                    <br/>Synced <strong style=\"color:#cdcd00\">vague-sweep-5</strong>: <a href=\"https://wandb.ai/chanwoong/medici%20wandb%20test/runs/oxnd0n5e\" target=\"_blank\">https://wandb.ai/chanwoong/medici%20wandb%20test/runs/oxnd0n5e</a><br/>\n",
       "                "
      ],
      "text/plain": [
       "<IPython.core.display.HTML object>"
      ]
     },
     "metadata": {},
     "output_type": "display_data"
    }
   ],
   "source": [
    "from sklearn.model_selection import StratifiedKFold\n",
    "from sklearn.metrics import log_loss\n",
    "from xgboost import XGBClassifier\n",
    "\n",
    "def train():\n",
    "    with wandb.init() as run:\n",
    "        params = wandb.config\n",
    "        \n",
    "        val_scores = list()\n",
    "        n_splits = 5\n",
    "\n",
    "        skf = StratifiedKFold(n_splits=n_splits, shuffle=True, random_state=42)\n",
    "\n",
    "        for i, (trn_idx, val_idx) in enumerate(skf.split(data, label)):\n",
    "            x_train, y_train = data.iloc[trn_idx, :], label.iloc[trn_idx,]\n",
    "            x_valid, y_valid = data.iloc[val_idx, :], label.iloc[val_idx,]\n",
    "\n",
    "            # 전처리\n",
    "            x_train, x_valid, x_test = preprocess(x_train, x_valid, test)\n",
    "\n",
    "            # 모델 정의\n",
    "            model = XGBClassifier(n_estimators=1000,\n",
    "                                  max_depth=params['max_depth'],\n",
    "                                  subsample=params['subsample'],\n",
    "                                  colsample_bytree=params['colsample_bytree'],\n",
    "#                                   tree_method='gpu_hist',\n",
    "                                  n_jobs=n_cpus-1)\n",
    "\n",
    "            # 모델 학습\n",
    "            model.fit(x_train, y_train, \n",
    "                      eval_metric='mlogloss', \n",
    "                      eval_set=[[x_train, y_train], [x_valid, y_valid]],\n",
    "                      early_stopping_rounds=100,\n",
    "                      verbose=100)\n",
    "\n",
    "            # 훈련, 검증 데이터 log_loss 확인\n",
    "            trn_logloss = log_loss(y_train, model.predict_proba(x_train))\n",
    "            val_logloss = log_loss(y_valid, model.predict_proba(x_valid))\n",
    "            print('{} Fold, train logloss : {:.4f}4, validation logloss : {:.4f}'.format(i, trn_logloss, val_logloss))\n",
    "\n",
    "            val_scores.append(val_logloss)\n",
    "            \n",
    "        metrics = {\"cv_loss\": np.mean(val_scores)}\n",
    "        wandb.log(metrics)\n",
    "count = 5\n",
    "wandb.agent(sweep_id, function=train, count=count)"
   ]
  },
  {
   "cell_type": "code",
   "execution_count": null,
   "metadata": {},
   "outputs": [],
   "source": [
    "# submit.to_csv('oof_first_submit.csv', index=False)"
   ]
  },
  {
   "cell_type": "code",
   "execution_count": null,
   "metadata": {},
   "outputs": [],
   "source": []
  },
  {
   "cell_type": "code",
   "execution_count": null,
   "metadata": {},
   "outputs": [],
   "source": []
  }
 ],
 "metadata": {
  "kernelspec": {
   "display_name": "Python 3",
   "language": "python",
   "name": "python3"
  },
  "language_info": {
   "codemirror_mode": {
    "name": "ipython",
    "version": 3
   },
   "file_extension": ".py",
   "mimetype": "text/x-python",
   "name": "python",
   "nbconvert_exporter": "python",
   "pygments_lexer": "ipython3",
   "version": "3.8.5"
  }
 },
 "nbformat": 4,
 "nbformat_minor": 4
}
