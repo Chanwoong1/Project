{
 "cells": [
  {
   "cell_type": "markdown",
   "metadata": {},
   "source": [
    "# DAY1 : EDA와 데이터 전처리"
   ]
  },
  {
   "cell_type": "code",
   "execution_count": 94,
   "metadata": {},
   "outputs": [],
   "source": [
    "import os\n",
    "import numpy as np\n",
    "import pandas as pd\n",
    "import matplotlib as mpl\n",
    "import matplotlib.pyplot as plt"
   ]
  },
  {
   "cell_type": "code",
   "execution_count": 95,
   "metadata": {},
   "outputs": [
    {
     "name": "stdout",
     "output_type": "stream",
     "text": [
      "numpy version : 1.19.2\n",
      "pandas version : 1.2.4\n",
      "matplotlib version : 3.3.2\n"
     ]
    }
   ],
   "source": [
    "print('numpy version :', np.__version__)\n",
    "print('pandas version :', pd.__version__)\n",
    "print('matplotlib version :', mpl.__version__)"
   ]
  },
  {
   "cell_type": "markdown",
   "metadata": {},
   "source": [
    "## 1. 데이터 불러오기"
   ]
  },
  {
   "cell_type": "code",
   "execution_count": 96,
   "metadata": {},
   "outputs": [],
   "source": [
    "BASE_DIR = './data'\n",
    "train_path = os.path.join(BASE_DIR, 'train.csv')\n",
    "test_path = os.path.join(BASE_DIR, 'test.csv')"
   ]
  },
  {
   "cell_type": "code",
   "execution_count": 97,
   "metadata": {},
   "outputs": [],
   "source": [
    "data = pd.read_csv(train_path)\n",
    "test_data = pd.read_csv(test_path)\n",
    "target = data['credit']"
   ]
  },
  {
   "cell_type": "markdown",
   "metadata": {},
   "source": [
    "## 2. 데이터 살펴보기\n",
    "\n",
    "데이터를 받으면 확인해야할 것\n",
    "\n",
    "1. 컬럼 별 데이터의 형태 (Type)\n",
    "2. 데이터 개수 (Shape)\n",
    "3. 데이터 결측치 (Missing Value) \n",
    "4. 데이터 통계값 (Statistics)\n",
    "5. 데이터의 분포 (Distribution)\n",
    "6. 데이터의 예외값 (Outlier)\n",
    "\n",
    "### 2-1. 데이터 대략적으로 이해하기"
   ]
  },
  {
   "cell_type": "code",
   "execution_count": 98,
   "metadata": {},
   "outputs": [
    {
     "data": {
      "text/html": [
       "<div>\n",
       "<style scoped>\n",
       "    .dataframe tbody tr th:only-of-type {\n",
       "        vertical-align: middle;\n",
       "    }\n",
       "\n",
       "    .dataframe tbody tr th {\n",
       "        vertical-align: top;\n",
       "    }\n",
       "\n",
       "    .dataframe thead th {\n",
       "        text-align: right;\n",
       "    }\n",
       "</style>\n",
       "<table border=\"1\" class=\"dataframe\">\n",
       "  <thead>\n",
       "    <tr style=\"text-align: right;\">\n",
       "      <th></th>\n",
       "      <th>index</th>\n",
       "      <th>gender</th>\n",
       "      <th>car</th>\n",
       "      <th>reality</th>\n",
       "      <th>child_num</th>\n",
       "      <th>income_total</th>\n",
       "      <th>income_type</th>\n",
       "      <th>edu_type</th>\n",
       "      <th>family_type</th>\n",
       "      <th>house_type</th>\n",
       "      <th>DAYS_BIRTH</th>\n",
       "      <th>DAYS_EMPLOYED</th>\n",
       "      <th>FLAG_MOBIL</th>\n",
       "      <th>work_phone</th>\n",
       "      <th>phone</th>\n",
       "      <th>email</th>\n",
       "      <th>occyp_type</th>\n",
       "      <th>family_size</th>\n",
       "      <th>begin_month</th>\n",
       "      <th>credit</th>\n",
       "    </tr>\n",
       "  </thead>\n",
       "  <tbody>\n",
       "    <tr>\n",
       "      <th>0</th>\n",
       "      <td>0</td>\n",
       "      <td>F</td>\n",
       "      <td>N</td>\n",
       "      <td>N</td>\n",
       "      <td>0</td>\n",
       "      <td>202500.0</td>\n",
       "      <td>Commercial associate</td>\n",
       "      <td>Higher education</td>\n",
       "      <td>Married</td>\n",
       "      <td>Municipal apartment</td>\n",
       "      <td>-13899</td>\n",
       "      <td>-4709</td>\n",
       "      <td>1</td>\n",
       "      <td>0</td>\n",
       "      <td>0</td>\n",
       "      <td>0</td>\n",
       "      <td>NaN</td>\n",
       "      <td>2.0</td>\n",
       "      <td>-6.0</td>\n",
       "      <td>1.0</td>\n",
       "    </tr>\n",
       "    <tr>\n",
       "      <th>1</th>\n",
       "      <td>1</td>\n",
       "      <td>F</td>\n",
       "      <td>N</td>\n",
       "      <td>Y</td>\n",
       "      <td>1</td>\n",
       "      <td>247500.0</td>\n",
       "      <td>Commercial associate</td>\n",
       "      <td>Secondary / secondary special</td>\n",
       "      <td>Civil marriage</td>\n",
       "      <td>House / apartment</td>\n",
       "      <td>-11380</td>\n",
       "      <td>-1540</td>\n",
       "      <td>1</td>\n",
       "      <td>0</td>\n",
       "      <td>0</td>\n",
       "      <td>1</td>\n",
       "      <td>Laborers</td>\n",
       "      <td>3.0</td>\n",
       "      <td>-5.0</td>\n",
       "      <td>1.0</td>\n",
       "    </tr>\n",
       "    <tr>\n",
       "      <th>2</th>\n",
       "      <td>2</td>\n",
       "      <td>M</td>\n",
       "      <td>Y</td>\n",
       "      <td>Y</td>\n",
       "      <td>0</td>\n",
       "      <td>450000.0</td>\n",
       "      <td>Working</td>\n",
       "      <td>Higher education</td>\n",
       "      <td>Married</td>\n",
       "      <td>House / apartment</td>\n",
       "      <td>-19087</td>\n",
       "      <td>-4434</td>\n",
       "      <td>1</td>\n",
       "      <td>0</td>\n",
       "      <td>1</td>\n",
       "      <td>0</td>\n",
       "      <td>Managers</td>\n",
       "      <td>2.0</td>\n",
       "      <td>-22.0</td>\n",
       "      <td>2.0</td>\n",
       "    </tr>\n",
       "    <tr>\n",
       "      <th>3</th>\n",
       "      <td>3</td>\n",
       "      <td>F</td>\n",
       "      <td>N</td>\n",
       "      <td>Y</td>\n",
       "      <td>0</td>\n",
       "      <td>202500.0</td>\n",
       "      <td>Commercial associate</td>\n",
       "      <td>Secondary / secondary special</td>\n",
       "      <td>Married</td>\n",
       "      <td>House / apartment</td>\n",
       "      <td>-15088</td>\n",
       "      <td>-2092</td>\n",
       "      <td>1</td>\n",
       "      <td>0</td>\n",
       "      <td>1</td>\n",
       "      <td>0</td>\n",
       "      <td>Sales staff</td>\n",
       "      <td>2.0</td>\n",
       "      <td>-37.0</td>\n",
       "      <td>0.0</td>\n",
       "    </tr>\n",
       "    <tr>\n",
       "      <th>4</th>\n",
       "      <td>4</td>\n",
       "      <td>F</td>\n",
       "      <td>Y</td>\n",
       "      <td>Y</td>\n",
       "      <td>0</td>\n",
       "      <td>157500.0</td>\n",
       "      <td>State servant</td>\n",
       "      <td>Higher education</td>\n",
       "      <td>Married</td>\n",
       "      <td>House / apartment</td>\n",
       "      <td>-15037</td>\n",
       "      <td>-2105</td>\n",
       "      <td>1</td>\n",
       "      <td>0</td>\n",
       "      <td>0</td>\n",
       "      <td>0</td>\n",
       "      <td>Managers</td>\n",
       "      <td>2.0</td>\n",
       "      <td>-26.0</td>\n",
       "      <td>2.0</td>\n",
       "    </tr>\n",
       "  </tbody>\n",
       "</table>\n",
       "</div>"
      ],
      "text/plain": [
       "   index gender car reality  child_num  income_total           income_type  \\\n",
       "0      0      F   N       N          0      202500.0  Commercial associate   \n",
       "1      1      F   N       Y          1      247500.0  Commercial associate   \n",
       "2      2      M   Y       Y          0      450000.0               Working   \n",
       "3      3      F   N       Y          0      202500.0  Commercial associate   \n",
       "4      4      F   Y       Y          0      157500.0         State servant   \n",
       "\n",
       "                        edu_type     family_type           house_type  \\\n",
       "0               Higher education         Married  Municipal apartment   \n",
       "1  Secondary / secondary special  Civil marriage    House / apartment   \n",
       "2               Higher education         Married    House / apartment   \n",
       "3  Secondary / secondary special         Married    House / apartment   \n",
       "4               Higher education         Married    House / apartment   \n",
       "\n",
       "   DAYS_BIRTH  DAYS_EMPLOYED  FLAG_MOBIL  work_phone  phone  email  \\\n",
       "0      -13899          -4709           1           0      0      0   \n",
       "1      -11380          -1540           1           0      0      1   \n",
       "2      -19087          -4434           1           0      1      0   \n",
       "3      -15088          -2092           1           0      1      0   \n",
       "4      -15037          -2105           1           0      0      0   \n",
       "\n",
       "    occyp_type  family_size  begin_month  credit  \n",
       "0          NaN          2.0         -6.0     1.0  \n",
       "1     Laborers          3.0         -5.0     1.0  \n",
       "2     Managers          2.0        -22.0     2.0  \n",
       "3  Sales staff          2.0        -37.0     0.0  \n",
       "4     Managers          2.0        -26.0     2.0  "
      ]
     },
     "execution_count": 98,
     "metadata": {},
     "output_type": "execute_result"
    }
   ],
   "source": [
    "data.head()"
   ]
  },
  {
   "cell_type": "markdown",
   "metadata": {},
   "source": [
    "- `index`: 인덱스\n",
    "- `gender`: 성별\n",
    "- `car`: 차량 소유 여부\n",
    "- `reality`: 부동산 소유 여부\n",
    "- `child_num`: 자녀 수\n",
    "- `income_total`: 연간 소득\n",
    "- `income_type`: 소득 분류\n",
    "    - ['Commercial associate', 'Working', 'State servant', 'Pensioner', 'Student']\n",
    "- `edu_type`: 교육 수준 \n",
    "    - ['Higher education' ,'Secondary / secondary special', 'Incomplete higher', 'Lower secondary', 'Academic degree']\n",
    "- `family_type`: 결혼 여부 \n",
    "    - ['Married', 'Civil marriage', 'Separated', 'Single / not married', 'Widow']\n",
    "- `house_type`: 생활 방식\n",
    "    - ['Municipal apartment', 'House / apartment', 'With parents', 'Co-op apartment', 'Rented apartment', 'Office apartment']\n",
    "- `DAYS_BIRTH`: 출생일\n",
    "    - 데이터 수집 당시 (0)부터 역으로 셈, 즉, -1은 데이터 수집일 하루 전에 태어났음을 의미\n",
    "- `DAYS_EMPLOYED`: 업무 시작일\n",
    "    - 데이터 수집 당시 (0)부터 역으로 셈, 즉, -1은 데이터 수집일 하루 전부터 일을 시작함을 의미\n",
    "    - 양수 값은 고용되지 않은 상태를 의미함\n",
    "- `FLAG_MOBIL`: 핸드폰 소유 여부\n",
    "- `work_phone`: 업무용 전화 소유 여부\n",
    "- `phone`: 전화 소유 여부\n",
    "- `email`: 이메일 소유 여부\n",
    "- `occyp_type`: 직업 유형\t\t\t\t\t\t\t\t\t\t\t\t\t\n",
    "- `family_size`: 가족 규모\n",
    "- `begin_month`: 신용카드 발급 월\n",
    "    - 데이터 수집 당시 (0)부터 역으로 셈, 즉, -1은 데이터 수집일 한 달 전에 신용카드를 발급함을 의미\n",
    "- `credit`: 사용자의 신용카드 대금 연체를 기준으로 한 신용도\n",
    "    - => 낮을 수록 높은 신용의 신용카드 사용자를 의미함"
   ]
  },
  {
   "cell_type": "code",
   "execution_count": 99,
   "metadata": {},
   "outputs": [
    {
     "name": "stdout",
     "output_type": "stream",
     "text": [
      "<class 'pandas.core.frame.DataFrame'>\n",
      "RangeIndex: 26457 entries, 0 to 26456\n",
      "Data columns (total 20 columns):\n",
      " #   Column         Non-Null Count  Dtype  \n",
      "---  ------         --------------  -----  \n",
      " 0   index          26457 non-null  int64  \n",
      " 1   gender         26457 non-null  object \n",
      " 2   car            26457 non-null  object \n",
      " 3   reality        26457 non-null  object \n",
      " 4   child_num      26457 non-null  int64  \n",
      " 5   income_total   26457 non-null  float64\n",
      " 6   income_type    26457 non-null  object \n",
      " 7   edu_type       26457 non-null  object \n",
      " 8   family_type    26457 non-null  object \n",
      " 9   house_type     26457 non-null  object \n",
      " 10  DAYS_BIRTH     26457 non-null  int64  \n",
      " 11  DAYS_EMPLOYED  26457 non-null  int64  \n",
      " 12  FLAG_MOBIL     26457 non-null  int64  \n",
      " 13  work_phone     26457 non-null  int64  \n",
      " 14  phone          26457 non-null  int64  \n",
      " 15  email          26457 non-null  int64  \n",
      " 16  occyp_type     18286 non-null  object \n",
      " 17  family_size    26457 non-null  float64\n",
      " 18  begin_month    26457 non-null  float64\n",
      " 19  credit         26457 non-null  float64\n",
      "dtypes: float64(4), int64(8), object(8)\n",
      "memory usage: 4.0+ MB\n"
     ]
    }
   ],
   "source": [
    "data.info()"
   ]
  },
  {
   "cell_type": "markdown",
   "metadata": {},
   "source": [
    "범주형과 수치형을 분류해서 살펴본다"
   ]
  },
  {
   "cell_type": "code",
   "execution_count": 100,
   "metadata": {},
   "outputs": [
    {
     "name": "stdout",
     "output_type": "stream",
     "text": [
      "index int64\n",
      "gender object\n",
      "car object\n",
      "reality object\n",
      "child_num int64\n",
      "income_total float64\n",
      "income_type object\n",
      "edu_type object\n",
      "family_type object\n",
      "house_type object\n",
      "DAYS_BIRTH int64\n",
      "DAYS_EMPLOYED int64\n",
      "FLAG_MOBIL int64\n",
      "work_phone int64\n",
      "phone int64\n",
      "email int64\n",
      "occyp_type object\n",
      "family_size float64\n",
      "begin_month float64\n",
      "credit float64\n"
     ]
    }
   ],
   "source": [
    "for dt_idx, dt in zip(data.dtypes.index, data.dtypes) :\n",
    "    print(dt_idx, dt)"
   ]
  },
  {
   "cell_type": "code",
   "execution_count": 101,
   "metadata": {},
   "outputs": [
    {
     "name": "stdout",
     "output_type": "stream",
     "text": [
      "Categorical Columns: \n",
      "['gender', 'car', 'reality', 'income_type', 'edu_type', 'family_type', 'house_type', 'occyp_type']\n",
      "\n",
      "Numeric Columns: \n",
      "['index', 'child_num', 'income_total', 'DAYS_BIRTH', 'DAYS_EMPLOYED', 'FLAG_MOBIL', 'work_phone', 'phone', 'email', 'family_size', 'begin_month', 'credit']\n",
      "\n"
     ]
    }
   ],
   "source": [
    "cat_columns = [c for c, t in zip(data.dtypes.index, data.dtypes) if t=='O'] \n",
    "num_columns = [c for c in data.columns if c not in cat_columns]\n",
    "\n",
    "print(f'Categorical Columns: \\n{cat_columns}\\n')\n",
    "print(f'Numeric Columns: \\n{num_columns}\\n')"
   ]
  },
  {
   "cell_type": "code",
   "execution_count": 102,
   "metadata": {},
   "outputs": [
    {
     "data": {
      "text/html": [
       "<div>\n",
       "<style scoped>\n",
       "    .dataframe tbody tr th:only-of-type {\n",
       "        vertical-align: middle;\n",
       "    }\n",
       "\n",
       "    .dataframe tbody tr th {\n",
       "        vertical-align: top;\n",
       "    }\n",
       "\n",
       "    .dataframe thead th {\n",
       "        text-align: right;\n",
       "    }\n",
       "</style>\n",
       "<table border=\"1\" class=\"dataframe\">\n",
       "  <thead>\n",
       "    <tr style=\"text-align: right;\">\n",
       "      <th></th>\n",
       "      <th>count</th>\n",
       "      <th>mean</th>\n",
       "      <th>std</th>\n",
       "      <th>min</th>\n",
       "      <th>25%</th>\n",
       "      <th>50%</th>\n",
       "      <th>75%</th>\n",
       "      <th>max</th>\n",
       "    </tr>\n",
       "  </thead>\n",
       "  <tbody>\n",
       "    <tr>\n",
       "      <th>index</th>\n",
       "      <td>26457.0</td>\n",
       "      <td>13228.000000</td>\n",
       "      <td>7637.622372</td>\n",
       "      <td>0.0</td>\n",
       "      <td>6614.0</td>\n",
       "      <td>13228.0</td>\n",
       "      <td>19842.0</td>\n",
       "      <td>26456.0</td>\n",
       "    </tr>\n",
       "    <tr>\n",
       "      <th>child_num</th>\n",
       "      <td>26457.0</td>\n",
       "      <td>0.428658</td>\n",
       "      <td>0.747326</td>\n",
       "      <td>0.0</td>\n",
       "      <td>0.0</td>\n",
       "      <td>0.0</td>\n",
       "      <td>1.0</td>\n",
       "      <td>19.0</td>\n",
       "    </tr>\n",
       "    <tr>\n",
       "      <th>income_total</th>\n",
       "      <td>26457.0</td>\n",
       "      <td>187306.524493</td>\n",
       "      <td>101878.367995</td>\n",
       "      <td>27000.0</td>\n",
       "      <td>121500.0</td>\n",
       "      <td>157500.0</td>\n",
       "      <td>225000.0</td>\n",
       "      <td>1575000.0</td>\n",
       "    </tr>\n",
       "    <tr>\n",
       "      <th>DAYS_BIRTH</th>\n",
       "      <td>26457.0</td>\n",
       "      <td>-15958.053899</td>\n",
       "      <td>4201.589022</td>\n",
       "      <td>-25152.0</td>\n",
       "      <td>-19431.0</td>\n",
       "      <td>-15547.0</td>\n",
       "      <td>-12446.0</td>\n",
       "      <td>-7705.0</td>\n",
       "    </tr>\n",
       "    <tr>\n",
       "      <th>DAYS_EMPLOYED</th>\n",
       "      <td>26457.0</td>\n",
       "      <td>59068.750728</td>\n",
       "      <td>137475.427503</td>\n",
       "      <td>-15713.0</td>\n",
       "      <td>-3153.0</td>\n",
       "      <td>-1539.0</td>\n",
       "      <td>-407.0</td>\n",
       "      <td>365243.0</td>\n",
       "    </tr>\n",
       "    <tr>\n",
       "      <th>FLAG_MOBIL</th>\n",
       "      <td>26457.0</td>\n",
       "      <td>1.000000</td>\n",
       "      <td>0.000000</td>\n",
       "      <td>1.0</td>\n",
       "      <td>1.0</td>\n",
       "      <td>1.0</td>\n",
       "      <td>1.0</td>\n",
       "      <td>1.0</td>\n",
       "    </tr>\n",
       "    <tr>\n",
       "      <th>work_phone</th>\n",
       "      <td>26457.0</td>\n",
       "      <td>0.224742</td>\n",
       "      <td>0.417420</td>\n",
       "      <td>0.0</td>\n",
       "      <td>0.0</td>\n",
       "      <td>0.0</td>\n",
       "      <td>0.0</td>\n",
       "      <td>1.0</td>\n",
       "    </tr>\n",
       "    <tr>\n",
       "      <th>phone</th>\n",
       "      <td>26457.0</td>\n",
       "      <td>0.294251</td>\n",
       "      <td>0.455714</td>\n",
       "      <td>0.0</td>\n",
       "      <td>0.0</td>\n",
       "      <td>0.0</td>\n",
       "      <td>1.0</td>\n",
       "      <td>1.0</td>\n",
       "    </tr>\n",
       "    <tr>\n",
       "      <th>email</th>\n",
       "      <td>26457.0</td>\n",
       "      <td>0.091280</td>\n",
       "      <td>0.288013</td>\n",
       "      <td>0.0</td>\n",
       "      <td>0.0</td>\n",
       "      <td>0.0</td>\n",
       "      <td>0.0</td>\n",
       "      <td>1.0</td>\n",
       "    </tr>\n",
       "    <tr>\n",
       "      <th>family_size</th>\n",
       "      <td>26457.0</td>\n",
       "      <td>2.196848</td>\n",
       "      <td>0.916717</td>\n",
       "      <td>1.0</td>\n",
       "      <td>2.0</td>\n",
       "      <td>2.0</td>\n",
       "      <td>3.0</td>\n",
       "      <td>20.0</td>\n",
       "    </tr>\n",
       "    <tr>\n",
       "      <th>begin_month</th>\n",
       "      <td>26457.0</td>\n",
       "      <td>-26.123294</td>\n",
       "      <td>16.559550</td>\n",
       "      <td>-60.0</td>\n",
       "      <td>-39.0</td>\n",
       "      <td>-24.0</td>\n",
       "      <td>-12.0</td>\n",
       "      <td>0.0</td>\n",
       "    </tr>\n",
       "    <tr>\n",
       "      <th>credit</th>\n",
       "      <td>26457.0</td>\n",
       "      <td>1.519560</td>\n",
       "      <td>0.702283</td>\n",
       "      <td>0.0</td>\n",
       "      <td>1.0</td>\n",
       "      <td>2.0</td>\n",
       "      <td>2.0</td>\n",
       "      <td>2.0</td>\n",
       "    </tr>\n",
       "  </tbody>\n",
       "</table>\n",
       "</div>"
      ],
      "text/plain": [
       "                 count           mean            std      min       25%  \\\n",
       "index          26457.0   13228.000000    7637.622372      0.0    6614.0   \n",
       "child_num      26457.0       0.428658       0.747326      0.0       0.0   \n",
       "income_total   26457.0  187306.524493  101878.367995  27000.0  121500.0   \n",
       "DAYS_BIRTH     26457.0  -15958.053899    4201.589022 -25152.0  -19431.0   \n",
       "DAYS_EMPLOYED  26457.0   59068.750728  137475.427503 -15713.0   -3153.0   \n",
       "FLAG_MOBIL     26457.0       1.000000       0.000000      1.0       1.0   \n",
       "work_phone     26457.0       0.224742       0.417420      0.0       0.0   \n",
       "phone          26457.0       0.294251       0.455714      0.0       0.0   \n",
       "email          26457.0       0.091280       0.288013      0.0       0.0   \n",
       "family_size    26457.0       2.196848       0.916717      1.0       2.0   \n",
       "begin_month    26457.0     -26.123294      16.559550    -60.0     -39.0   \n",
       "credit         26457.0       1.519560       0.702283      0.0       1.0   \n",
       "\n",
       "                    50%       75%        max  \n",
       "index           13228.0   19842.0    26456.0  \n",
       "child_num           0.0       1.0       19.0  \n",
       "income_total   157500.0  225000.0  1575000.0  \n",
       "DAYS_BIRTH     -15547.0  -12446.0    -7705.0  \n",
       "DAYS_EMPLOYED   -1539.0    -407.0   365243.0  \n",
       "FLAG_MOBIL          1.0       1.0        1.0  \n",
       "work_phone          0.0       0.0        1.0  \n",
       "phone               0.0       1.0        1.0  \n",
       "email               0.0       0.0        1.0  \n",
       "family_size         2.0       3.0       20.0  \n",
       "begin_month       -24.0     -12.0        0.0  \n",
       "credit              2.0       2.0        2.0  "
      ]
     },
     "execution_count": 102,
     "metadata": {},
     "output_type": "execute_result"
    }
   ],
   "source": [
    "data.describe().T"
   ]
  },
  {
   "cell_type": "code",
   "execution_count": 103,
   "metadata": {},
   "outputs": [
    {
     "data": {
      "text/html": [
       "<div>\n",
       "<style scoped>\n",
       "    .dataframe tbody tr th:only-of-type {\n",
       "        vertical-align: middle;\n",
       "    }\n",
       "\n",
       "    .dataframe tbody tr th {\n",
       "        vertical-align: top;\n",
       "    }\n",
       "\n",
       "    .dataframe thead th {\n",
       "        text-align: right;\n",
       "    }\n",
       "</style>\n",
       "<table border=\"1\" class=\"dataframe\">\n",
       "  <thead>\n",
       "    <tr style=\"text-align: right;\">\n",
       "      <th></th>\n",
       "      <th>count</th>\n",
       "      <th>unique</th>\n",
       "      <th>top</th>\n",
       "      <th>freq</th>\n",
       "    </tr>\n",
       "  </thead>\n",
       "  <tbody>\n",
       "    <tr>\n",
       "      <th>gender</th>\n",
       "      <td>26457</td>\n",
       "      <td>2</td>\n",
       "      <td>F</td>\n",
       "      <td>17697</td>\n",
       "    </tr>\n",
       "    <tr>\n",
       "      <th>car</th>\n",
       "      <td>26457</td>\n",
       "      <td>2</td>\n",
       "      <td>N</td>\n",
       "      <td>16410</td>\n",
       "    </tr>\n",
       "    <tr>\n",
       "      <th>reality</th>\n",
       "      <td>26457</td>\n",
       "      <td>2</td>\n",
       "      <td>Y</td>\n",
       "      <td>17830</td>\n",
       "    </tr>\n",
       "    <tr>\n",
       "      <th>income_type</th>\n",
       "      <td>26457</td>\n",
       "      <td>5</td>\n",
       "      <td>Working</td>\n",
       "      <td>13645</td>\n",
       "    </tr>\n",
       "    <tr>\n",
       "      <th>edu_type</th>\n",
       "      <td>26457</td>\n",
       "      <td>5</td>\n",
       "      <td>Secondary / secondary special</td>\n",
       "      <td>17995</td>\n",
       "    </tr>\n",
       "    <tr>\n",
       "      <th>family_type</th>\n",
       "      <td>26457</td>\n",
       "      <td>5</td>\n",
       "      <td>Married</td>\n",
       "      <td>18196</td>\n",
       "    </tr>\n",
       "    <tr>\n",
       "      <th>house_type</th>\n",
       "      <td>26457</td>\n",
       "      <td>6</td>\n",
       "      <td>House / apartment</td>\n",
       "      <td>23653</td>\n",
       "    </tr>\n",
       "    <tr>\n",
       "      <th>occyp_type</th>\n",
       "      <td>18286</td>\n",
       "      <td>18</td>\n",
       "      <td>Laborers</td>\n",
       "      <td>4512</td>\n",
       "    </tr>\n",
       "  </tbody>\n",
       "</table>\n",
       "</div>"
      ],
      "text/plain": [
       "             count unique                            top   freq\n",
       "gender       26457      2                              F  17697\n",
       "car          26457      2                              N  16410\n",
       "reality      26457      2                              Y  17830\n",
       "income_type  26457      5                        Working  13645\n",
       "edu_type     26457      5  Secondary / secondary special  17995\n",
       "family_type  26457      5                        Married  18196\n",
       "house_type   26457      6              House / apartment  23653\n",
       "occyp_type   18286     18                       Laborers   4512"
      ]
     },
     "execution_count": 103,
     "metadata": {},
     "output_type": "execute_result"
    }
   ],
   "source": [
    "data.describe(include='O').T"
   ]
  },
  {
   "cell_type": "markdown",
   "metadata": {},
   "source": [
    "### 2-2 데이터 결측치, 분포, 예외치 확인하기"
   ]
  },
  {
   "cell_type": "code",
   "execution_count": 104,
   "metadata": {},
   "outputs": [
    {
     "data": {
      "text/plain": [
       "<AxesSubplot:>"
      ]
     },
     "execution_count": 104,
     "metadata": {},
     "output_type": "execute_result"
    },
    {
     "data": {
      "image/png": "[encoded data removed]",
      "text/plain": [
       "<Figure size 1800x720 with 2 Axes>"
      ]
     },
     "metadata": {
      "needs_background": "light"
     },
     "output_type": "display_data"
    }
   ],
   "source": [
    "import missingno as msno\n",
    "\n",
    "msno.matrix(data, sort = 'ascending')"
   ]
  },
  {
   "cell_type": "code",
   "execution_count": 105,
   "metadata": {},
   "outputs": [
    {
     "data": {
      "text/plain": [
       "index             0.000000\n",
       "gender            0.000000\n",
       "car               0.000000\n",
       "reality           0.000000\n",
       "child_num         0.000000\n",
       "income_total      0.000000\n",
       "income_type       0.000000\n",
       "edu_type          0.000000\n",
       "family_type       0.000000\n",
       "house_type        0.000000\n",
       "DAYS_BIRTH        0.000000\n",
       "DAYS_EMPLOYED     0.000000\n",
       "FLAG_MOBIL        0.000000\n",
       "work_phone        0.000000\n",
       "phone             0.000000\n",
       "email             0.000000\n",
       "occyp_type       30.884076\n",
       "family_size       0.000000\n",
       "begin_month       0.000000\n",
       "credit            0.000000\n",
       "dtype: float64"
      ]
     },
     "execution_count": 105,
     "metadata": {},
     "output_type": "execute_result"
    }
   ],
   "source": [
    "data.isna().sum() / len(data) * 100"
   ]
  },
  {
   "cell_type": "code",
   "execution_count": 106,
   "metadata": {},
   "outputs": [],
   "source": [
    "import seaborn as sns"
   ]
  },
  {
   "cell_type": "code",
   "execution_count": 107,
   "metadata": {},
   "outputs": [
    {
     "data": {
      "image/png": "[encoded data removed]",
      "text/plain": [
       "<Figure size 432x288 with 1 Axes>"
      ]
     },
     "metadata": {
      "needs_background": "light"
     },
     "output_type": "display_data"
    }
   ],
   "source": [
    "fig, ax = plt.subplots(1, 1)\n",
    "sns.countplot(data = data, x = 'gender')\n",
    "plt.show()"
   ]
  },
  {
   "cell_type": "code",
   "execution_count": 108,
   "metadata": {},
   "outputs": [
    {
     "data": {
      "image/png": "[encoded data removed]",
      "text/plain": [
       "<Figure size 3600x1200 with 8 Axes>"
      ]
     },
     "metadata": {
      "needs_background": "light"
     },
     "output_type": "display_data"
    }
   ],
   "source": [
    "fig, ax = plt.subplots(2, 4, figsize = (18, 6), dpi = 200)\n",
    "for col, ax in zip(cat_columns, ax.flatten()) :\n",
    "    sns.countplot(data = data, x = col, ax = ax)\n",
    "    ax.set_title(col, fontweight = 'bold')\n",
    "\n",
    "fig.tight_layout()\n",
    "plt.show()"
   ]
  },
  {
   "cell_type": "code",
   "execution_count": 109,
   "metadata": {},
   "outputs": [
    {
     "data": {
      "image/png": "[encoded data removed]",
      "text/plain": [
       "<Figure size 3600x1200 with 8 Axes>"
      ]
     },
     "metadata": {
      "needs_background": "light"
     },
     "output_type": "display_data"
    }
   ],
   "source": [
    "fig, ax = plt.subplots(2,4, figsize=(18,6), dpi = 200)\n",
    "for col, ax in zip(cat_columns , ax.flatten()):\n",
    "    tmp_cnt = data[col].value_counts().sort_values()\n",
    "    ax.bar(tmp_cnt.index,tmp_cnt)\n",
    "    ax.set_title(col, fontweight='bold')\n",
    "#     sns.countplot(data=data, y=col, ax=ax)\n",
    "#     ax.set_title(col, fontweight='bold')\n",
    "    \n",
    "fig.tight_layout()\n",
    "plt.show()"
   ]
  },
  {
   "cell_type": "markdown",
   "metadata": {},
   "source": [
    "> value_counts를 사용한다면..?"
   ]
  },
  {
   "cell_type": "code",
   "execution_count": 110,
   "metadata": {},
   "outputs": [
    {
     "data": {
      "image/png": "[encoded data removed]",
      "text/plain": [
       "<Figure size 432x288 with 1 Axes>"
      ]
     },
     "metadata": {
      "needs_background": "light"
     },
     "output_type": "display_data"
    }
   ],
   "source": [
    "fig, ax = plt.subplots(1,1)\n",
    "sns.countplot(data=data, x='credit')\n",
    "plt.show()"
   ]
  },
  {
   "cell_type": "code",
   "execution_count": 111,
   "metadata": {},
   "outputs": [
    {
     "data": {
      "text/plain": [
       "0.0     3222\n",
       "1.0     6267\n",
       "2.0    16968\n",
       "Name: credit, dtype: int64"
      ]
     },
     "execution_count": 111,
     "metadata": {},
     "output_type": "execute_result"
    }
   ],
   "source": [
    "data['credit'].value_counts().sort_values()"
   ]
  },
  {
   "cell_type": "code",
   "execution_count": 112,
   "metadata": {},
   "outputs": [
    {
     "data": {
      "text/plain": [
       "0.0     3222\n",
       "1.0     6267\n",
       "2.0    16968\n",
       "Name: credit, dtype: int64"
      ]
     },
     "execution_count": 112,
     "metadata": {},
     "output_type": "execute_result"
    }
   ],
   "source": [
    "data['credit'].value_counts().sort_index()"
   ]
  },
  {
   "cell_type": "code",
   "execution_count": 113,
   "metadata": {},
   "outputs": [
    {
     "data": {
      "text/plain": [
       "0.0    12.178252\n",
       "1.0    23.687493\n",
       "2.0    64.134256\n",
       "Name: credit, dtype: float64"
      ]
     },
     "execution_count": 113,
     "metadata": {},
     "output_type": "execute_result"
    }
   ],
   "source": [
    "data['credit'].value_counts().sort_index() / len(data)  * 100"
   ]
  },
  {
   "cell_type": "code",
   "execution_count": 114,
   "metadata": {},
   "outputs": [
    {
     "data": {
      "text/plain": [
       "<AxesSubplot:xlabel='gender', ylabel='count'>"
      ]
     },
     "execution_count": 114,
     "metadata": {},
     "output_type": "execute_result"
    },
    {
     "data": {
      "image/png": "[encoded data removed]",
      "text/plain": [
       "<Figure size 432x288 with 1 Axes>"
      ]
     },
     "metadata": {
      "needs_background": "light"
     },
     "output_type": "display_data"
    }
   ],
   "source": [
    "sns.countplot(data = data, x = 'gender', hue = 'car')"
   ]
  },
  {
   "cell_type": "code",
   "execution_count": 115,
   "metadata": {},
   "outputs": [
    {
     "data": {
      "text/plain": [
       "gender  car\n",
       "F       N      13166\n",
       "        Y       4531\n",
       "M       Y       5516\n",
       "        N       3244\n",
       "Name: car, dtype: int64"
      ]
     },
     "execution_count": 115,
     "metadata": {},
     "output_type": "execute_result"
    }
   ],
   "source": [
    "data.groupby('gender')['car'].value_counts()"
   ]
  },
  {
   "cell_type": "code",
   "execution_count": 116,
   "metadata": {},
   "outputs": [
    {
     "data": {
      "text/plain": [
       "gender  car  reality\n",
       "F       N    Y          9146\n",
       "             N          4020\n",
       "        Y    Y          3066\n",
       "             N          1465\n",
       "M       N    Y          2013\n",
       "             N          1231\n",
       "        Y    Y          3605\n",
       "             N          1911\n",
       "Name: reality, dtype: int64"
      ]
     },
     "execution_count": 116,
     "metadata": {},
     "output_type": "execute_result"
    }
   ],
   "source": [
    "data.groupby(['gender', 'car'])['reality'].value_counts()"
   ]
  },
  {
   "cell_type": "code",
   "execution_count": 117,
   "metadata": {},
   "outputs": [
    {
     "data": {
      "text/plain": [
       "gender  car\n",
       "F       N      163331.793901\n",
       "        Y      201413.789782\n",
       "M       N      198545.108970\n",
       "        Y      226333.594090\n",
       "Name: income_total, dtype: float64"
      ]
     },
     "execution_count": 117,
     "metadata": {},
     "output_type": "execute_result"
    }
   ],
   "source": [
    "data.groupby(['gender', 'car'])['income_total'].mean()"
   ]
  },
  {
   "cell_type": "code",
   "execution_count": 118,
   "metadata": {},
   "outputs": [
    {
     "data": {
      "image/png": "[encoded data removed]",
      "text/plain": [
       "<Figure size 864x720 with 1 Axes>"
      ]
     },
     "metadata": {
      "needs_background": "light"
     },
     "output_type": "display_data"
    }
   ],
   "source": [
    "fig, ax = plt.subplots(1, 1, figsize = (12, 10))\n",
    "\n",
    "sns.kdeplot(data = data, x = 'income_total', ax = ax, fill = True, bw_method = 0.2)\n",
    "ax.ticklabel_format(style = 'plain')\n",
    "plt.show()"
   ]
  },
  {
   "cell_type": "code",
   "execution_count": 119,
   "metadata": {},
   "outputs": [
    {
     "name": "stdout",
     "output_type": "stream",
     "text": [
      "count    2.645700e+04\n",
      "mean     1.873065e+05\n",
      "std      1.018784e+05\n",
      "min      2.700000e+04\n",
      "25%      1.215000e+05\n",
      "50%      1.575000e+05\n",
      "75%      2.250000e+05\n",
      "max      1.575000e+06\n",
      "Name: income_total, dtype: float64\n"
     ]
    }
   ],
   "source": [
    "print(data['income_total'].describe())"
   ]
  },
  {
   "cell_type": "code",
   "execution_count": 120,
   "metadata": {},
   "outputs": [
    {
     "data": {
      "image/png": "[encoded data removed]",
      "text/plain": [
       "<Figure size 864x720 with 1 Axes>"
      ]
     },
     "metadata": {
      "needs_background": "light"
     },
     "output_type": "display_data"
    }
   ],
   "source": [
    "fig, ax = plt.subplots(1, 1, figsize = (12, 10))\n",
    "\n",
    "sns.histplot(data = data, x = 'income_total', ax = ax, bins = 20)\n",
    "ax.ticklabel_format(style = 'plain')\n",
    "plt.show()"
   ]
  },
  {
   "cell_type": "code",
   "execution_count": 121,
   "metadata": {},
   "outputs": [
    {
     "data": {
      "image/png": "[encoded data removed]",
      "text/plain": [
       "<Figure size 864x720 with 1 Axes>"
      ]
     },
     "metadata": {
      "needs_background": "light"
     },
     "output_type": "display_data"
    }
   ],
   "source": [
    "fig, ax = plt.subplots(1, 1, figsize = (12, 10))\n",
    "sns.kdeplot(data = data, x = 'income_total', hue = 'gender', fill = True, ax = ax, bw_method = 0.15)\n",
    "ax.ticklabel_format(style = 'plain')\n",
    "plt.show()"
   ]
  },
  {
   "cell_type": "code",
   "execution_count": 122,
   "metadata": {},
   "outputs": [
    {
     "data": {
      "image/png": "[encoded data removed]",
      "text/plain": [
       "<Figure size 432x288 with 1 Axes>"
      ]
     },
     "metadata": {
      "needs_background": "light"
     },
     "output_type": "display_data"
    }
   ],
   "source": [
    "fig, ax = plt.subplots(1,1)\n",
    "sns.kdeplot(data=data, x = 'income_total', y = 'DAYS_EMPLOYED', ax=ax)\n",
    "ax.ticklabel_format(style='plain')\n",
    "plt.show()"
   ]
  },
  {
   "cell_type": "code",
   "execution_count": 123,
   "metadata": {},
   "outputs": [
    {
     "data": {
      "image/png": "[encoded data removed]",
      "text/plain": [
       "<Figure size 864x720 with 1 Axes>"
      ]
     },
     "metadata": {
      "needs_background": "light"
     },
     "output_type": "display_data"
    }
   ],
   "source": [
    "fig, ax = plt.subplots(1,1, figsize = (12, 10))\n",
    "sns.scatterplot(data=data, x='income_total', y='DAYS_EMPLOYED',\n",
    "                hue = 'gender', ax=ax, alpha = 0.1)\n",
    "# ax.ticklabel_format(style='plain')\n",
    "plt.show()"
   ]
  },
  {
   "cell_type": "markdown",
   "metadata": {},
   "source": [
    "## 3. 데이터 스케일링\n",
    "\n",
    "### 3-1. 스케일링을 하는 이유\n",
    "\n",
    "변수의 크기가 너무 작거나, 너무 큰 경우 해당 변수가 Target 에 미치는 영향력이 제대로 표현되지 않을 수 있습니다.\n",
    "\n",
    "Sklearn의 대표적인 스케일링 함수로는 특정 변수의 최대, 최소 값으로 조절하는 Min-Max 스케일링과 z-정규화를 이용한 Standard 스케일링이 있습니다.\n",
    "\n",
    "<div class=\"alert alert-block alert-danger\">\n",
    "    <b>주의</b> 스케일링은 변수의 분포를 변경하지 않습니다.\n",
    "</div>\n",
    "\n",
    "> 주의 > 스케일링은 변수의 분포를 변경하지 않습니다. \n",
    "\n",
    "### 3-2. Min-Max Scaling\n",
    "\n",
    "- Min-Max 스케일링을 하면, 값의 범위가 0 ~ 1 사이로 변경됩니다. <br> \n",
    "- 최댓값을 1, 최솟값을 0으로 변경합니다.\n",
    "\n",
    "수식을 직관적으로 이해해보면, X에 존재하는 어떤 가장 작은 값 x <sub>m</sub>에 대해서 x <sub>m</sub>는 Min(X)의 값과 같습니다. \n",
    "\n",
    "따라서 스케일링 후 x<sub>m</sub>은 0이되고, X에 존재하는 어떤 가장 큰 값x <sub>M</sub>은 분모의 식과 같아지므로 1이됩니다.\n",
    "\n",
    "$$ x - Min(X) \\over Max(X) - Min(X) $$\n",
    "$$ X : 데이터\\ 셋 $$\n",
    "$$ x : 데이터\\ 샘플 $$ \n",
    "\n",
    "\n",
    "직접 구현도 크게 어렵지 않지만, `Sklearn`에서 Min-Max Scaler는 preprocessing 패키지에 있습니다. \n",
    "\n",
    "#### Reference\n",
    "\n",
    "- [Scikit-learn Min-Max Scaler](https://scikit-learn.org/stable/modules/generated/sklearn.preprocessing.MinMaxScaler.html?highlight=minmax#sklearn.preprocessing.MinMaxScaler)\n"
   ]
  },
  {
   "cell_type": "code",
   "execution_count": 124,
   "metadata": {},
   "outputs": [
    {
     "data": {
      "text/plain": [
       "array([[202500.],\n",
       "       [247500.],\n",
       "       [450000.],\n",
       "       ...,\n",
       "       [292500.],\n",
       "       [171000.],\n",
       "       [ 81000.]])"
      ]
     },
     "execution_count": 124,
     "metadata": {},
     "output_type": "execute_result"
    }
   ],
   "source": [
    "income_data = data[['income_total']].values\n",
    "income_data"
   ]
  },
  {
   "cell_type": "code",
   "execution_count": 125,
   "metadata": {},
   "outputs": [],
   "source": [
    "from sklearn.preprocessing import MinMaxScaler\n",
    "scaler = MinMaxScaler()"
   ]
  },
  {
   "cell_type": "code",
   "execution_count": 126,
   "metadata": {},
   "outputs": [
    {
     "name": "stdout",
     "output_type": "stream",
     "text": [
      "[27000.]\n",
      "[1575000.]\n"
     ]
    }
   ],
   "source": [
    "scaler.fit(income_data)\n",
    "\n",
    "print(scaler.data_min_)\n",
    "print(scaler.data_max_)"
   ]
  },
  {
   "cell_type": "code",
   "execution_count": 127,
   "metadata": {},
   "outputs": [
    {
     "name": "stdout",
     "output_type": "stream",
     "text": [
      "[0.11337209] [202500.]\n"
     ]
    }
   ],
   "source": [
    "scaled_data = scaler.transform(income_data)\n",
    "print(scaled_data[0], income_data[0])"
   ]
  },
  {
   "cell_type": "code",
   "execution_count": 128,
   "metadata": {},
   "outputs": [],
   "source": [
    "num_data = data[num_columns].values"
   ]
  },
  {
   "cell_type": "code",
   "execution_count": 129,
   "metadata": {},
   "outputs": [
    {
     "data": {
      "text/plain": [
       "MinMaxScaler()"
      ]
     },
     "execution_count": 129,
     "metadata": {},
     "output_type": "execute_result"
    }
   ],
   "source": [
    "scaler = MinMaxScaler()\n",
    "scaler.fit(num_data)"
   ]
  },
  {
   "cell_type": "code",
   "execution_count": 130,
   "metadata": {},
   "outputs": [
    {
     "name": "stdout",
     "output_type": "stream",
     "text": [
      "[ 0.0000e+00  0.0000e+00  2.7000e+04 -2.5152e+04 -1.5713e+04  1.0000e+00\n",
      "  0.0000e+00  0.0000e+00  0.0000e+00  1.0000e+00 -6.0000e+01  0.0000e+00]\n",
      "[ 2.64560e+04  1.90000e+01  1.57500e+06 -7.70500e+03  3.65243e+05\n",
      "  1.00000e+00  1.00000e+00  1.00000e+00  1.00000e+00  2.00000e+01\n",
      "  0.00000e+00  2.00000e+00]\n"
     ]
    }
   ],
   "source": [
    "print(scaler.data_min_)\n",
    "print(scaler.data_max_)"
   ]
  },
  {
   "cell_type": "code",
   "execution_count": 131,
   "metadata": {},
   "outputs": [
    {
     "data": {
      "text/html": [
       "<div>\n",
       "<style scoped>\n",
       "    .dataframe tbody tr th:only-of-type {\n",
       "        vertical-align: middle;\n",
       "    }\n",
       "\n",
       "    .dataframe tbody tr th {\n",
       "        vertical-align: top;\n",
       "    }\n",
       "\n",
       "    .dataframe thead th {\n",
       "        text-align: right;\n",
       "    }\n",
       "</style>\n",
       "<table border=\"1\" class=\"dataframe\">\n",
       "  <thead>\n",
       "    <tr style=\"text-align: right;\">\n",
       "      <th></th>\n",
       "      <th>index</th>\n",
       "      <th>child_num</th>\n",
       "      <th>income_total</th>\n",
       "      <th>DAYS_BIRTH</th>\n",
       "      <th>DAYS_EMPLOYED</th>\n",
       "      <th>FLAG_MOBIL</th>\n",
       "      <th>work_phone</th>\n",
       "      <th>phone</th>\n",
       "      <th>email</th>\n",
       "      <th>family_size</th>\n",
       "      <th>begin_month</th>\n",
       "      <th>credit</th>\n",
       "    </tr>\n",
       "  </thead>\n",
       "  <tbody>\n",
       "    <tr>\n",
       "      <th>0</th>\n",
       "      <td>0.000000</td>\n",
       "      <td>0.000000</td>\n",
       "      <td>0.113372</td>\n",
       "      <td>0.644982</td>\n",
       "      <td>0.028885</td>\n",
       "      <td>0.0</td>\n",
       "      <td>0.0</td>\n",
       "      <td>0.0</td>\n",
       "      <td>0.0</td>\n",
       "      <td>0.052632</td>\n",
       "      <td>0.900000</td>\n",
       "      <td>0.5</td>\n",
       "    </tr>\n",
       "    <tr>\n",
       "      <th>1</th>\n",
       "      <td>0.000038</td>\n",
       "      <td>0.052632</td>\n",
       "      <td>0.142442</td>\n",
       "      <td>0.789362</td>\n",
       "      <td>0.037204</td>\n",
       "      <td>0.0</td>\n",
       "      <td>0.0</td>\n",
       "      <td>0.0</td>\n",
       "      <td>1.0</td>\n",
       "      <td>0.105263</td>\n",
       "      <td>0.916667</td>\n",
       "      <td>0.5</td>\n",
       "    </tr>\n",
       "    <tr>\n",
       "      <th>2</th>\n",
       "      <td>0.000076</td>\n",
       "      <td>0.000000</td>\n",
       "      <td>0.273256</td>\n",
       "      <td>0.347624</td>\n",
       "      <td>0.029607</td>\n",
       "      <td>0.0</td>\n",
       "      <td>0.0</td>\n",
       "      <td>1.0</td>\n",
       "      <td>0.0</td>\n",
       "      <td>0.052632</td>\n",
       "      <td>0.633333</td>\n",
       "      <td>1.0</td>\n",
       "    </tr>\n",
       "    <tr>\n",
       "      <th>3</th>\n",
       "      <td>0.000113</td>\n",
       "      <td>0.000000</td>\n",
       "      <td>0.113372</td>\n",
       "      <td>0.576833</td>\n",
       "      <td>0.035755</td>\n",
       "      <td>0.0</td>\n",
       "      <td>0.0</td>\n",
       "      <td>1.0</td>\n",
       "      <td>0.0</td>\n",
       "      <td>0.052632</td>\n",
       "      <td>0.383333</td>\n",
       "      <td>0.0</td>\n",
       "    </tr>\n",
       "    <tr>\n",
       "      <th>4</th>\n",
       "      <td>0.000151</td>\n",
       "      <td>0.000000</td>\n",
       "      <td>0.084302</td>\n",
       "      <td>0.579756</td>\n",
       "      <td>0.035721</td>\n",
       "      <td>0.0</td>\n",
       "      <td>0.0</td>\n",
       "      <td>0.0</td>\n",
       "      <td>0.0</td>\n",
       "      <td>0.052632</td>\n",
       "      <td>0.566667</td>\n",
       "      <td>1.0</td>\n",
       "    </tr>\n",
       "  </tbody>\n",
       "</table>\n",
       "</div>"
      ],
      "text/plain": [
       "      index  child_num  income_total  DAYS_BIRTH  DAYS_EMPLOYED  FLAG_MOBIL  \\\n",
       "0  0.000000   0.000000      0.113372    0.644982       0.028885         0.0   \n",
       "1  0.000038   0.052632      0.142442    0.789362       0.037204         0.0   \n",
       "2  0.000076   0.000000      0.273256    0.347624       0.029607         0.0   \n",
       "3  0.000113   0.000000      0.113372    0.576833       0.035755         0.0   \n",
       "4  0.000151   0.000000      0.084302    0.579756       0.035721         0.0   \n",
       "\n",
       "   work_phone  phone  email  family_size  begin_month  credit  \n",
       "0         0.0    0.0    0.0     0.052632     0.900000     0.5  \n",
       "1         0.0    0.0    1.0     0.105263     0.916667     0.5  \n",
       "2         0.0    1.0    0.0     0.052632     0.633333     1.0  \n",
       "3         0.0    1.0    0.0     0.052632     0.383333     0.0  \n",
       "4         0.0    0.0    0.0     0.052632     0.566667     1.0  "
      ]
     },
     "execution_count": 131,
     "metadata": {},
     "output_type": "execute_result"
    }
   ],
   "source": [
    "scaled_data = scaler.transform(num_data)\n",
    "scaled_data = pd.DataFrame(data = scaled_data, columns = num_columns)\n",
    "scaled_data.head()"
   ]
  },
  {
   "cell_type": "code",
   "execution_count": 132,
   "metadata": {},
   "outputs": [
    {
     "data": {
      "text/html": [
       "<div>\n",
       "<style scoped>\n",
       "    .dataframe tbody tr th:only-of-type {\n",
       "        vertical-align: middle;\n",
       "    }\n",
       "\n",
       "    .dataframe tbody tr th {\n",
       "        vertical-align: top;\n",
       "    }\n",
       "\n",
       "    .dataframe thead th {\n",
       "        text-align: right;\n",
       "    }\n",
       "</style>\n",
       "<table border=\"1\" class=\"dataframe\">\n",
       "  <thead>\n",
       "    <tr style=\"text-align: right;\">\n",
       "      <th></th>\n",
       "      <th>count</th>\n",
       "      <th>mean</th>\n",
       "      <th>std</th>\n",
       "      <th>min</th>\n",
       "      <th>25%</th>\n",
       "      <th>50%</th>\n",
       "      <th>75%</th>\n",
       "      <th>max</th>\n",
       "    </tr>\n",
       "  </thead>\n",
       "  <tbody>\n",
       "    <tr>\n",
       "      <th>index</th>\n",
       "      <td>26457.0</td>\n",
       "      <td>0.500000</td>\n",
       "      <td>0.288692</td>\n",
       "      <td>0.0</td>\n",
       "      <td>0.250000</td>\n",
       "      <td>0.500000</td>\n",
       "      <td>0.750000</td>\n",
       "      <td>1.0</td>\n",
       "    </tr>\n",
       "    <tr>\n",
       "      <th>child_num</th>\n",
       "      <td>26457.0</td>\n",
       "      <td>0.022561</td>\n",
       "      <td>0.039333</td>\n",
       "      <td>0.0</td>\n",
       "      <td>0.000000</td>\n",
       "      <td>0.000000</td>\n",
       "      <td>0.052632</td>\n",
       "      <td>1.0</td>\n",
       "    </tr>\n",
       "    <tr>\n",
       "      <th>income_total</th>\n",
       "      <td>26457.0</td>\n",
       "      <td>0.103557</td>\n",
       "      <td>0.065813</td>\n",
       "      <td>0.0</td>\n",
       "      <td>0.061047</td>\n",
       "      <td>0.084302</td>\n",
       "      <td>0.127907</td>\n",
       "      <td>1.0</td>\n",
       "    </tr>\n",
       "    <tr>\n",
       "      <th>DAYS_BIRTH</th>\n",
       "      <td>26457.0</td>\n",
       "      <td>0.526964</td>\n",
       "      <td>0.240820</td>\n",
       "      <td>0.0</td>\n",
       "      <td>0.327907</td>\n",
       "      <td>0.550524</td>\n",
       "      <td>0.728263</td>\n",
       "      <td>1.0</td>\n",
       "    </tr>\n",
       "    <tr>\n",
       "      <th>DAYS_EMPLOYED</th>\n",
       "      <td>26457.0</td>\n",
       "      <td>0.196300</td>\n",
       "      <td>0.360870</td>\n",
       "      <td>0.0</td>\n",
       "      <td>0.032970</td>\n",
       "      <td>0.037206</td>\n",
       "      <td>0.040178</td>\n",
       "      <td>1.0</td>\n",
       "    </tr>\n",
       "    <tr>\n",
       "      <th>FLAG_MOBIL</th>\n",
       "      <td>26457.0</td>\n",
       "      <td>0.000000</td>\n",
       "      <td>0.000000</td>\n",
       "      <td>0.0</td>\n",
       "      <td>0.000000</td>\n",
       "      <td>0.000000</td>\n",
       "      <td>0.000000</td>\n",
       "      <td>0.0</td>\n",
       "    </tr>\n",
       "    <tr>\n",
       "      <th>work_phone</th>\n",
       "      <td>26457.0</td>\n",
       "      <td>0.224742</td>\n",
       "      <td>0.417420</td>\n",
       "      <td>0.0</td>\n",
       "      <td>0.000000</td>\n",
       "      <td>0.000000</td>\n",
       "      <td>0.000000</td>\n",
       "      <td>1.0</td>\n",
       "    </tr>\n",
       "    <tr>\n",
       "      <th>phone</th>\n",
       "      <td>26457.0</td>\n",
       "      <td>0.294251</td>\n",
       "      <td>0.455714</td>\n",
       "      <td>0.0</td>\n",
       "      <td>0.000000</td>\n",
       "      <td>0.000000</td>\n",
       "      <td>1.000000</td>\n",
       "      <td>1.0</td>\n",
       "    </tr>\n",
       "    <tr>\n",
       "      <th>email</th>\n",
       "      <td>26457.0</td>\n",
       "      <td>0.091280</td>\n",
       "      <td>0.288013</td>\n",
       "      <td>0.0</td>\n",
       "      <td>0.000000</td>\n",
       "      <td>0.000000</td>\n",
       "      <td>0.000000</td>\n",
       "      <td>1.0</td>\n",
       "    </tr>\n",
       "    <tr>\n",
       "      <th>family_size</th>\n",
       "      <td>26457.0</td>\n",
       "      <td>0.062992</td>\n",
       "      <td>0.048248</td>\n",
       "      <td>0.0</td>\n",
       "      <td>0.052632</td>\n",
       "      <td>0.052632</td>\n",
       "      <td>0.105263</td>\n",
       "      <td>1.0</td>\n",
       "    </tr>\n",
       "    <tr>\n",
       "      <th>begin_month</th>\n",
       "      <td>26457.0</td>\n",
       "      <td>0.564612</td>\n",
       "      <td>0.275992</td>\n",
       "      <td>0.0</td>\n",
       "      <td>0.350000</td>\n",
       "      <td>0.600000</td>\n",
       "      <td>0.800000</td>\n",
       "      <td>1.0</td>\n",
       "    </tr>\n",
       "    <tr>\n",
       "      <th>credit</th>\n",
       "      <td>26457.0</td>\n",
       "      <td>0.759780</td>\n",
       "      <td>0.351141</td>\n",
       "      <td>0.0</td>\n",
       "      <td>0.500000</td>\n",
       "      <td>1.000000</td>\n",
       "      <td>1.000000</td>\n",
       "      <td>1.0</td>\n",
       "    </tr>\n",
       "  </tbody>\n",
       "</table>\n",
       "</div>"
      ],
      "text/plain": [
       "                 count      mean       std  min       25%       50%       75%  \\\n",
       "index          26457.0  0.500000  0.288692  0.0  0.250000  0.500000  0.750000   \n",
       "child_num      26457.0  0.022561  0.039333  0.0  0.000000  0.000000  0.052632   \n",
       "income_total   26457.0  0.103557  0.065813  0.0  0.061047  0.084302  0.127907   \n",
       "DAYS_BIRTH     26457.0  0.526964  0.240820  0.0  0.327907  0.550524  0.728263   \n",
       "DAYS_EMPLOYED  26457.0  0.196300  0.360870  0.0  0.032970  0.037206  0.040178   \n",
       "FLAG_MOBIL     26457.0  0.000000  0.000000  0.0  0.000000  0.000000  0.000000   \n",
       "work_phone     26457.0  0.224742  0.417420  0.0  0.000000  0.000000  0.000000   \n",
       "phone          26457.0  0.294251  0.455714  0.0  0.000000  0.000000  1.000000   \n",
       "email          26457.0  0.091280  0.288013  0.0  0.000000  0.000000  0.000000   \n",
       "family_size    26457.0  0.062992  0.048248  0.0  0.052632  0.052632  0.105263   \n",
       "begin_month    26457.0  0.564612  0.275992  0.0  0.350000  0.600000  0.800000   \n",
       "credit         26457.0  0.759780  0.351141  0.0  0.500000  1.000000  1.000000   \n",
       "\n",
       "               max  \n",
       "index          1.0  \n",
       "child_num      1.0  \n",
       "income_total   1.0  \n",
       "DAYS_BIRTH     1.0  \n",
       "DAYS_EMPLOYED  1.0  \n",
       "FLAG_MOBIL     0.0  \n",
       "work_phone     1.0  \n",
       "phone          1.0  \n",
       "email          1.0  \n",
       "family_size    1.0  \n",
       "begin_month    1.0  \n",
       "credit         1.0  "
      ]
     },
     "execution_count": 132,
     "metadata": {},
     "output_type": "execute_result"
    }
   ],
   "source": [
    "scaled_data.describe().T"
   ]
  },
  {
   "cell_type": "code",
   "execution_count": 133,
   "metadata": {},
   "outputs": [
    {
     "data": {
      "text/plain": [
       "0        0.113372\n",
       "1        0.142442\n",
       "2        0.273256\n",
       "3        0.113372\n",
       "4        0.084302\n",
       "           ...   \n",
       "26452    0.127907\n",
       "26453    0.098837\n",
       "26454    0.171512\n",
       "26455    0.093023\n",
       "26456    0.034884\n",
       "Name: income_total, Length: 26457, dtype: float64"
      ]
     },
     "execution_count": 133,
     "metadata": {},
     "output_type": "execute_result"
    }
   ],
   "source": [
    "income_min = data['income_total'].min()\n",
    "income_max = data['income_total'].max()\n",
    "\n",
    "data['income_total'].apply(lambda x : (x - income_min) / (income_max - income_min))"
   ]
  },
  {
   "cell_type": "markdown",
   "metadata": {},
   "source": [
    "### 3-3. Standard Scaling\n",
    "\n",
    "데이터를 통계적으로 표준정규분포화 시켜 스케일링을 하는 방식입니다. `z-score 정규화` 라고도 합니다.\n",
    "\n",
    "데이터의 평균이 0, 표준 편차가 1이 되도록 스케일링 합니다.\n",
    "\n",
    "$$ z = {{x - \\mu} \\over {\\sigma}} $$\n",
    "$$ \\mu : 데이터의\\ 평균, mean(X) $$\n",
    "$$ \\sigma : 데이터의\\ 표준편차, std(X)$$\n",
    "$$ X : 데이터\\ 셋 $$\n",
    "$$ x : 데이터\\ 샘플 $$\n",
    "\n",
    "`Sklearn`에서 Standard Scaler는 preprocessing 패키지에 있습니다.\n",
    "\n",
    "#### Reference\n",
    "\n",
    "- [Scikit-learn, Standard Scaler](https://scikit-learn.org/stable/modules/generated/sklearn.preprocessing.StandardScaler.html#sklearn.preprocessing.StandardScaler)"
   ]
  },
  {
   "cell_type": "code",
   "execution_count": 134,
   "metadata": {},
   "outputs": [
    {
     "name": "stdout",
     "output_type": "stream",
     "text": [
      "StandardScaler()\n"
     ]
    }
   ],
   "source": [
    "from sklearn.preprocessing import StandardScaler\n",
    "scaler = StandardScaler()\n",
    "print(scaler)"
   ]
  },
  {
   "cell_type": "code",
   "execution_count": 135,
   "metadata": {},
   "outputs": [
    {
     "data": {
      "text/plain": [
       "array([[-1.73198534, -0.5735993 ,  0.1491363 , ..., -0.21473529,\n",
       "         1.21523077, -0.73983001],\n",
       "       [-1.73185441,  0.76452932,  0.59084783, ...,  0.87613484,\n",
       "         1.27562003, -0.73983001],\n",
       "       [-1.73172348, -0.5735993 ,  2.57854975, ..., -0.21473529,\n",
       "         0.24900268,  0.68412478],\n",
       "       ...,\n",
       "       [ 1.73172348, -0.5735993 ,  1.03255937, ..., -0.21473529,\n",
       "         0.06783491,  0.68412478],\n",
       "       [ 1.73185441, -0.5735993 , -0.16006178, ..., -1.30560543,\n",
       "        -1.98539978,  0.68412478],\n",
       "       [ 1.73198534, -0.5735993 , -1.04348485, ..., -0.21473529,\n",
       "         1.034063  ,  0.68412478]])"
      ]
     },
     "execution_count": 135,
     "metadata": {},
     "output_type": "execute_result"
    }
   ],
   "source": [
    "numeric_data = data[num_columns]\n",
    "scaled_data = scaler.fit_transform(numeric_data)\n",
    "scaled_data"
   ]
  },
  {
   "cell_type": "code",
   "execution_count": 136,
   "metadata": {},
   "outputs": [],
   "source": [
    "scaled_data = pd.DataFrame(scaled_data, columns = num_columns)"
   ]
  },
  {
   "cell_type": "code",
   "execution_count": 137,
   "metadata": {},
   "outputs": [
    {
     "data": {
      "text/html": [
       "<div>\n",
       "<style scoped>\n",
       "    .dataframe tbody tr th:only-of-type {\n",
       "        vertical-align: middle;\n",
       "    }\n",
       "\n",
       "    .dataframe tbody tr th {\n",
       "        vertical-align: top;\n",
       "    }\n",
       "\n",
       "    .dataframe thead th {\n",
       "        text-align: right;\n",
       "    }\n",
       "</style>\n",
       "<table border=\"1\" class=\"dataframe\">\n",
       "  <thead>\n",
       "    <tr style=\"text-align: right;\">\n",
       "      <th></th>\n",
       "      <th>index</th>\n",
       "      <th>child_num</th>\n",
       "      <th>income_total</th>\n",
       "      <th>DAYS_BIRTH</th>\n",
       "      <th>DAYS_EMPLOYED</th>\n",
       "      <th>FLAG_MOBIL</th>\n",
       "      <th>work_phone</th>\n",
       "      <th>phone</th>\n",
       "      <th>email</th>\n",
       "      <th>family_size</th>\n",
       "      <th>begin_month</th>\n",
       "      <th>credit</th>\n",
       "    </tr>\n",
       "  </thead>\n",
       "  <tbody>\n",
       "    <tr>\n",
       "      <th>0</th>\n",
       "      <td>-1.731985</td>\n",
       "      <td>-0.573599</td>\n",
       "      <td>0.149136</td>\n",
       "      <td>0.490075</td>\n",
       "      <td>-0.463930</td>\n",
       "      <td>0.0</td>\n",
       "      <td>-0.538417</td>\n",
       "      <td>-0.645705</td>\n",
       "      <td>-0.316937</td>\n",
       "      <td>-0.214735</td>\n",
       "      <td>1.215231</td>\n",
       "      <td>-0.739830</td>\n",
       "    </tr>\n",
       "    <tr>\n",
       "      <th>1</th>\n",
       "      <td>-1.731854</td>\n",
       "      <td>0.764529</td>\n",
       "      <td>0.590848</td>\n",
       "      <td>1.089621</td>\n",
       "      <td>-0.440878</td>\n",
       "      <td>0.0</td>\n",
       "      <td>-0.538417</td>\n",
       "      <td>-0.645705</td>\n",
       "      <td>3.155199</td>\n",
       "      <td>0.876135</td>\n",
       "      <td>1.275620</td>\n",
       "      <td>-0.739830</td>\n",
       "    </tr>\n",
       "    <tr>\n",
       "      <th>2</th>\n",
       "      <td>-1.731723</td>\n",
       "      <td>-0.573599</td>\n",
       "      <td>2.578550</td>\n",
       "      <td>-0.744719</td>\n",
       "      <td>-0.461929</td>\n",
       "      <td>0.0</td>\n",
       "      <td>-0.538417</td>\n",
       "      <td>1.548696</td>\n",
       "      <td>-0.316937</td>\n",
       "      <td>-0.214735</td>\n",
       "      <td>0.249003</td>\n",
       "      <td>0.684125</td>\n",
       "    </tr>\n",
       "    <tr>\n",
       "      <th>3</th>\n",
       "      <td>-1.731593</td>\n",
       "      <td>-0.573599</td>\n",
       "      <td>0.149136</td>\n",
       "      <td>0.207081</td>\n",
       "      <td>-0.444893</td>\n",
       "      <td>0.0</td>\n",
       "      <td>-0.538417</td>\n",
       "      <td>1.548696</td>\n",
       "      <td>-0.316937</td>\n",
       "      <td>-0.214735</td>\n",
       "      <td>-0.656836</td>\n",
       "      <td>-2.163785</td>\n",
       "    </tr>\n",
       "    <tr>\n",
       "      <th>4</th>\n",
       "      <td>-1.731462</td>\n",
       "      <td>-0.573599</td>\n",
       "      <td>-0.292575</td>\n",
       "      <td>0.219220</td>\n",
       "      <td>-0.444988</td>\n",
       "      <td>0.0</td>\n",
       "      <td>-0.538417</td>\n",
       "      <td>-0.645705</td>\n",
       "      <td>-0.316937</td>\n",
       "      <td>-0.214735</td>\n",
       "      <td>0.007446</td>\n",
       "      <td>0.684125</td>\n",
       "    </tr>\n",
       "  </tbody>\n",
       "</table>\n",
       "</div>"
      ],
      "text/plain": [
       "      index  child_num  income_total  DAYS_BIRTH  DAYS_EMPLOYED  FLAG_MOBIL  \\\n",
       "0 -1.731985  -0.573599      0.149136    0.490075      -0.463930         0.0   \n",
       "1 -1.731854   0.764529      0.590848    1.089621      -0.440878         0.0   \n",
       "2 -1.731723  -0.573599      2.578550   -0.744719      -0.461929         0.0   \n",
       "3 -1.731593  -0.573599      0.149136    0.207081      -0.444893         0.0   \n",
       "4 -1.731462  -0.573599     -0.292575    0.219220      -0.444988         0.0   \n",
       "\n",
       "   work_phone     phone     email  family_size  begin_month    credit  \n",
       "0   -0.538417 -0.645705 -0.316937    -0.214735     1.215231 -0.739830  \n",
       "1   -0.538417 -0.645705  3.155199     0.876135     1.275620 -0.739830  \n",
       "2   -0.538417  1.548696 -0.316937    -0.214735     0.249003  0.684125  \n",
       "3   -0.538417  1.548696 -0.316937    -0.214735    -0.656836 -2.163785  \n",
       "4   -0.538417 -0.645705 -0.316937    -0.214735     0.007446  0.684125  "
      ]
     },
     "execution_count": 137,
     "metadata": {},
     "output_type": "execute_result"
    }
   ],
   "source": [
    "scaled_data.head()"
   ]
  },
  {
   "cell_type": "code",
   "execution_count": 138,
   "metadata": {},
   "outputs": [
    {
     "data": {
      "text/html": [
       "<div>\n",
       "<style scoped>\n",
       "    .dataframe tbody tr th:only-of-type {\n",
       "        vertical-align: middle;\n",
       "    }\n",
       "\n",
       "    .dataframe tbody tr th {\n",
       "        vertical-align: top;\n",
       "    }\n",
       "\n",
       "    .dataframe thead th {\n",
       "        text-align: right;\n",
       "    }\n",
       "</style>\n",
       "<table border=\"1\" class=\"dataframe\">\n",
       "  <thead>\n",
       "    <tr style=\"text-align: right;\">\n",
       "      <th></th>\n",
       "      <th>count</th>\n",
       "      <th>mean</th>\n",
       "      <th>std</th>\n",
       "      <th>min</th>\n",
       "      <th>25%</th>\n",
       "      <th>50%</th>\n",
       "      <th>75%</th>\n",
       "      <th>max</th>\n",
       "    </tr>\n",
       "  </thead>\n",
       "  <tbody>\n",
       "    <tr>\n",
       "      <th>index</th>\n",
       "      <td>26457.0</td>\n",
       "      <td>5.078399e-17</td>\n",
       "      <td>1.000019</td>\n",
       "      <td>-1.731985</td>\n",
       "      <td>-0.865993</td>\n",
       "      <td>0.000000</td>\n",
       "      <td>0.865993</td>\n",
       "      <td>1.731985</td>\n",
       "    </tr>\n",
       "    <tr>\n",
       "      <th>child_num</th>\n",
       "      <td>26457.0</td>\n",
       "      <td>-1.034034e-15</td>\n",
       "      <td>1.000019</td>\n",
       "      <td>-0.573599</td>\n",
       "      <td>-0.573599</td>\n",
       "      <td>-0.573599</td>\n",
       "      <td>0.764529</td>\n",
       "      <td>24.850844</td>\n",
       "    </tr>\n",
       "    <tr>\n",
       "      <th>income_total</th>\n",
       "      <td>26457.0</td>\n",
       "      <td>8.005171e-16</td>\n",
       "      <td>1.000019</td>\n",
       "      <td>-1.573539</td>\n",
       "      <td>-0.645944</td>\n",
       "      <td>-0.292575</td>\n",
       "      <td>0.369992</td>\n",
       "      <td>13.621338</td>\n",
       "    </tr>\n",
       "    <tr>\n",
       "      <th>DAYS_BIRTH</th>\n",
       "      <td>26457.0</td>\n",
       "      <td>8.393080e-17</td>\n",
       "      <td>1.000019</td>\n",
       "      <td>-2.188248</td>\n",
       "      <td>-0.826595</td>\n",
       "      <td>0.097835</td>\n",
       "      <td>0.835903</td>\n",
       "      <td>1.964307</td>\n",
       "    </tr>\n",
       "    <tr>\n",
       "      <th>DAYS_EMPLOYED</th>\n",
       "      <td>26457.0</td>\n",
       "      <td>1.378914e-16</td>\n",
       "      <td>1.000019</td>\n",
       "      <td>-0.543975</td>\n",
       "      <td>-0.452611</td>\n",
       "      <td>-0.440871</td>\n",
       "      <td>-0.432636</td>\n",
       "      <td>2.227162</td>\n",
       "    </tr>\n",
       "    <tr>\n",
       "      <th>FLAG_MOBIL</th>\n",
       "      <td>26457.0</td>\n",
       "      <td>0.000000e+00</td>\n",
       "      <td>0.000000</td>\n",
       "      <td>0.000000</td>\n",
       "      <td>0.000000</td>\n",
       "      <td>0.000000</td>\n",
       "      <td>0.000000</td>\n",
       "      <td>0.000000</td>\n",
       "    </tr>\n",
       "    <tr>\n",
       "      <th>work_phone</th>\n",
       "      <td>26457.0</td>\n",
       "      <td>1.437772e-15</td>\n",
       "      <td>1.000019</td>\n",
       "      <td>-0.538417</td>\n",
       "      <td>-0.538417</td>\n",
       "      <td>-0.538417</td>\n",
       "      <td>-0.538417</td>\n",
       "      <td>1.857295</td>\n",
       "    </tr>\n",
       "    <tr>\n",
       "      <th>phone</th>\n",
       "      <td>26457.0</td>\n",
       "      <td>-4.122559e-16</td>\n",
       "      <td>1.000019</td>\n",
       "      <td>-0.645705</td>\n",
       "      <td>-0.645705</td>\n",
       "      <td>-0.645705</td>\n",
       "      <td>1.548696</td>\n",
       "      <td>1.548696</td>\n",
       "    </tr>\n",
       "    <tr>\n",
       "      <th>email</th>\n",
       "      <td>26457.0</td>\n",
       "      <td>-6.303097e-16</td>\n",
       "      <td>1.000019</td>\n",
       "      <td>-0.316937</td>\n",
       "      <td>-0.316937</td>\n",
       "      <td>-0.316937</td>\n",
       "      <td>-0.316937</td>\n",
       "      <td>3.155199</td>\n",
       "    </tr>\n",
       "    <tr>\n",
       "      <th>family_size</th>\n",
       "      <td>26457.0</td>\n",
       "      <td>-3.448964e-17</td>\n",
       "      <td>1.000019</td>\n",
       "      <td>-1.305605</td>\n",
       "      <td>-0.214735</td>\n",
       "      <td>-0.214735</td>\n",
       "      <td>0.876135</td>\n",
       "      <td>19.420927</td>\n",
       "    </tr>\n",
       "    <tr>\n",
       "      <th>begin_month</th>\n",
       "      <td>26457.0</td>\n",
       "      <td>-4.292258e-16</td>\n",
       "      <td>1.000019</td>\n",
       "      <td>-2.045789</td>\n",
       "      <td>-0.777615</td>\n",
       "      <td>0.128224</td>\n",
       "      <td>0.852895</td>\n",
       "      <td>1.577566</td>\n",
       "    </tr>\n",
       "    <tr>\n",
       "      <th>credit</th>\n",
       "      <td>26457.0</td>\n",
       "      <td>4.235020e-16</td>\n",
       "      <td>1.000019</td>\n",
       "      <td>-2.163785</td>\n",
       "      <td>-0.739830</td>\n",
       "      <td>0.684125</td>\n",
       "      <td>0.684125</td>\n",
       "      <td>0.684125</td>\n",
       "    </tr>\n",
       "  </tbody>\n",
       "</table>\n",
       "</div>"
      ],
      "text/plain": [
       "                 count          mean       std       min       25%       50%  \\\n",
       "index          26457.0  5.078399e-17  1.000019 -1.731985 -0.865993  0.000000   \n",
       "child_num      26457.0 -1.034034e-15  1.000019 -0.573599 -0.573599 -0.573599   \n",
       "income_total   26457.0  8.005171e-16  1.000019 -1.573539 -0.645944 -0.292575   \n",
       "DAYS_BIRTH     26457.0  8.393080e-17  1.000019 -2.188248 -0.826595  0.097835   \n",
       "DAYS_EMPLOYED  26457.0  1.378914e-16  1.000019 -0.543975 -0.452611 -0.440871   \n",
       "FLAG_MOBIL     26457.0  0.000000e+00  0.000000  0.000000  0.000000  0.000000   \n",
       "work_phone     26457.0  1.437772e-15  1.000019 -0.538417 -0.538417 -0.538417   \n",
       "phone          26457.0 -4.122559e-16  1.000019 -0.645705 -0.645705 -0.645705   \n",
       "email          26457.0 -6.303097e-16  1.000019 -0.316937 -0.316937 -0.316937   \n",
       "family_size    26457.0 -3.448964e-17  1.000019 -1.305605 -0.214735 -0.214735   \n",
       "begin_month    26457.0 -4.292258e-16  1.000019 -2.045789 -0.777615  0.128224   \n",
       "credit         26457.0  4.235020e-16  1.000019 -2.163785 -0.739830  0.684125   \n",
       "\n",
       "                    75%        max  \n",
       "index          0.865993   1.731985  \n",
       "child_num      0.764529  24.850844  \n",
       "income_total   0.369992  13.621338  \n",
       "DAYS_BIRTH     0.835903   1.964307  \n",
       "DAYS_EMPLOYED -0.432636   2.227162  \n",
       "FLAG_MOBIL     0.000000   0.000000  \n",
       "work_phone    -0.538417   1.857295  \n",
       "phone          1.548696   1.548696  \n",
       "email         -0.316937   3.155199  \n",
       "family_size    0.876135  19.420927  \n",
       "begin_month    0.852895   1.577566  \n",
       "credit         0.684125   0.684125  "
      ]
     },
     "execution_count": 138,
     "metadata": {},
     "output_type": "execute_result"
    }
   ],
   "source": [
    "scaled_data.describe().T"
   ]
  },
  {
   "cell_type": "markdown",
   "metadata": {},
   "source": [
    "기존 데이터에서는 변수별로 서로 다른 평균과 표준 편차 값을 가지고 있었습니다.\n",
    "\n",
    "Standard 스케일링된 데이터를 살펴보면, 평균이 0 표준편차가 1이 되었음을 확인할 수 있습니다."
   ]
  },
  {
   "cell_type": "markdown",
   "metadata": {},
   "source": [
    "### 3-4. Log Transformation\n",
    "\n",
    "변수의 범위를 조정하는 Min-Max Scaling과 Standard Scaling을 확인했습니다.<br>\n",
    "이번에는 치우친 분포(skew)의 형태를 보정해주는 방법 중 하나인 Log Transformation에 대해 배우겠습니다.\n",
    "\n",
    "로그 변환은 어떤 변수의 범위가 양수인 경우 사용할 수 있으며, 각 변수에 대해 자연 로그를 취하는 연산 입니다.\n",
    "\n",
    "해당 연산을 적용하면, 다음과 같은 왼쪽으로 치우친 분포(왼쪽)를 좋은 형태(오른쪽)의 정규 분포의 형태로 만들어줄 수 있습니다.\n",
    "\n",
    "이는 왼쪽 그림에서 오른쪽으로 치우친 큰 값들을 작게(지수로) 표현함으로써 분포를 왼쪽으로 당기는 효과를 줄 수 있기 때문입니다.\n",
    "\n",
    "<img src='https://miro.medium.com/max/1620/1*O2R4nH0nR6d3bOxaYU10lg.png'>\n",
    "\n",
    "#### ref\n",
    "- [Log Transformation](https://medium.com/@kyawsawhtoon/log-transformation-purpose-and-interpretation-9444b4b049c9)"
   ]
  },
  {
   "cell_type": "code",
   "execution_count": 139,
   "metadata": {},
   "outputs": [
    {
     "data": {
      "image/png": "[encoded data removed]",
      "text/plain": [
       "<Figure size 864x720 with 1 Axes>"
      ]
     },
     "metadata": {
      "needs_background": "light"
     },
     "output_type": "display_data"
    }
   ],
   "source": [
    "# 로그 변환 전\n",
    "fig, ax = plt.subplots(1, 1, figsize = (12, 10))\n",
    "sns.histplot(data = data, x = 'income_total', bins = 30)\n",
    "plt.show()"
   ]
  },
  {
   "cell_type": "code",
   "execution_count": 140,
   "metadata": {},
   "outputs": [
    {
     "data": {
      "image/png": "[encoded data removed]",
      "text/plain": [
       "<Figure size 864x720 with 1 Axes>"
      ]
     },
     "metadata": {
      "needs_background": "light"
     },
     "output_type": "display_data"
    }
   ],
   "source": [
    "# 로그 변환 후\n",
    "fig, ax = plt.subplots(1, 1, figsize = (12, 10))\n",
    "scaled_data['log_income_total'] = np.log(data['income_total'])\n",
    "sns.histplot(data = scaled_data, x = 'log_income_total', bins = 30)\n",
    "plt.show()"
   ]
  },
  {
   "cell_type": "markdown",
   "metadata": {},
   "source": [
    "\n",
    "### 3-5. Box-Cox, Yeo-Johnson, Quantile Transformation\n",
    "\n",
    "여러가지 변환이 있습니다. \n",
    "\n",
    "세가지 변환 모두 치우친 분포의 데이터를 정규 분포로 보정해주는 효과가 있으며,\n",
    "\n",
    "Box-Cox 변환의 경우 Log 변환과 함께 양수에만 적용할 수 있는 변환이고, \n",
    "\n",
    "Yeo-Johnsong 변환은 Box-Cox 변환의 제약인 음수를 가진 변수에서도 변환을 할 수 있는 변환입니다.\n",
    "\n",
    "Quantile 변환은 가장 자주 발생하는 값(the most frequent values.) 주위로 분포를 조정하며, 이상치의 영향을 감소시켜주는 특징도 있습니다.\n",
    "\n",
    "- Box-Cox 변환은 Lambda 값에 따라 변환이 달라지게 되는데, Lambda 값이 0일 경우 Log 변환과 동일합니다.\n",
    "\n",
    "<img src='https://scikit-learn.org/stable/_images/sphx_glr_plot_map_data_to_normal_001.png'>\n",
    "\n",
    "#### Reference\n",
    "- [Scikit-learn PowerTransformer, Box-Cox, Yeo-Johnson Transformation](https://scikit-learn.org/stable/modules/generated/sklearn.preprocessing.PowerTransformer.html#sklearn.preprocessing.PowerTransformer)\n",
    "- [Scikit-learn Quantile Transformation](https://scikit-learn.org/stable/modules/generated/sklearn.preprocessing.QuantileTransformer.html#sklearn.preprocessing.QuantileTransformer)\n",
    "- [Scikit-learn Map Data To Normal Dist](https://scikit-learn.org/stable/auto_examples/preprocessing/plot_map_data_to_normal.html#sphx-glr-auto-examples-preprocessing-plot-map-data-to-normal-py)"
   ]
  },
  {
   "cell_type": "code",
   "execution_count": 141,
   "metadata": {},
   "outputs": [
    {
     "data": {
      "text/plain": [
       "<AxesSubplot:>"
      ]
     },
     "execution_count": 141,
     "metadata": {},
     "output_type": "execute_result"
    },
    {
     "data": {
      "image/png": "[encoded data removed]",
      "text/plain": [
       "<Figure size 432x288 with 1 Axes>"
      ]
     },
     "metadata": {
      "needs_background": "light"
     },
     "output_type": "display_data"
    }
   ],
   "source": [
    "from sklearn.preprocessing import PowerTransformer\n",
    "\n",
    "# Box-Cox 변환 후\n",
    "trans = PowerTransformer(method='box-cox')\n",
    "\n",
    "scaled_data['box_cox_income_total'] = trans.fit_transform(data['income_total'].values.reshape(-1, 1))\n",
    "scaled_data['box_cox_income_total'].hist(bins=20)"
   ]
  },
  {
   "cell_type": "code",
   "execution_count": 142,
   "metadata": {},
   "outputs": [
    {
     "data": {
      "text/plain": [
       "<AxesSubplot:>"
      ]
     },
     "execution_count": 142,
     "metadata": {},
     "output_type": "execute_result"
    },
    {
     "data": {
      "image/png": "[encoded data removed]",
      "text/plain": [
       "<Figure size 432x288 with 1 Axes>"
      ]
     },
     "metadata": {
      "needs_background": "light"
     },
     "output_type": "display_data"
    }
   ],
   "source": [
    "from sklearn.preprocessing import PowerTransformer\n",
    "\n",
    "# Yeo-Johnson 변환 후\n",
    "trans = PowerTransformer(method='yeo-johnson')\n",
    "\n",
    "scaled_data['yeo_johnson_income_total'] = trans.fit_transform(scaled_data['income_total'].values.reshape(-1, 1))\n",
    "scaled_data['yeo_johnson_income_total'].hist(bins=20)"
   ]
  },
  {
   "cell_type": "code",
   "execution_count": 143,
   "metadata": {},
   "outputs": [
    {
     "data": {
      "text/plain": [
       "<AxesSubplot:>"
      ]
     },
     "execution_count": 143,
     "metadata": {},
     "output_type": "execute_result"
    },
    {
     "data": {
      "image/png": "[encoded data removed]",
      "text/plain": [
       "<Figure size 432x288 with 1 Axes>"
      ]
     },
     "metadata": {
      "needs_background": "light"
     },
     "output_type": "display_data"
    }
   ],
   "source": [
    "from sklearn.preprocessing import QuantileTransformer\n",
    "\n",
    "# Quantile 변환 후\n",
    "trans = QuantileTransformer(output_distribution='normal')\n",
    "\n",
    "scaled_data['quantile_income_total'] = trans.fit_transform(scaled_data['income_total'].values.reshape(-1, 1))\n",
    "scaled_data['quantile_income_total'].hist(bins=20)"
   ]
  },
  {
   "cell_type": "markdown",
   "metadata": {},
   "source": [
    "## 4. Missing Values\n",
    "\n",
    "\n",
    "### 4-1. 대표 값을 사용한 결측치 처리\n",
    "\n",
    "정형 데이터를 다루다보면, 값이 NaN(Not a Number or Null)으로 되어있는 경우가 있습니다. 이러한 값을 결측치라 하며, \n",
    "\n",
    "가장 간단한 방법으로 평균이나 중간값 또는 최빈값 같은 변수의 대표값을 사용할 수 있습니다.\n",
    "\n",
    "결측치를 확인하는 방법으로 missingno 라이브러리의 `matrix()` 메소드를 사용하거나 Pandas의 `isna() + sum()` 메소드를 사용할 수 있습니다.\n",
    "\n",
    "<div class=\"alert alert-block alert-danger\">\n",
    "    <b>주의</b> 결측치 처리는 가능하면 스케일링 작업 이전에 해주는 것이 좋습니다. 예를 들어 특정 컬럼의 결측치를 평균 값으로 대치하려고할 때 Standard Scaling을 진행하게되면 해당 컬럼의 결측치는 모두 0으로 대치될 수 있기 때문입니다. \n",
    "</div>\n"
   ]
  },
  {
   "cell_type": "code",
   "execution_count": 144,
   "metadata": {},
   "outputs": [
    {
     "data": {
      "text/plain": [
       "<AxesSubplot:>"
      ]
     },
     "execution_count": 144,
     "metadata": {},
     "output_type": "execute_result"
    },
    {
     "data": {
      "image/png": "[encoded data removed]",
      "text/plain": [
       "<Figure size 1800x720 with 2 Axes>"
      ]
     },
     "metadata": {
      "needs_background": "light"
     },
     "output_type": "display_data"
    }
   ],
   "source": [
    "msno.matrix(data)"
   ]
  },
  {
   "cell_type": "code",
   "execution_count": 145,
   "metadata": {},
   "outputs": [
    {
     "data": {
      "text/plain": [
       "occyp_type    8171\n",
       "dtype: int64"
      ]
     },
     "execution_count": 145,
     "metadata": {},
     "output_type": "execute_result"
    }
   ],
   "source": [
    "na_list = pd.isna(data).sum()\n",
    "na_list[na_list > 0]"
   ]
  },
  {
   "cell_type": "markdown",
   "metadata": {},
   "source": [
    "### 4-2. 평균(mean)\n",
    "\n",
    "확률 이론과 통계 관점에서 (모)평균 또는 기댓값은 중심에 대한 경향성을 알 수 있는 척도입니다.\n",
    "\n",
    "일반적으로 평균이라고 부르는 것으로 산술 평균이라고 하고, 이 평균은 표본 평균이라고도 합니다.\n",
    "\n",
    "평균은 모든 관측치의 값을 모두 반영하므로 `지나치게 작거나 큰 값(이상치)들의 영향을 많이` 받게 됩니다.\n",
    "\n",
    "평균은 모든 샘플의 값을 더하고, 샘플의 개수로 나누어 계산할 수 있습니다.\n",
    "\n",
    "$$ E(x) = {\\sum x \\over n} $$"
   ]
  },
  {
   "cell_type": "code",
   "execution_count": 146,
   "metadata": {},
   "outputs": [],
   "source": [
    "mean_df = data.copy()"
   ]
  },
  {
   "cell_type": "code",
   "execution_count": 147,
   "metadata": {},
   "outputs": [],
   "source": [
    "# mean_df.loc[pd.isna(data['occyp_type']), 'occyp_type']\n",
    "# row = pd.isna(mean_df['occyp_type'])\n",
    "# col = 'occyp_type'\n",
    "# mean_df.loc[row, col] = mean_df['occyp_type']"
   ]
  },
  {
   "cell_type": "code",
   "execution_count": 148,
   "metadata": {},
   "outputs": [
    {
     "data": {
      "text/html": [
       "<div>\n",
       "<style scoped>\n",
       "    .dataframe tbody tr th:only-of-type {\n",
       "        vertical-align: middle;\n",
       "    }\n",
       "\n",
       "    .dataframe tbody tr th {\n",
       "        vertical-align: top;\n",
       "    }\n",
       "\n",
       "    .dataframe thead th {\n",
       "        text-align: right;\n",
       "    }\n",
       "</style>\n",
       "<table border=\"1\" class=\"dataframe\">\n",
       "  <thead>\n",
       "    <tr style=\"text-align: right;\">\n",
       "      <th></th>\n",
       "      <th>index</th>\n",
       "      <th>gender</th>\n",
       "      <th>car</th>\n",
       "      <th>reality</th>\n",
       "      <th>child_num</th>\n",
       "      <th>income_total</th>\n",
       "      <th>income_type</th>\n",
       "      <th>edu_type</th>\n",
       "      <th>family_type</th>\n",
       "      <th>house_type</th>\n",
       "      <th>DAYS_BIRTH</th>\n",
       "      <th>DAYS_EMPLOYED</th>\n",
       "      <th>FLAG_MOBIL</th>\n",
       "      <th>work_phone</th>\n",
       "      <th>phone</th>\n",
       "      <th>email</th>\n",
       "      <th>occyp_type</th>\n",
       "      <th>family_size</th>\n",
       "      <th>begin_month</th>\n",
       "      <th>credit</th>\n",
       "    </tr>\n",
       "  </thead>\n",
       "  <tbody>\n",
       "    <tr>\n",
       "      <th>0</th>\n",
       "      <td>0</td>\n",
       "      <td>F</td>\n",
       "      <td>N</td>\n",
       "      <td>N</td>\n",
       "      <td>0</td>\n",
       "      <td>202500.0</td>\n",
       "      <td>Commercial associate</td>\n",
       "      <td>Higher education</td>\n",
       "      <td>Married</td>\n",
       "      <td>Municipal apartment</td>\n",
       "      <td>-13899</td>\n",
       "      <td>-4709</td>\n",
       "      <td>1</td>\n",
       "      <td>0</td>\n",
       "      <td>0</td>\n",
       "      <td>0</td>\n",
       "      <td>NaN</td>\n",
       "      <td>2.0</td>\n",
       "      <td>-6.0</td>\n",
       "      <td>1.0</td>\n",
       "    </tr>\n",
       "    <tr>\n",
       "      <th>1</th>\n",
       "      <td>1</td>\n",
       "      <td>F</td>\n",
       "      <td>N</td>\n",
       "      <td>Y</td>\n",
       "      <td>1</td>\n",
       "      <td>247500.0</td>\n",
       "      <td>Commercial associate</td>\n",
       "      <td>Secondary / secondary special</td>\n",
       "      <td>Civil marriage</td>\n",
       "      <td>House / apartment</td>\n",
       "      <td>-11380</td>\n",
       "      <td>-1540</td>\n",
       "      <td>1</td>\n",
       "      <td>0</td>\n",
       "      <td>0</td>\n",
       "      <td>1</td>\n",
       "      <td>Laborers</td>\n",
       "      <td>3.0</td>\n",
       "      <td>-5.0</td>\n",
       "      <td>1.0</td>\n",
       "    </tr>\n",
       "    <tr>\n",
       "      <th>2</th>\n",
       "      <td>2</td>\n",
       "      <td>M</td>\n",
       "      <td>Y</td>\n",
       "      <td>Y</td>\n",
       "      <td>0</td>\n",
       "      <td>450000.0</td>\n",
       "      <td>Working</td>\n",
       "      <td>Higher education</td>\n",
       "      <td>Married</td>\n",
       "      <td>House / apartment</td>\n",
       "      <td>-19087</td>\n",
       "      <td>-4434</td>\n",
       "      <td>1</td>\n",
       "      <td>0</td>\n",
       "      <td>1</td>\n",
       "      <td>0</td>\n",
       "      <td>Managers</td>\n",
       "      <td>2.0</td>\n",
       "      <td>-22.0</td>\n",
       "      <td>2.0</td>\n",
       "    </tr>\n",
       "    <tr>\n",
       "      <th>3</th>\n",
       "      <td>3</td>\n",
       "      <td>F</td>\n",
       "      <td>N</td>\n",
       "      <td>Y</td>\n",
       "      <td>0</td>\n",
       "      <td>202500.0</td>\n",
       "      <td>Commercial associate</td>\n",
       "      <td>Secondary / secondary special</td>\n",
       "      <td>Married</td>\n",
       "      <td>House / apartment</td>\n",
       "      <td>-15088</td>\n",
       "      <td>-2092</td>\n",
       "      <td>1</td>\n",
       "      <td>0</td>\n",
       "      <td>1</td>\n",
       "      <td>0</td>\n",
       "      <td>Sales staff</td>\n",
       "      <td>2.0</td>\n",
       "      <td>-37.0</td>\n",
       "      <td>0.0</td>\n",
       "    </tr>\n",
       "    <tr>\n",
       "      <th>4</th>\n",
       "      <td>4</td>\n",
       "      <td>F</td>\n",
       "      <td>Y</td>\n",
       "      <td>Y</td>\n",
       "      <td>0</td>\n",
       "      <td>157500.0</td>\n",
       "      <td>State servant</td>\n",
       "      <td>Higher education</td>\n",
       "      <td>Married</td>\n",
       "      <td>House / apartment</td>\n",
       "      <td>-15037</td>\n",
       "      <td>-2105</td>\n",
       "      <td>1</td>\n",
       "      <td>0</td>\n",
       "      <td>0</td>\n",
       "      <td>0</td>\n",
       "      <td>Managers</td>\n",
       "      <td>2.0</td>\n",
       "      <td>-26.0</td>\n",
       "      <td>2.0</td>\n",
       "    </tr>\n",
       "  </tbody>\n",
       "</table>\n",
       "</div>"
      ],
      "text/plain": [
       "   index gender car reality  child_num  income_total           income_type  \\\n",
       "0      0      F   N       N          0      202500.0  Commercial associate   \n",
       "1      1      F   N       Y          1      247500.0  Commercial associate   \n",
       "2      2      M   Y       Y          0      450000.0               Working   \n",
       "3      3      F   N       Y          0      202500.0  Commercial associate   \n",
       "4      4      F   Y       Y          0      157500.0         State servant   \n",
       "\n",
       "                        edu_type     family_type           house_type  \\\n",
       "0               Higher education         Married  Municipal apartment   \n",
       "1  Secondary / secondary special  Civil marriage    House / apartment   \n",
       "2               Higher education         Married    House / apartment   \n",
       "3  Secondary / secondary special         Married    House / apartment   \n",
       "4               Higher education         Married    House / apartment   \n",
       "\n",
       "   DAYS_BIRTH  DAYS_EMPLOYED  FLAG_MOBIL  work_phone  phone  email  \\\n",
       "0      -13899          -4709           1           0      0      0   \n",
       "1      -11380          -1540           1           0      0      1   \n",
       "2      -19087          -4434           1           0      1      0   \n",
       "3      -15088          -2092           1           0      1      0   \n",
       "4      -15037          -2105           1           0      0      0   \n",
       "\n",
       "    occyp_type  family_size  begin_month  credit  \n",
       "0          NaN          2.0         -6.0     1.0  \n",
       "1     Laborers          3.0         -5.0     1.0  \n",
       "2     Managers          2.0        -22.0     2.0  \n",
       "3  Sales staff          2.0        -37.0     0.0  \n",
       "4     Managers          2.0        -26.0     2.0  "
      ]
     },
     "execution_count": 148,
     "metadata": {},
     "output_type": "execute_result"
    }
   ],
   "source": [
    "mean_df.head()"
   ]
  },
  {
   "cell_type": "code",
   "execution_count": 149,
   "metadata": {},
   "outputs": [],
   "source": [
    "for c in num_columns :\n",
    "    mean_df.loc[pd.isna(data[c]), c] = data[c].mean()"
   ]
  },
  {
   "cell_type": "code",
   "execution_count": 150,
   "metadata": {},
   "outputs": [
    {
     "data": {
      "text/plain": [
       "index            0\n",
       "child_num        0\n",
       "income_total     0\n",
       "DAYS_BIRTH       0\n",
       "DAYS_EMPLOYED    0\n",
       "FLAG_MOBIL       0\n",
       "work_phone       0\n",
       "phone            0\n",
       "email            0\n",
       "family_size      0\n",
       "begin_month      0\n",
       "credit           0\n",
       "dtype: int64"
      ]
     },
     "execution_count": 150,
     "metadata": {},
     "output_type": "execute_result"
    }
   ],
   "source": [
    "pd.isna(mean_df[num_columns]).sum()"
   ]
  },
  {
   "cell_type": "markdown",
   "metadata": {},
   "source": [
    "평균의 속임수를 조심하기 위해서, 최대한 그룹을 세분화할 것. 적당히 합리적인 선에서."
   ]
  },
  {
   "cell_type": "code",
   "execution_count": 151,
   "metadata": {},
   "outputs": [
    {
     "data": {
      "text/html": [
       "<div>\n",
       "<style scoped>\n",
       "    .dataframe tbody tr th:only-of-type {\n",
       "        vertical-align: middle;\n",
       "    }\n",
       "\n",
       "    .dataframe tbody tr th {\n",
       "        vertical-align: top;\n",
       "    }\n",
       "\n",
       "    .dataframe thead th {\n",
       "        text-align: right;\n",
       "    }\n",
       "</style>\n",
       "<table border=\"1\" class=\"dataframe\">\n",
       "  <thead>\n",
       "    <tr style=\"text-align: right;\">\n",
       "      <th></th>\n",
       "      <th></th>\n",
       "      <th></th>\n",
       "      <th>income_total</th>\n",
       "    </tr>\n",
       "    <tr>\n",
       "      <th>gender</th>\n",
       "      <th>car</th>\n",
       "      <th>reality</th>\n",
       "      <th></th>\n",
       "    </tr>\n",
       "  </thead>\n",
       "  <tbody>\n",
       "    <tr>\n",
       "      <th rowspan=\"4\" valign=\"top\">F</th>\n",
       "      <th rowspan=\"2\" valign=\"top\">N</th>\n",
       "      <th>N</th>\n",
       "      <td>154554.490299</td>\n",
       "    </tr>\n",
       "    <tr>\n",
       "      <th>Y</th>\n",
       "      <td>167189.738410</td>\n",
       "    </tr>\n",
       "    <tr>\n",
       "      <th rowspan=\"2\" valign=\"top\">Y</th>\n",
       "      <th>N</th>\n",
       "      <td>193006.403754</td>\n",
       "    </tr>\n",
       "    <tr>\n",
       "      <th>Y</th>\n",
       "      <td>205431.017613</td>\n",
       "    </tr>\n",
       "    <tr>\n",
       "      <th rowspan=\"4\" valign=\"top\">M</th>\n",
       "      <th rowspan=\"2\" valign=\"top\">N</th>\n",
       "      <th>N</th>\n",
       "      <td>195305.476036</td>\n",
       "    </tr>\n",
       "    <tr>\n",
       "      <th>Y</th>\n",
       "      <td>200526.225782</td>\n",
       "    </tr>\n",
       "    <tr>\n",
       "      <th rowspan=\"2\" valign=\"top\">Y</th>\n",
       "      <th>N</th>\n",
       "      <td>223291.233909</td>\n",
       "    </tr>\n",
       "    <tr>\n",
       "      <th>Y</th>\n",
       "      <td>227946.340361</td>\n",
       "    </tr>\n",
       "  </tbody>\n",
       "</table>\n",
       "</div>"
      ],
      "text/plain": [
       "                     income_total\n",
       "gender car reality               \n",
       "F      N   N        154554.490299\n",
       "           Y        167189.738410\n",
       "       Y   N        193006.403754\n",
       "           Y        205431.017613\n",
       "M      N   N        195305.476036\n",
       "           Y        200526.225782\n",
       "       Y   N        223291.233909\n",
       "           Y        227946.340361"
      ]
     },
     "execution_count": 151,
     "metadata": {},
     "output_type": "execute_result"
    }
   ],
   "source": [
    "mean_df.groupby(['gender', 'car', 'reality'])[['income_total']].mean()"
   ]
  },
  {
   "cell_type": "markdown",
   "metadata": {},
   "source": [
    "### 4-3. Median(중간값) \n",
    "\n",
    "중간값은 데이터 샘플을 개수에 대해서 절반으로 나누는 위치의 값을 말합니다.\n",
    "\n",
    "데이터 샘플의 수가 짝수개일 때에는 중간에 위치한 두 값의 평균을 사용합니다.\n",
    "\n",
    "중간값은 모든 관측치의 값을 모두 반영하지 않으므로 `지나치게 작거나 큰 값(이상치)들의 영향을 덜` 받습니다.<br>\n",
    "중간값은 샘플을 값에 대해 정렬하고, 중앙에 위치한 값으로 구할 수 있습니다."
   ]
  },
  {
   "cell_type": "code",
   "execution_count": 152,
   "metadata": {},
   "outputs": [
    {
     "data": {
      "text/html": [
       "<div>\n",
       "<style scoped>\n",
       "    .dataframe tbody tr th:only-of-type {\n",
       "        vertical-align: middle;\n",
       "    }\n",
       "\n",
       "    .dataframe tbody tr th {\n",
       "        vertical-align: top;\n",
       "    }\n",
       "\n",
       "    .dataframe thead th {\n",
       "        text-align: right;\n",
       "    }\n",
       "</style>\n",
       "<table border=\"1\" class=\"dataframe\">\n",
       "  <thead>\n",
       "    <tr style=\"text-align: right;\">\n",
       "      <th></th>\n",
       "      <th>50%</th>\n",
       "    </tr>\n",
       "  </thead>\n",
       "  <tbody>\n",
       "    <tr>\n",
       "      <th>index</th>\n",
       "      <td>13228.0</td>\n",
       "    </tr>\n",
       "    <tr>\n",
       "      <th>child_num</th>\n",
       "      <td>0.0</td>\n",
       "    </tr>\n",
       "    <tr>\n",
       "      <th>income_total</th>\n",
       "      <td>157500.0</td>\n",
       "    </tr>\n",
       "    <tr>\n",
       "      <th>DAYS_BIRTH</th>\n",
       "      <td>-15547.0</td>\n",
       "    </tr>\n",
       "    <tr>\n",
       "      <th>DAYS_EMPLOYED</th>\n",
       "      <td>-1539.0</td>\n",
       "    </tr>\n",
       "    <tr>\n",
       "      <th>FLAG_MOBIL</th>\n",
       "      <td>1.0</td>\n",
       "    </tr>\n",
       "    <tr>\n",
       "      <th>work_phone</th>\n",
       "      <td>0.0</td>\n",
       "    </tr>\n",
       "    <tr>\n",
       "      <th>phone</th>\n",
       "      <td>0.0</td>\n",
       "    </tr>\n",
       "    <tr>\n",
       "      <th>email</th>\n",
       "      <td>0.0</td>\n",
       "    </tr>\n",
       "    <tr>\n",
       "      <th>family_size</th>\n",
       "      <td>2.0</td>\n",
       "    </tr>\n",
       "    <tr>\n",
       "      <th>begin_month</th>\n",
       "      <td>-24.0</td>\n",
       "    </tr>\n",
       "    <tr>\n",
       "      <th>credit</th>\n",
       "      <td>2.0</td>\n",
       "    </tr>\n",
       "  </tbody>\n",
       "</table>\n",
       "</div>"
      ],
      "text/plain": [
       "                    50%\n",
       "index           13228.0\n",
       "child_num           0.0\n",
       "income_total   157500.0\n",
       "DAYS_BIRTH     -15547.0\n",
       "DAYS_EMPLOYED   -1539.0\n",
       "FLAG_MOBIL          1.0\n",
       "work_phone          0.0\n",
       "phone               0.0\n",
       "email               0.0\n",
       "family_size         2.0\n",
       "begin_month       -24.0\n",
       "credit              2.0"
      ]
     },
     "execution_count": 152,
     "metadata": {},
     "output_type": "execute_result"
    }
   ],
   "source": [
    "data.describe().T[['50%']]"
   ]
  },
  {
   "cell_type": "code",
   "execution_count": 153,
   "metadata": {},
   "outputs": [],
   "source": [
    "median_df = data.copy()\n",
    "\n",
    "for c in num_columns:\n",
    "    median_df.loc[pd.isna(data[c]), c] = data[c].median()"
   ]
  },
  {
   "cell_type": "code",
   "execution_count": 154,
   "metadata": {},
   "outputs": [
    {
     "data": {
      "text/plain": [
       "index            0\n",
       "child_num        0\n",
       "income_total     0\n",
       "DAYS_BIRTH       0\n",
       "DAYS_EMPLOYED    0\n",
       "FLAG_MOBIL       0\n",
       "work_phone       0\n",
       "phone            0\n",
       "email            0\n",
       "family_size      0\n",
       "begin_month      0\n",
       "credit           0\n",
       "dtype: int64"
      ]
     },
     "execution_count": 154,
     "metadata": {},
     "output_type": "execute_result"
    }
   ],
   "source": [
    "pd.isna(median_df[num_columns]).sum()"
   ]
  },
  {
   "cell_type": "code",
   "execution_count": 155,
   "metadata": {},
   "outputs": [
    {
     "data": {
      "text/plain": [
       "0"
      ]
     },
     "execution_count": 155,
     "metadata": {},
     "output_type": "execute_result"
    }
   ],
   "source": [
    "pd.isna(median_df[num_columns]).sum().sum()"
   ]
  },
  {
   "cell_type": "markdown",
   "metadata": {},
   "source": [
    "### 4-4. Iterative Impute (R 언어의 MICE 패키지)\n",
    "\n",
    "Round robin 방식으로 반복하여 결측값을 회귀하는 방식으로 결측치를 처리합니다. \n",
    "\n",
    "결측값을 회귀하는 방식으로 처리하기 때문에 수치형 변수에만 적용할 수 있습니다.\n",
    "\n",
    "1. 각 결측치를 해당 변수의 평균으로 채워넣는다. \n",
    "2. 대체할 변수의 결측치는 제외한 상태로 해당 변수의 결측치를 회귀모델을 이용하여 예측한다.\n",
    "3. 다른 변수에서도 해당 방식을 반복한다.\n",
    "4. 모든 변수에 대해 반복 후 해당 이터레이션에서 맨 처음에 할당했던 값과의 차이를 계산한다.\n",
    "5. 해당 값의 차이가 0이 될 때(수렴)까지 반복한다.\n",
    "\n",
    "#### Reference\n",
    "- [Scikit-Learn, Iterative Imputer (MICE)](https://scikit-learn.org/stable/modules/generated/sklearn.impute.IterativeImputer.html?highlight=mice)\n",
    "- [MICE 알고리즘 설명](https://ichi.pro/ko/deiteo-seteueseo-gyeol-cheuggabs-eul-daechihaneun-mice-algolijeum-217004654686142)"
   ]
  },
  {
   "cell_type": "code",
   "execution_count": 156,
   "metadata": {},
   "outputs": [],
   "source": [
    "from sklearn.experimental import enable_iterative_imputer\n",
    "from sklearn.impute import IterativeImputer"
   ]
  },
  {
   "cell_type": "code",
   "execution_count": 157,
   "metadata": {},
   "outputs": [],
   "source": [
    "impute_df = data.copy()"
   ]
  },
  {
   "cell_type": "code",
   "execution_count": 158,
   "metadata": {},
   "outputs": [],
   "source": [
    "imp_mean = IterativeImputer(random_state = 0)\n",
    "impute_df[num_columns] = imp_mean.fit_transform(impute_df[num_columns])"
   ]
  },
  {
   "cell_type": "code",
   "execution_count": 159,
   "metadata": {},
   "outputs": [
    {
     "data": {
      "text/plain": [
       "0"
      ]
     },
     "execution_count": 159,
     "metadata": {},
     "output_type": "execute_result"
    }
   ],
   "source": [
    "pd.isna(impute_df[num_columns]).sum().sum()"
   ]
  },
  {
   "cell_type": "markdown",
   "metadata": {},
   "source": [
    "### 4-5. Mode(최빈값)\n",
    "\n",
    "최빈값은 범주형 변수에서 가장 자주 등장하는 값을 말합니다."
   ]
  },
  {
   "cell_type": "code",
   "execution_count": 160,
   "metadata": {},
   "outputs": [],
   "source": [
    "mode_df = data.copy()"
   ]
  },
  {
   "cell_type": "code",
   "execution_count": 161,
   "metadata": {},
   "outputs": [],
   "source": [
    "for c in cat_columns:\n",
    "    mode_df.loc[pd.isna(data[c]), c] = data[c].mode()[0]"
   ]
  },
  {
   "cell_type": "code",
   "execution_count": 162,
   "metadata": {},
   "outputs": [
    {
     "data": {
      "text/plain": [
       "M     8760\n",
       "F    17697\n",
       "Name: gender, dtype: int64"
      ]
     },
     "execution_count": 162,
     "metadata": {},
     "output_type": "execute_result"
    }
   ],
   "source": [
    "mode_df['gender'].value_counts().sort_values()"
   ]
  },
  {
   "cell_type": "code",
   "execution_count": 163,
   "metadata": {},
   "outputs": [
    {
     "data": {
      "text/plain": [
       "0"
      ]
     },
     "execution_count": 163,
     "metadata": {},
     "output_type": "execute_result"
    }
   ],
   "source": [
    "pd.isna(mode_df[cat_columns]).sum().sum()"
   ]
  },
  {
   "cell_type": "code",
   "execution_count": 164,
   "metadata": {},
   "outputs": [
    {
     "data": {
      "text/html": [
       "<div>\n",
       "<style scoped>\n",
       "    .dataframe tbody tr th:only-of-type {\n",
       "        vertical-align: middle;\n",
       "    }\n",
       "\n",
       "    .dataframe tbody tr th {\n",
       "        vertical-align: top;\n",
       "    }\n",
       "\n",
       "    .dataframe thead th {\n",
       "        text-align: right;\n",
       "    }\n",
       "</style>\n",
       "<table border=\"1\" class=\"dataframe\">\n",
       "  <thead>\n",
       "    <tr style=\"text-align: right;\">\n",
       "      <th></th>\n",
       "      <th></th>\n",
       "      <th></th>\n",
       "      <th></th>\n",
       "      <th>occyp_type</th>\n",
       "    </tr>\n",
       "    <tr>\n",
       "      <th>car</th>\n",
       "      <th>reality</th>\n",
       "      <th>income_type</th>\n",
       "      <th>occyp_type</th>\n",
       "      <th></th>\n",
       "    </tr>\n",
       "  </thead>\n",
       "  <tbody>\n",
       "    <tr>\n",
       "      <th rowspan=\"5\" valign=\"top\">N</th>\n",
       "      <th rowspan=\"5\" valign=\"top\">N</th>\n",
       "      <th rowspan=\"5\" valign=\"top\">Commercial associate</th>\n",
       "      <th>Laborers</th>\n",
       "      <td>211</td>\n",
       "    </tr>\n",
       "    <tr>\n",
       "      <th>Sales staff</th>\n",
       "      <td>200</td>\n",
       "    </tr>\n",
       "    <tr>\n",
       "      <th>Managers</th>\n",
       "      <td>104</td>\n",
       "    </tr>\n",
       "    <tr>\n",
       "      <th>Core staff</th>\n",
       "      <td>102</td>\n",
       "    </tr>\n",
       "    <tr>\n",
       "      <th>High skill tech staff</th>\n",
       "      <td>73</td>\n",
       "    </tr>\n",
       "    <tr>\n",
       "      <th>...</th>\n",
       "      <th>...</th>\n",
       "      <th>...</th>\n",
       "      <th>...</th>\n",
       "      <td>...</td>\n",
       "    </tr>\n",
       "    <tr>\n",
       "      <th rowspan=\"5\" valign=\"top\">Y</th>\n",
       "      <th rowspan=\"5\" valign=\"top\">Y</th>\n",
       "      <th rowspan=\"5\" valign=\"top\">Working</th>\n",
       "      <th>IT staff</th>\n",
       "      <td>8</td>\n",
       "    </tr>\n",
       "    <tr>\n",
       "      <th>Realty agents</th>\n",
       "      <td>8</td>\n",
       "    </tr>\n",
       "    <tr>\n",
       "      <th>Secretaries</th>\n",
       "      <td>7</td>\n",
       "    </tr>\n",
       "    <tr>\n",
       "      <th>Waiters/barmen staff</th>\n",
       "      <td>5</td>\n",
       "    </tr>\n",
       "    <tr>\n",
       "      <th>HR staff</th>\n",
       "      <td>3</td>\n",
       "    </tr>\n",
       "  </tbody>\n",
       "</table>\n",
       "<p>197 rows × 1 columns</p>\n",
       "</div>"
      ],
      "text/plain": [
       "                                                        occyp_type\n",
       "car reality income_type          occyp_type                       \n",
       "N   N       Commercial associate Laborers                      211\n",
       "                                 Sales staff                   200\n",
       "                                 Managers                      104\n",
       "                                 Core staff                    102\n",
       "                                 High skill tech staff          73\n",
       "...                                                            ...\n",
       "Y   Y       Working              IT staff                        8\n",
       "                                 Realty agents                   8\n",
       "                                 Secretaries                     7\n",
       "                                 Waiters/barmen staff            5\n",
       "                                 HR staff                        3\n",
       "\n",
       "[197 rows x 1 columns]"
      ]
     },
     "execution_count": 164,
     "metadata": {},
     "output_type": "execute_result"
    }
   ],
   "source": [
    "pd.DataFrame(mean_df.groupby(['car', 'reality', 'income_type'])['occyp_type'].value_counts())"
   ]
  },
  {
   "cell_type": "markdown",
   "metadata": {},
   "source": [
    "## 5. Categorical Variable to Numeric Variable \n",
    "\n",
    "이번에는 범주형 변수를 수치형 변수로 나타내는 방법에 대해 알아보겠습니다. \n",
    "여기에서 범주형 변수란, 차의 등급을 나타내는 [소형, 중형, 대형] 처럼 표현되는 변수를 말합니다. \n",
    "\n",
    "범주형 변수는 주로 데이터 상에서 문자열로 표현되는 경우가 많으며, 문자와 숫자가 매핑되는 형태로 표현되기도 합니다.\n",
    "\n",
    "### 5-1. Label Encoding\n",
    "라벨 인코딩은 n개의 범주형 데이터를 0~n-1 의 연속적인 수치 데이터로 표현합니다.<br>\n",
    "예를 들어, 차의 등급 변수를 라벨 인코딩으로 변환하면 다음과 같이 표현할 수 있습니다.<br>\n",
    "\n",
    "- 소형 : 0 \n",
    "- 중형 : 1 \n",
    "- 대형 : 2 \n",
    "\n",
    "라벨 인코딩은 간단한 방법이지만, '소형'과 '중형'이라는 범주형 데이터가 가지고 있는 차이가 0과 1의 수치적인 차이라는 의미가 아님을 주의하셔야 합니다. \n",
    "\n",
    "Label Encoding도 Sklearn의 preprocessing 패키지에 있습니다.\n",
    "\n",
    "#### Reference\n",
    "- [Scikit-Learn Label Encoder](https://scikit-learn.org/stable/modules/generated/sklearn.preprocessing.LabelEncoder.html?highlight=label%20encoder#sklearn.preprocessing.LabelEncoder)"
   ]
  },
  {
   "cell_type": "code",
   "execution_count": 165,
   "metadata": {},
   "outputs": [],
   "source": [
    "from sklearn.preprocessing import LabelEncoder\n",
    "le = LabelEncoder()"
   ]
  },
  {
   "cell_type": "code",
   "execution_count": 166,
   "metadata": {},
   "outputs": [
    {
     "data": {
      "text/plain": [
       "array(['Married', 'Civil marriage', 'Separated', 'Single / not married',\n",
       "       'Widow'], dtype=object)"
      ]
     },
     "execution_count": 166,
     "metadata": {},
     "output_type": "execute_result"
    }
   ],
   "source": [
    "data['family_type'].unique()"
   ]
  },
  {
   "cell_type": "code",
   "execution_count": 167,
   "metadata": {},
   "outputs": [
    {
     "data": {
      "text/plain": [
       "LabelEncoder()"
      ]
     },
     "execution_count": 167,
     "metadata": {},
     "output_type": "execute_result"
    }
   ],
   "source": [
    "le.fit(data['family_type'])"
   ]
  },
  {
   "cell_type": "code",
   "execution_count": 168,
   "metadata": {},
   "outputs": [
    {
     "data": {
      "text/plain": [
       "array(['Civil marriage', 'Married', 'Separated', 'Single / not married',\n",
       "       'Widow'], dtype=object)"
      ]
     },
     "execution_count": 168,
     "metadata": {},
     "output_type": "execute_result"
    }
   ],
   "source": [
    "# classes_ 속성에 있는 순서(index)대로 라벨 번호가 부여된다.\n",
    "le.classes_"
   ]
  },
  {
   "cell_type": "code",
   "execution_count": 169,
   "metadata": {},
   "outputs": [],
   "source": [
    "label_encoded = le.transform(data['family_type'])"
   ]
  },
  {
   "cell_type": "code",
   "execution_count": 170,
   "metadata": {},
   "outputs": [
    {
     "name": "stdout",
     "output_type": "stream",
     "text": [
      "0 Civil marriage\n",
      "1 Married\n",
      "2 Separated\n",
      "3 Single / not married\n",
      "4 Widow\n"
     ]
    }
   ],
   "source": [
    "for idx, val in enumerate(le.classes_) :\n",
    "    print(idx, val)"
   ]
  },
  {
   "cell_type": "code",
   "execution_count": 171,
   "metadata": {},
   "outputs": [
    {
     "data": {
      "text/plain": [
       "<AxesSubplot:xlabel='family_type', ylabel='count'>"
      ]
     },
     "execution_count": 171,
     "metadata": {},
     "output_type": "execute_result"
    },
    {
     "data": {
      "image/png": "[encoded data removed]",
      "text/plain": [
       "<Figure size 432x288 with 1 Axes>"
      ]
     },
     "metadata": {
      "needs_background": "light"
     },
     "output_type": "display_data"
    }
   ],
   "source": [
    "sns.countplot(data = data, x = 'family_type')"
   ]
  },
  {
   "cell_type": "code",
   "execution_count": 172,
   "metadata": {},
   "outputs": [
    {
     "data": {
      "text/html": [
       "<div>\n",
       "<style scoped>\n",
       "    .dataframe tbody tr th:only-of-type {\n",
       "        vertical-align: middle;\n",
       "    }\n",
       "\n",
       "    .dataframe tbody tr th {\n",
       "        vertical-align: top;\n",
       "    }\n",
       "\n",
       "    .dataframe thead th {\n",
       "        text-align: right;\n",
       "    }\n",
       "</style>\n",
       "<table border=\"1\" class=\"dataframe\">\n",
       "  <thead>\n",
       "    <tr style=\"text-align: right;\">\n",
       "      <th></th>\n",
       "      <th>family_type</th>\n",
       "      <th>label</th>\n",
       "    </tr>\n",
       "  </thead>\n",
       "  <tbody>\n",
       "    <tr>\n",
       "      <th>0</th>\n",
       "      <td>Married</td>\n",
       "      <td>1</td>\n",
       "    </tr>\n",
       "    <tr>\n",
       "      <th>1</th>\n",
       "      <td>Civil marriage</td>\n",
       "      <td>0</td>\n",
       "    </tr>\n",
       "    <tr>\n",
       "      <th>2</th>\n",
       "      <td>Married</td>\n",
       "      <td>1</td>\n",
       "    </tr>\n",
       "    <tr>\n",
       "      <th>3</th>\n",
       "      <td>Married</td>\n",
       "      <td>1</td>\n",
       "    </tr>\n",
       "    <tr>\n",
       "      <th>4</th>\n",
       "      <td>Married</td>\n",
       "      <td>1</td>\n",
       "    </tr>\n",
       "    <tr>\n",
       "      <th>5</th>\n",
       "      <td>Married</td>\n",
       "      <td>1</td>\n",
       "    </tr>\n",
       "    <tr>\n",
       "      <th>6</th>\n",
       "      <td>Separated</td>\n",
       "      <td>2</td>\n",
       "    </tr>\n",
       "    <tr>\n",
       "      <th>7</th>\n",
       "      <td>Married</td>\n",
       "      <td>1</td>\n",
       "    </tr>\n",
       "    <tr>\n",
       "      <th>8</th>\n",
       "      <td>Married</td>\n",
       "      <td>1</td>\n",
       "    </tr>\n",
       "    <tr>\n",
       "      <th>9</th>\n",
       "      <td>Married</td>\n",
       "      <td>1</td>\n",
       "    </tr>\n",
       "    <tr>\n",
       "      <th>10</th>\n",
       "      <td>Separated</td>\n",
       "      <td>2</td>\n",
       "    </tr>\n",
       "    <tr>\n",
       "      <th>11</th>\n",
       "      <td>Married</td>\n",
       "      <td>1</td>\n",
       "    </tr>\n",
       "    <tr>\n",
       "      <th>12</th>\n",
       "      <td>Married</td>\n",
       "      <td>1</td>\n",
       "    </tr>\n",
       "    <tr>\n",
       "      <th>13</th>\n",
       "      <td>Married</td>\n",
       "      <td>1</td>\n",
       "    </tr>\n",
       "    <tr>\n",
       "      <th>14</th>\n",
       "      <td>Single / not married</td>\n",
       "      <td>3</td>\n",
       "    </tr>\n",
       "    <tr>\n",
       "      <th>15</th>\n",
       "      <td>Married</td>\n",
       "      <td>1</td>\n",
       "    </tr>\n",
       "    <tr>\n",
       "      <th>16</th>\n",
       "      <td>Married</td>\n",
       "      <td>1</td>\n",
       "    </tr>\n",
       "    <tr>\n",
       "      <th>17</th>\n",
       "      <td>Civil marriage</td>\n",
       "      <td>0</td>\n",
       "    </tr>\n",
       "    <tr>\n",
       "      <th>18</th>\n",
       "      <td>Married</td>\n",
       "      <td>1</td>\n",
       "    </tr>\n",
       "    <tr>\n",
       "      <th>19</th>\n",
       "      <td>Married</td>\n",
       "      <td>1</td>\n",
       "    </tr>\n",
       "  </tbody>\n",
       "</table>\n",
       "</div>"
      ],
      "text/plain": [
       "             family_type  label\n",
       "0                Married      1\n",
       "1         Civil marriage      0\n",
       "2                Married      1\n",
       "3                Married      1\n",
       "4                Married      1\n",
       "5                Married      1\n",
       "6              Separated      2\n",
       "7                Married      1\n",
       "8                Married      1\n",
       "9                Married      1\n",
       "10             Separated      2\n",
       "11               Married      1\n",
       "12               Married      1\n",
       "13               Married      1\n",
       "14  Single / not married      3\n",
       "15               Married      1\n",
       "16               Married      1\n",
       "17        Civil marriage      0\n",
       "18               Married      1\n",
       "19               Married      1"
      ]
     },
     "execution_count": 172,
     "metadata": {},
     "output_type": "execute_result"
    }
   ],
   "source": [
    "result = pd.DataFrame({\n",
    "    'family_type' : data['family_type'].values,\n",
    "    'label' : label_encoded\n",
    "})\n",
    "\n",
    "result.head(20)"
   ]
  },
  {
   "cell_type": "markdown",
   "metadata": {},
   "source": [
    "### 5-2. One-hot Encoding\n",
    "\n",
    "원핫 인코딩은 n개의 범주형 데이터를 n개의 비트(0,1) 벡터로 표현합니다. \n",
    "\n",
    "예를 들어, 위에서 언급한 소형, 중형, 대형으로 이루어진 범주형 변수를 원핫 인코딩을 통해 변환하면 다음과 같이 표현할 수 있습니다.\n",
    "\n",
    "- 소형 : `[1, 0, 0]` \n",
    "- 중형 : `[0, 1, 0]` \n",
    "- 대형 : `[0, 0, 1]` \n",
    "\n",
    "원핫 인코딩으로 범주형 데이터를 나타내게되면, 서로 다른 범주에 대해서는 벡터 내적을 취했을 때 내적 값이 0이 나오게 됩니다. \n",
    "\n",
    "이는 서로 다른 범주 데이터는 독립적인 관계라는 것을 표현할 수 있게 됩니다.\n",
    "\n",
    "One-hot Encoding은 Sklearn의 preprocessing 패키지에 있습니다.\n",
    "\n",
    "#### Reference\n",
    "- [Scikit-Learn One-Hot Encoder](https://scikit-learn.org/stable/modules/generated/sklearn.preprocessing.OneHotEncoder.html#sklearn.preprocessing.OneHotEncoder)"
   ]
  },
  {
   "cell_type": "code",
   "execution_count": 173,
   "metadata": {},
   "outputs": [],
   "source": [
    "from sklearn.preprocessing import OneHotEncoder\n",
    "ohe = OneHotEncoder(sparse=False)"
   ]
  },
  {
   "cell_type": "code",
   "execution_count": 174,
   "metadata": {},
   "outputs": [
    {
     "data": {
      "text/plain": [
       "OneHotEncoder(sparse=False)"
      ]
     },
     "execution_count": 174,
     "metadata": {},
     "output_type": "execute_result"
    }
   ],
   "source": [
    "ohe.fit(data[['family_type']])"
   ]
  },
  {
   "cell_type": "code",
   "execution_count": 175,
   "metadata": {},
   "outputs": [
    {
     "data": {
      "text/plain": [
       "[array(['Civil marriage', 'Married', 'Separated', 'Single / not married',\n",
       "        'Widow'], dtype=object)]"
      ]
     },
     "execution_count": 175,
     "metadata": {},
     "output_type": "execute_result"
    }
   ],
   "source": [
    "ohe.categories_"
   ]
  },
  {
   "cell_type": "code",
   "execution_count": 176,
   "metadata": {},
   "outputs": [],
   "source": [
    "one_hot_encoded = ohe.transform(data[['family_type']])"
   ]
  },
  {
   "cell_type": "code",
   "execution_count": 177,
   "metadata": {},
   "outputs": [
    {
     "data": {
      "text/plain": [
       "array([[0., 1., 0., 0., 0.],\n",
       "       [1., 0., 0., 0., 0.],\n",
       "       [0., 1., 0., 0., 0.],\n",
       "       ...,\n",
       "       [1., 0., 0., 0., 0.],\n",
       "       [0., 0., 0., 1., 0.],\n",
       "       [1., 0., 0., 0., 0.]])"
      ]
     },
     "execution_count": 177,
     "metadata": {},
     "output_type": "execute_result"
    }
   ],
   "source": [
    "one_hot_encoded"
   ]
  },
  {
   "cell_type": "code",
   "execution_count": 178,
   "metadata": {},
   "outputs": [
    {
     "data": {
      "text/html": [
       "<div>\n",
       "<style scoped>\n",
       "    .dataframe tbody tr th:only-of-type {\n",
       "        vertical-align: middle;\n",
       "    }\n",
       "\n",
       "    .dataframe tbody tr th {\n",
       "        vertical-align: top;\n",
       "    }\n",
       "\n",
       "    .dataframe thead th {\n",
       "        text-align: right;\n",
       "    }\n",
       "</style>\n",
       "<table border=\"1\" class=\"dataframe\">\n",
       "  <thead>\n",
       "    <tr style=\"text-align: right;\">\n",
       "      <th></th>\n",
       "      <th>family_type</th>\n",
       "      <th>Civil marriage</th>\n",
       "      <th>Married</th>\n",
       "      <th>Separated</th>\n",
       "      <th>Single / not married</th>\n",
       "      <th>Widow</th>\n",
       "    </tr>\n",
       "  </thead>\n",
       "  <tbody>\n",
       "    <tr>\n",
       "      <th>0</th>\n",
       "      <td>Married</td>\n",
       "      <td>0.0</td>\n",
       "      <td>1.0</td>\n",
       "      <td>0.0</td>\n",
       "      <td>0.0</td>\n",
       "      <td>0.0</td>\n",
       "    </tr>\n",
       "    <tr>\n",
       "      <th>1</th>\n",
       "      <td>Civil marriage</td>\n",
       "      <td>1.0</td>\n",
       "      <td>0.0</td>\n",
       "      <td>0.0</td>\n",
       "      <td>0.0</td>\n",
       "      <td>0.0</td>\n",
       "    </tr>\n",
       "    <tr>\n",
       "      <th>2</th>\n",
       "      <td>Married</td>\n",
       "      <td>0.0</td>\n",
       "      <td>1.0</td>\n",
       "      <td>0.0</td>\n",
       "      <td>0.0</td>\n",
       "      <td>0.0</td>\n",
       "    </tr>\n",
       "    <tr>\n",
       "      <th>3</th>\n",
       "      <td>Married</td>\n",
       "      <td>0.0</td>\n",
       "      <td>1.0</td>\n",
       "      <td>0.0</td>\n",
       "      <td>0.0</td>\n",
       "      <td>0.0</td>\n",
       "    </tr>\n",
       "    <tr>\n",
       "      <th>4</th>\n",
       "      <td>Married</td>\n",
       "      <td>0.0</td>\n",
       "      <td>1.0</td>\n",
       "      <td>0.0</td>\n",
       "      <td>0.0</td>\n",
       "      <td>0.0</td>\n",
       "    </tr>\n",
       "    <tr>\n",
       "      <th>5</th>\n",
       "      <td>Married</td>\n",
       "      <td>0.0</td>\n",
       "      <td>1.0</td>\n",
       "      <td>0.0</td>\n",
       "      <td>0.0</td>\n",
       "      <td>0.0</td>\n",
       "    </tr>\n",
       "    <tr>\n",
       "      <th>6</th>\n",
       "      <td>Separated</td>\n",
       "      <td>0.0</td>\n",
       "      <td>0.0</td>\n",
       "      <td>1.0</td>\n",
       "      <td>0.0</td>\n",
       "      <td>0.0</td>\n",
       "    </tr>\n",
       "    <tr>\n",
       "      <th>7</th>\n",
       "      <td>Married</td>\n",
       "      <td>0.0</td>\n",
       "      <td>1.0</td>\n",
       "      <td>0.0</td>\n",
       "      <td>0.0</td>\n",
       "      <td>0.0</td>\n",
       "    </tr>\n",
       "    <tr>\n",
       "      <th>8</th>\n",
       "      <td>Married</td>\n",
       "      <td>0.0</td>\n",
       "      <td>1.0</td>\n",
       "      <td>0.0</td>\n",
       "      <td>0.0</td>\n",
       "      <td>0.0</td>\n",
       "    </tr>\n",
       "    <tr>\n",
       "      <th>9</th>\n",
       "      <td>Married</td>\n",
       "      <td>0.0</td>\n",
       "      <td>1.0</td>\n",
       "      <td>0.0</td>\n",
       "      <td>0.0</td>\n",
       "      <td>0.0</td>\n",
       "    </tr>\n",
       "  </tbody>\n",
       "</table>\n",
       "</div>"
      ],
      "text/plain": [
       "      family_type Civil marriage Married Separated Single / not married Widow\n",
       "0         Married            0.0     1.0       0.0                  0.0   0.0\n",
       "1  Civil marriage            1.0     0.0       0.0                  0.0   0.0\n",
       "2         Married            0.0     1.0       0.0                  0.0   0.0\n",
       "3         Married            0.0     1.0       0.0                  0.0   0.0\n",
       "4         Married            0.0     1.0       0.0                  0.0   0.0\n",
       "5         Married            0.0     1.0       0.0                  0.0   0.0\n",
       "6       Separated            0.0     0.0       1.0                  0.0   0.0\n",
       "7         Married            0.0     1.0       0.0                  0.0   0.0\n",
       "8         Married            0.0     1.0       0.0                  0.0   0.0\n",
       "9         Married            0.0     1.0       0.0                  0.0   0.0"
      ]
     },
     "execution_count": 178,
     "metadata": {},
     "output_type": "execute_result"
    }
   ],
   "source": [
    "columns = np.concatenate([np.array(['family_type']), ohe.categories_[0]])\n",
    "\n",
    "result = pd.DataFrame(data = np.concatenate([data[['family_type']].values,\n",
    "    one_hot_encoded.reshape((-1, ohe.categories_[0].shape[0]))], axis = 1), columns = columns)\n",
    "\n",
    "result.head(10)"
   ]
  },
  {
   "cell_type": "code",
   "execution_count": 179,
   "metadata": {},
   "outputs": [
    {
     "name": "stdout",
     "output_type": "stream",
     "text": [
      "['Higher education' 'Secondary / secondary special' 'Incomplete higher'\n",
      " 'Lower secondary' 'Academic degree']\n"
     ]
    }
   ],
   "source": [
    "edu_types = data['edu_type'].unique()\n",
    "print(edu_types)"
   ]
  },
  {
   "cell_type": "code",
   "execution_count": 180,
   "metadata": {},
   "outputs": [
    {
     "data": {
      "text/plain": [
       "0        0\n",
       "1        1\n",
       "2        0\n",
       "3        1\n",
       "4        0\n",
       "        ..\n",
       "26452    1\n",
       "26453    0\n",
       "26454    1\n",
       "26455    2\n",
       "26456    1\n",
       "Name: edu_type, Length: 26457, dtype: int64"
      ]
     },
     "execution_count": 180,
     "metadata": {},
     "output_type": "execute_result"
    }
   ],
   "source": [
    "edu_dict = {'Higher education' : 0,\n",
    "            'Secondary / secondary special' : 1,\n",
    "            'Incomplete higher' : 2,\n",
    "            'Lower secondary' : 3, \n",
    "            'Academic degree' : 4}\n",
    "\n",
    "data['edu_type'].map(edu_dict)\n",
    "data['edu_type'].apply(lambda x : edu_dict.get(x, -1))"
   ]
  },
  {
   "cell_type": "markdown",
   "metadata": {},
   "source": [
    "- [https://www.kaggle.com/subinium/11-categorical-encoders-and-benchmark](https://www.kaggle.com/subinium/11-categorical-encoders-and-benchmark)"
   ]
  },
  {
   "cell_type": "markdown",
   "metadata": {},
   "source": [
    "## 6. Test"
   ]
  },
  {
   "cell_type": "code",
   "execution_count": 181,
   "metadata": {},
   "outputs": [],
   "source": [
    "from sklearn.tree import DecisionTreeClassifier\n",
    "\n",
    "data = pd.read_csv(train_path)\n",
    "data = data.drop(['credit'], axis=1)\n",
    "cat_columns = [c for c, t in zip(data.dtypes.index, data.dtypes) if t=='O'] \n",
    "num_columns = [c for c in data.columns if c not in cat_columns]"
   ]
  },
  {
   "cell_type": "code",
   "execution_count": 182,
   "metadata": {},
   "outputs": [],
   "source": [
    "decision_tree = DecisionTreeClassifier(random_state=0, max_depth=2)\n",
    "\n",
    "decision_tree = decision_tree.fit(data[num_columns], target)"
   ]
  },
  {
   "cell_type": "code",
   "execution_count": 187,
   "metadata": {},
   "outputs": [
    {
     "data": {
      "text/html": [
       "<div>\n",
       "<style scoped>\n",
       "    .dataframe tbody tr th:only-of-type {\n",
       "        vertical-align: middle;\n",
       "    }\n",
       "\n",
       "    .dataframe tbody tr th {\n",
       "        vertical-align: top;\n",
       "    }\n",
       "\n",
       "    .dataframe thead th {\n",
       "        text-align: right;\n",
       "    }\n",
       "</style>\n",
       "<table border=\"1\" class=\"dataframe\">\n",
       "  <thead>\n",
       "    <tr style=\"text-align: right;\">\n",
       "      <th></th>\n",
       "      <th>index</th>\n",
       "      <th>child_num</th>\n",
       "      <th>income_total</th>\n",
       "      <th>DAYS_BIRTH</th>\n",
       "      <th>DAYS_EMPLOYED</th>\n",
       "      <th>FLAG_MOBIL</th>\n",
       "      <th>work_phone</th>\n",
       "      <th>phone</th>\n",
       "      <th>email</th>\n",
       "      <th>family_size</th>\n",
       "      <th>begin_month</th>\n",
       "    </tr>\n",
       "  </thead>\n",
       "  <tbody>\n",
       "    <tr>\n",
       "      <th>0</th>\n",
       "      <td>0</td>\n",
       "      <td>0</td>\n",
       "      <td>202500.0</td>\n",
       "      <td>-13899</td>\n",
       "      <td>-4709</td>\n",
       "      <td>1</td>\n",
       "      <td>0</td>\n",
       "      <td>0</td>\n",
       "      <td>0</td>\n",
       "      <td>2.0</td>\n",
       "      <td>-6.0</td>\n",
       "    </tr>\n",
       "    <tr>\n",
       "      <th>1</th>\n",
       "      <td>1</td>\n",
       "      <td>1</td>\n",
       "      <td>247500.0</td>\n",
       "      <td>-11380</td>\n",
       "      <td>-1540</td>\n",
       "      <td>1</td>\n",
       "      <td>0</td>\n",
       "      <td>0</td>\n",
       "      <td>1</td>\n",
       "      <td>3.0</td>\n",
       "      <td>-5.0</td>\n",
       "    </tr>\n",
       "    <tr>\n",
       "      <th>2</th>\n",
       "      <td>2</td>\n",
       "      <td>0</td>\n",
       "      <td>450000.0</td>\n",
       "      <td>-19087</td>\n",
       "      <td>-4434</td>\n",
       "      <td>1</td>\n",
       "      <td>0</td>\n",
       "      <td>1</td>\n",
       "      <td>0</td>\n",
       "      <td>2.0</td>\n",
       "      <td>-22.0</td>\n",
       "    </tr>\n",
       "    <tr>\n",
       "      <th>3</th>\n",
       "      <td>3</td>\n",
       "      <td>0</td>\n",
       "      <td>202500.0</td>\n",
       "      <td>-15088</td>\n",
       "      <td>-2092</td>\n",
       "      <td>1</td>\n",
       "      <td>0</td>\n",
       "      <td>1</td>\n",
       "      <td>0</td>\n",
       "      <td>2.0</td>\n",
       "      <td>-37.0</td>\n",
       "    </tr>\n",
       "    <tr>\n",
       "      <th>4</th>\n",
       "      <td>4</td>\n",
       "      <td>0</td>\n",
       "      <td>157500.0</td>\n",
       "      <td>-15037</td>\n",
       "      <td>-2105</td>\n",
       "      <td>1</td>\n",
       "      <td>0</td>\n",
       "      <td>0</td>\n",
       "      <td>0</td>\n",
       "      <td>2.0</td>\n",
       "      <td>-26.0</td>\n",
       "    </tr>\n",
       "    <tr>\n",
       "      <th>...</th>\n",
       "      <td>...</td>\n",
       "      <td>...</td>\n",
       "      <td>...</td>\n",
       "      <td>...</td>\n",
       "      <td>...</td>\n",
       "      <td>...</td>\n",
       "      <td>...</td>\n",
       "      <td>...</td>\n",
       "      <td>...</td>\n",
       "      <td>...</td>\n",
       "      <td>...</td>\n",
       "    </tr>\n",
       "    <tr>\n",
       "      <th>26452</th>\n",
       "      <td>26452</td>\n",
       "      <td>2</td>\n",
       "      <td>225000.0</td>\n",
       "      <td>-12079</td>\n",
       "      <td>-1984</td>\n",
       "      <td>1</td>\n",
       "      <td>0</td>\n",
       "      <td>0</td>\n",
       "      <td>0</td>\n",
       "      <td>4.0</td>\n",
       "      <td>-2.0</td>\n",
       "    </tr>\n",
       "    <tr>\n",
       "      <th>26453</th>\n",
       "      <td>26453</td>\n",
       "      <td>1</td>\n",
       "      <td>180000.0</td>\n",
       "      <td>-15291</td>\n",
       "      <td>-2475</td>\n",
       "      <td>1</td>\n",
       "      <td>0</td>\n",
       "      <td>0</td>\n",
       "      <td>0</td>\n",
       "      <td>2.0</td>\n",
       "      <td>-47.0</td>\n",
       "    </tr>\n",
       "    <tr>\n",
       "      <th>26454</th>\n",
       "      <td>26454</td>\n",
       "      <td>0</td>\n",
       "      <td>292500.0</td>\n",
       "      <td>-10082</td>\n",
       "      <td>-2015</td>\n",
       "      <td>1</td>\n",
       "      <td>0</td>\n",
       "      <td>0</td>\n",
       "      <td>0</td>\n",
       "      <td>2.0</td>\n",
       "      <td>-25.0</td>\n",
       "    </tr>\n",
       "    <tr>\n",
       "      <th>26455</th>\n",
       "      <td>26455</td>\n",
       "      <td>0</td>\n",
       "      <td>171000.0</td>\n",
       "      <td>-10145</td>\n",
       "      <td>-107</td>\n",
       "      <td>1</td>\n",
       "      <td>0</td>\n",
       "      <td>0</td>\n",
       "      <td>0</td>\n",
       "      <td>1.0</td>\n",
       "      <td>-59.0</td>\n",
       "    </tr>\n",
       "    <tr>\n",
       "      <th>26456</th>\n",
       "      <td>26456</td>\n",
       "      <td>0</td>\n",
       "      <td>81000.0</td>\n",
       "      <td>-19569</td>\n",
       "      <td>-1013</td>\n",
       "      <td>1</td>\n",
       "      <td>0</td>\n",
       "      <td>0</td>\n",
       "      <td>0</td>\n",
       "      <td>2.0</td>\n",
       "      <td>-9.0</td>\n",
       "    </tr>\n",
       "  </tbody>\n",
       "</table>\n",
       "<p>26457 rows × 11 columns</p>\n",
       "</div>"
      ],
      "text/plain": [
       "       index  child_num  income_total  DAYS_BIRTH  DAYS_EMPLOYED  FLAG_MOBIL  \\\n",
       "0          0          0      202500.0      -13899          -4709           1   \n",
       "1          1          1      247500.0      -11380          -1540           1   \n",
       "2          2          0      450000.0      -19087          -4434           1   \n",
       "3          3          0      202500.0      -15088          -2092           1   \n",
       "4          4          0      157500.0      -15037          -2105           1   \n",
       "...      ...        ...           ...         ...            ...         ...   \n",
       "26452  26452          2      225000.0      -12079          -1984           1   \n",
       "26453  26453          1      180000.0      -15291          -2475           1   \n",
       "26454  26454          0      292500.0      -10082          -2015           1   \n",
       "26455  26455          0      171000.0      -10145           -107           1   \n",
       "26456  26456          0       81000.0      -19569          -1013           1   \n",
       "\n",
       "       work_phone  phone  email  family_size  begin_month  \n",
       "0               0      0      0          2.0         -6.0  \n",
       "1               0      0      1          3.0         -5.0  \n",
       "2               0      1      0          2.0        -22.0  \n",
       "3               0      1      0          2.0        -37.0  \n",
       "4               0      0      0          2.0        -26.0  \n",
       "...           ...    ...    ...          ...          ...  \n",
       "26452           0      0      0          4.0         -2.0  \n",
       "26453           0      0      0          2.0        -47.0  \n",
       "26454           0      0      0          2.0        -25.0  \n",
       "26455           0      0      0          1.0        -59.0  \n",
       "26456           0      0      0          2.0         -9.0  \n",
       "\n",
       "[26457 rows x 11 columns]"
      ]
     },
     "execution_count": 187,
     "metadata": {},
     "output_type": "execute_result"
    }
   ],
   "source": [
    "data[num_columns]"
   ]
  },
  {
   "cell_type": "code",
   "execution_count": 183,
   "metadata": {},
   "outputs": [
    {
     "data": {
      "text/plain": [
       "array([[0.11462598, 0.19451681, 0.69085721],\n",
       "       [0.11462598, 0.19451681, 0.69085721],\n",
       "       [0.11462598, 0.19451681, 0.69085721],\n",
       "       ...,\n",
       "       [0.11462598, 0.19451681, 0.69085721],\n",
       "       [0.11462598, 0.19451681, 0.69085721],\n",
       "       [0.11462598, 0.19451681, 0.69085721]])"
      ]
     },
     "execution_count": 183,
     "metadata": {},
     "output_type": "execute_result"
    }
   ],
   "source": [
    "result = decision_tree.predict_proba(test_data[num_columns])\n",
    "result"
   ]
  },
  {
   "cell_type": "code",
   "execution_count": 184,
   "metadata": {},
   "outputs": [
    {
     "data": {
      "text/html": [
       "<div>\n",
       "<style scoped>\n",
       "    .dataframe tbody tr th:only-of-type {\n",
       "        vertical-align: middle;\n",
       "    }\n",
       "\n",
       "    .dataframe tbody tr th {\n",
       "        vertical-align: top;\n",
       "    }\n",
       "\n",
       "    .dataframe thead th {\n",
       "        text-align: right;\n",
       "    }\n",
       "</style>\n",
       "<table border=\"1\" class=\"dataframe\">\n",
       "  <thead>\n",
       "    <tr style=\"text-align: right;\">\n",
       "      <th></th>\n",
       "      <th>index</th>\n",
       "      <th>0</th>\n",
       "      <th>1</th>\n",
       "      <th>2</th>\n",
       "    </tr>\n",
       "  </thead>\n",
       "  <tbody>\n",
       "    <tr>\n",
       "      <th>0</th>\n",
       "      <td>26457</td>\n",
       "      <td>0</td>\n",
       "      <td>0</td>\n",
       "      <td>0</td>\n",
       "    </tr>\n",
       "    <tr>\n",
       "      <th>1</th>\n",
       "      <td>26458</td>\n",
       "      <td>0</td>\n",
       "      <td>0</td>\n",
       "      <td>0</td>\n",
       "    </tr>\n",
       "    <tr>\n",
       "      <th>2</th>\n",
       "      <td>26459</td>\n",
       "      <td>0</td>\n",
       "      <td>0</td>\n",
       "      <td>0</td>\n",
       "    </tr>\n",
       "    <tr>\n",
       "      <th>3</th>\n",
       "      <td>26460</td>\n",
       "      <td>0</td>\n",
       "      <td>0</td>\n",
       "      <td>0</td>\n",
       "    </tr>\n",
       "    <tr>\n",
       "      <th>4</th>\n",
       "      <td>26461</td>\n",
       "      <td>0</td>\n",
       "      <td>0</td>\n",
       "      <td>0</td>\n",
       "    </tr>\n",
       "  </tbody>\n",
       "</table>\n",
       "</div>"
      ],
      "text/plain": [
       "   index  0  1  2\n",
       "0  26457  0  0  0\n",
       "1  26458  0  0  0\n",
       "2  26459  0  0  0\n",
       "3  26460  0  0  0\n",
       "4  26461  0  0  0"
      ]
     },
     "execution_count": 184,
     "metadata": {},
     "output_type": "execute_result"
    }
   ],
   "source": [
    "answer = pd.read_csv(os.path.join(BASE_DIR, 'sample_submission.csv'))\n",
    "answer.head()"
   ]
  },
  {
   "cell_type": "code",
   "execution_count": 185,
   "metadata": {},
   "outputs": [
    {
     "data": {
      "text/html": [
       "<div>\n",
       "<style scoped>\n",
       "    .dataframe tbody tr th:only-of-type {\n",
       "        vertical-align: middle;\n",
       "    }\n",
       "\n",
       "    .dataframe tbody tr th {\n",
       "        vertical-align: top;\n",
       "    }\n",
       "\n",
       "    .dataframe thead th {\n",
       "        text-align: right;\n",
       "    }\n",
       "</style>\n",
       "<table border=\"1\" class=\"dataframe\">\n",
       "  <thead>\n",
       "    <tr style=\"text-align: right;\">\n",
       "      <th></th>\n",
       "      <th>index</th>\n",
       "      <th>0</th>\n",
       "      <th>1</th>\n",
       "      <th>2</th>\n",
       "    </tr>\n",
       "  </thead>\n",
       "  <tbody>\n",
       "    <tr>\n",
       "      <th>0</th>\n",
       "      <td>26457</td>\n",
       "      <td>0.114626</td>\n",
       "      <td>0.194517</td>\n",
       "      <td>0.690857</td>\n",
       "    </tr>\n",
       "    <tr>\n",
       "      <th>1</th>\n",
       "      <td>26458</td>\n",
       "      <td>0.114626</td>\n",
       "      <td>0.194517</td>\n",
       "      <td>0.690857</td>\n",
       "    </tr>\n",
       "    <tr>\n",
       "      <th>2</th>\n",
       "      <td>26459</td>\n",
       "      <td>0.114626</td>\n",
       "      <td>0.194517</td>\n",
       "      <td>0.690857</td>\n",
       "    </tr>\n",
       "    <tr>\n",
       "      <th>3</th>\n",
       "      <td>26460</td>\n",
       "      <td>0.114626</td>\n",
       "      <td>0.194517</td>\n",
       "      <td>0.690857</td>\n",
       "    </tr>\n",
       "    <tr>\n",
       "      <th>4</th>\n",
       "      <td>26461</td>\n",
       "      <td>0.114626</td>\n",
       "      <td>0.194517</td>\n",
       "      <td>0.690857</td>\n",
       "    </tr>\n",
       "  </tbody>\n",
       "</table>\n",
       "</div>"
      ],
      "text/plain": [
       "   index         0         1         2\n",
       "0  26457  0.114626  0.194517  0.690857\n",
       "1  26458  0.114626  0.194517  0.690857\n",
       "2  26459  0.114626  0.194517  0.690857\n",
       "3  26460  0.114626  0.194517  0.690857\n",
       "4  26461  0.114626  0.194517  0.690857"
      ]
     },
     "execution_count": 185,
     "metadata": {},
     "output_type": "execute_result"
    }
   ],
   "source": [
    "answer['0'] = result[:, 0]\n",
    "answer['1'] = result[:, 1]\n",
    "answer['2'] = result[:, 2]\n",
    "answer.head()"
   ]
  },
  {
   "cell_type": "code",
   "execution_count": 186,
   "metadata": {},
   "outputs": [],
   "source": [
    "answer.to_csv('test2.csv', index=False)"
   ]
  }
 ],
 "metadata": {
  "interpreter": {
   "hash": "3daa3430744053f4748a69c6948da8999f75f0c797f8ffecf263e95f10f995f6"
  },
  "kernelspec": {
   "display_name": "Python 3",
   "language": "python",
   "name": "python3"
  },
  "language_info": {
   "codemirror_mode": {
    "name": "ipython",
    "version": 3
   },
   "file_extension": ".py",
   "mimetype": "text/x-python",
   "name": "python",
   "nbconvert_exporter": "python",
   "pygments_lexer": "ipython3",
   "version": "3.8.5"
  }
 },
 "nbformat": 4,
 "nbformat_minor": 2
}
